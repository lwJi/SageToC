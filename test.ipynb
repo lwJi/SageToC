{
 "cells": [
  {
   "cell_type": "markdown",
   "id": "53617226-df33-414d-87f2-e93734711746",
   "metadata": {},
   "source": [
    "# Example $r^i=M^i{}_jM^j{}_ku^k$"
   ]
  },
  {
   "cell_type": "code",
   "execution_count": 1,
   "id": "d67872e8-8bf0-4906-b759-99e38d676ad6",
   "metadata": {},
   "outputs": [
    {
     "name": "stdout",
     "output_type": "stream",
     "text": [
      "Welcome to SageToC (a code generator)\n"
     ]
    }
   ],
   "source": [
    "import sys\n",
    "sys.path.insert(0, '~/Tools/SageToC')\n",
    "import SageToC\n",
    "import STC_global"
   ]
  },
  {
   "cell_type": "code",
   "execution_count": 2,
   "id": "d33f4fb3-09e8-4d2b-a036-82fe4a8fe288",
   "metadata": {},
   "outputs": [],
   "source": [
    "%display latex\n",
    "#Parallelism().set(nproc=4)\n",
    "\n",
    "# dimension and manifold\n",
    "STC_global.dim = 4\n",
    "STC_global.manifd = Manifold(STC_global.dim, name='M', latex_name=r'\\mathcal{M}', structure=\"Lorentzian\", start_index=0)\n",
    "\n",
    "# coordinats\n",
    "cartisan.<T, X, Y, Z> = STC_global.manifd.chart('t:(0,+oo) x y z:(-oo,+oo)')"
   ]
  },
  {
   "cell_type": "code",
   "execution_count": 3,
   "id": "72627ec7-b533-4a68-9907-d04e463233cb",
   "metadata": {},
   "outputs": [],
   "source": [
    "evolution = [\n",
    "    \"U[k]\",\n",
    "    \"MM[b2,-j], Symmetric[i,j]\"\n",
    "]"
   ]
  },
  {
   "cell_type": "code",
   "execution_count": 4,
   "id": "d3e753b8-a67b-49b8-a2b8-3b1e9ec44b75",
   "metadata": {},
   "outputs": [
    {
     "name": "stdout",
     "output_type": "stream",
     "text": [
      "['U[k]']\n",
      "tensor type: ( 0 ,  1 )\n",
      "['MM[b2,-j]', 'Symmetric[i,j]']\n",
      "tensor type: ( 1 ,  1 )\n"
     ]
    }
   ],
   "source": [
    "SageToC.read_varlist(evolution)"
   ]
  },
  {
   "cell_type": "code",
   "execution_count": 5,
   "id": "12e3c291-2b10-42a3-9193-ad35542b9445",
   "metadata": {},
   "outputs": [
    {
     "data": {
      "text/html": [
       "<html>\\[\\newcommand{\\Bold}[1]{\\mathbf{#1}}\\verb|-j|\\]</html>"
      ],
      "text/latex": [
       "$$\\newcommand{\\Bold}[1]{\\mathbf{#1}}\\verb|-j|$$"
      ],
      "text/plain": [
       "'-j'"
      ]
     },
     "execution_count": 5,
     "metadata": {},
     "output_type": "execute_result"
    }
   ],
   "source": [
    "SageToC.MM.absIndex[1]"
   ]
  },
  {
   "cell_type": "code",
   "execution_count": 7,
   "id": "c83508e1-559a-44b8-b5d5-65de0bd8fdfa",
   "metadata": {},
   "outputs": [
    {
     "data": {
      "text/html": [
       "<html>\\[\\newcommand{\\Bold}[1]{\\mathbf{#1}}MM\\]</html>"
      ],
      "text/latex": [
       "$$\\newcommand{\\Bold}[1]{\\mathbf{#1}}MM$$"
      ],
      "text/plain": [
       "Vector field MM on the 4-dimensional Lorentzian manifold M"
      ]
     },
     "execution_count": 7,
     "metadata": {},
     "output_type": "execute_result"
    }
   ],
   "source": [
    "STC_global.MM"
   ]
  },
  {
   "cell_type": "markdown",
   "id": "f7a5ed15-d5ff-4cdd-a3db-3de7898c3615",
   "metadata": {},
   "source": [
    "## Sage"
   ]
  },
  {
   "cell_type": "markdown",
   "id": "d669f277-c41c-43b8-a06f-09636f2e5a7c",
   "metadata": {},
   "source": [
    "### test"
   ]
  },
  {
   "cell_type": "code",
   "execution_count": 5,
   "id": "f740c081-0471-4c12-850a-29812f242e34",
   "metadata": {},
   "outputs": [],
   "source": [
    "temp = STC_manifd.tensor_field(0,2, name='M', sym=(0,1))"
   ]
  },
  {
   "cell_type": "code",
   "execution_count": null,
   "id": "41b2e753-318d-4fa6-b636-61e02c197d71",
   "metadata": {},
   "outputs": [],
   "source": [
    "for var in varlist:\n",
    "    \n",
    "    # globals()[] = STC_manifd.tensor_field("
   ]
  },
  {
   "cell_type": "code",
   "execution_count": 6,
   "id": "8a3c60c2-3725-4c85-a9cf-58341f0027b0",
   "metadata": {},
   "outputs": [],
   "source": [
    "U = STC_manifd.tensor_field(1,0, name='u')"
   ]
  },
  {
   "cell_type": "code",
   "execution_count": 7,
   "id": "e2be717e-86ae-4df5-9206-b199ad7e3a73",
   "metadata": {},
   "outputs": [
    {
     "data": {
      "text/html": [
       "<html>\\[\\newcommand{\\Bold}[1]{\\mathbf{#1}}\\verb|u|\\]</html>"
      ],
      "text/latex": [
       "$$\\newcommand{\\Bold}[1]{\\mathbf{#1}}\\verb|u|$$"
      ],
      "text/plain": [
       "'u'"
      ]
     },
     "execution_count": 7,
     "metadata": {},
     "output_type": "execute_result"
    }
   ],
   "source": [
    "U._name"
   ]
  },
  {
   "cell_type": "code",
   "execution_count": 9,
   "id": "0663d91e-c9c1-42f8-9ead-eb3af971be21",
   "metadata": {},
   "outputs": [],
   "source": [
    "temp = M._sym"
   ]
  },
  {
   "cell_type": "code",
   "execution_count": 10,
   "id": "b7afd807-18a2-4d14-8f02-8c9445b40527",
   "metadata": {},
   "outputs": [
    {
     "data": {
      "text/html": [
       "<html>\\[\\newcommand{\\Bold}[1]{\\mathbf{#1}}\\left(0, 1\\right)\\]</html>"
      ],
      "text/latex": [
       "$$\\newcommand{\\Bold}[1]{\\mathbf{#1}}\\left(0, 1\\right)$$"
      ],
      "text/plain": [
       "(0, 1)"
      ]
     },
     "execution_count": 10,
     "metadata": {},
     "output_type": "execute_result"
    }
   ],
   "source": [
    "temp[0]"
   ]
  },
  {
   "cell_type": "code",
   "execution_count": 11,
   "id": "68dd67c6-1ec0-49c2-905e-0b8d89995804",
   "metadata": {},
   "outputs": [
    {
     "name": "stdout",
     "output_type": "stream",
     "text": [
      "symmetry: (0, 1); no antisymmetry\n"
     ]
    }
   ],
   "source": [
    "M.symmetries()"
   ]
  },
  {
   "cell_type": "markdown",
   "id": "c89897b3-2125-43fd-a03f-dd8bffb22848",
   "metadata": {
    "tags": []
   },
   "source": [
    "## Read str"
   ]
  },
  {
   "cell_type": "code",
   "execution_count": 10,
   "id": "8821444f-d25e-4ecd-8676-314a802dac81",
   "metadata": {},
   "outputs": [],
   "source": [
    "index = []\n",
    "for ii in string.ascii_lowercase:\n",
    "    index.append(ii)"
   ]
  },
  {
   "cell_type": "code",
   "execution_count": 12,
   "id": "b60014ee-c908-4da8-a0ff-6df48223a99e",
   "metadata": {},
   "outputs": [
    {
     "data": {
      "text/html": [
       "<html>\\[\\newcommand{\\Bold}[1]{\\mathbf{#1}}\\left[\\verb|a|, \\verb|b|, \\verb|c|, \\verb|d|, \\verb|e|, \\verb|f|, \\verb|g|, \\verb|h|, \\verb|i|, \\verb|j|, \\verb|k|, \\verb|l|, \\verb|m|, \\verb|n|, \\verb|o|, \\verb|p|, \\verb|q|, \\verb|r|, \\verb|s|, \\verb|t|, \\verb|u|, \\verb|v|, \\verb|w|, \\verb|x|, \\verb|y|, \\verb|z|\\right]\\]</html>"
      ],
      "text/latex": [
       "$$\\newcommand{\\Bold}[1]{\\mathbf{#1}}\\left[\\verb|a|, \\verb|b|, \\verb|c|, \\verb|d|, \\verb|e|, \\verb|f|, \\verb|g|, \\verb|h|, \\verb|i|, \\verb|j|, \\verb|k|, \\verb|l|, \\verb|m|, \\verb|n|, \\verb|o|, \\verb|p|, \\verb|q|, \\verb|r|, \\verb|s|, \\verb|t|, \\verb|u|, \\verb|v|, \\verb|w|, \\verb|x|, \\verb|y|, \\verb|z|\\right]$$"
      ],
      "text/plain": [
       "['a',\n",
       " 'b',\n",
       " 'c',\n",
       " 'd',\n",
       " 'e',\n",
       " 'f',\n",
       " 'g',\n",
       " 'h',\n",
       " 'i',\n",
       " 'j',\n",
       " 'k',\n",
       " 'l',\n",
       " 'm',\n",
       " 'n',\n",
       " 'o',\n",
       " 'p',\n",
       " 'q',\n",
       " 'r',\n",
       " 's',\n",
       " 't',\n",
       " 'u',\n",
       " 'v',\n",
       " 'w',\n",
       " 'x',\n",
       " 'y',\n",
       " 'z']"
      ]
     },
     "execution_count": 12,
     "metadata": {},
     "output_type": "execute_result"
    }
   ],
   "source": [
    "index"
   ]
  },
  {
   "cell_type": "code",
   "execution_count": 12,
   "id": "f0d0b9e5-e9c8-4216-acaa-3f1149d5d5bd",
   "metadata": {},
   "outputs": [
    {
     "data": {
      "text/html": [
       "<html>\\[\\newcommand{\\Bold}[1]{\\mathbf{#1}}\\left(a, b, c, d, e, f, g, h, i, j, k, l, m, n, o, p, q, r, s, t, u, v, w, x, y, z\\right)\\]</html>"
      ],
      "text/latex": [
       "$$\\newcommand{\\Bold}[1]{\\mathbf{#1}}\\left(a, b, c, d, e, f, g, h, i, j, k, l, m, n, o, p, q, r, s, t, u, v, w, x, y, z\\right)$$"
      ],
      "text/plain": [
       "(a, b, c, d, e, f, g, h, i, j, k, l, m, n, o, p, q, r, s, t, u, v, w, x, y, z)"
      ]
     },
     "execution_count": 12,
     "metadata": {},
     "output_type": "execute_result"
    }
   ],
   "source": [
    "var(index)"
   ]
  }
 ],
 "metadata": {
  "kernelspec": {
   "display_name": "SageMath 9.5",
   "language": "sage",
   "name": "sagemath-9.5"
  },
  "language_info": {
   "codemirror_mode": {
    "name": "ipython",
    "version": 3
   },
   "file_extension": ".py",
   "mimetype": "text/x-python",
   "name": "python",
   "nbconvert_exporter": "python",
   "pygments_lexer": "ipython3",
   "version": "3.9.9"
  }
 },
 "nbformat": 4,
 "nbformat_minor": 5
}
