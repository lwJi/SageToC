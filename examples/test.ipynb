{
 "cells": [
  {
   "cell_type": "markdown",
   "id": "53617226-df33-414d-87f2-e93734711746",
   "metadata": {
    "tags": []
   },
   "source": [
    "# Example $d_tu^i=M^i{}_jM^j{}_ku^k$"
   ]
  },
  {
   "cell_type": "markdown",
   "id": "07be7a8e-4d00-43cb-bb12-9f248f2a65bf",
   "metadata": {},
   "source": [
    "## Import modules"
   ]
  },
  {
   "cell_type": "code",
   "execution_count": 1,
   "id": "d67872e8-8bf0-4906-b759-99e38d676ad6",
   "metadata": {
    "tags": []
   },
   "outputs": [
    {
     "name": "stdout",
     "output_type": "stream",
     "text": [
      "=======================================\n",
      " Welcome to SageToC (a code generator) \n",
      "=======================================\n"
     ]
    }
   ],
   "source": [
    "import os, sys\n",
    "sys.path += ['..', '../Codes']\n",
    "import SageToC as Sg\n",
    "import Nmesh\n",
    "from Nmesh import print_to_cfile as pr\n",
    "from misc_functions import ManipulateMode as mmode"
   ]
  },
  {
   "cell_type": "markdown",
   "id": "d6d270c0-c821-437a-b175-47d9fb01d7fc",
   "metadata": {},
   "source": [
    "## Set dimension and manifold"
   ]
  },
  {
   "cell_type": "code",
   "execution_count": 2,
   "id": "d33f4fb3-09e8-4d2b-a036-82fe4a8fe288",
   "metadata": {},
   "outputs": [],
   "source": [
    "%display latex\n",
    "#Parallelism().set(nproc=4)\n",
    "\n",
    "# dimension and manifold\n",
    "Sg.dimens = 3\n",
    "Sg.manifd = Manifold(Sg.dimens, name='M', latex_name=r'\\mathcal{M}', structure=\"Lorentzian\", start_index=0)\n",
    "Sg.manifd.set_calculus_method('sympy')\n",
    "\n",
    "# coordinats\n",
    "#cartesian.<T, X, Y, Z> = Sg.manifd.chart('t:(0,+oo) x y z:(-oo,+oo)')\n",
    "cartesian.<X, Y, Z> = Sg.manifd.chart('x y z:(-oo,+oo)')"
   ]
  },
  {
   "cell_type": "markdown",
   "id": "0be38c17-edb3-4377-bc1e-d6a6c15d0568",
   "metadata": {},
   "source": [
    "## Variables lists"
   ]
  },
  {
   "cell_type": "code",
   "execution_count": 3,
   "id": "72627ec7-b533-4a68-9907-d04e463233cb",
   "metadata": {},
   "outputs": [],
   "source": [
    "evolution = [\n",
    "    \"u[i]\"\n",
    "]\n",
    "temporary = [\n",
    "    \"v[i]\"\n",
    "]\n",
    "moreinput = [\n",
    "    \"M[i,-j], sym[{0,1}]\"\n",
    "    #\"alpha[]\"\n",
    "    #\"N[k,l], antisym[{0,1}]\",\n",
    "    #\"Phi[-k,-a,-b], sym[{1,2}]\",\n",
    "    #\"ddg[-k,-l,-a,-b], antisym[{0,1},{2,3}]\",\n",
    "    #\"ddg2[-k,-l,-a,-b], sym[{0,1}], antisym[{2,3}]\"\n",
    "]"
   ]
  },
  {
   "cell_type": "markdown",
   "id": "53703e5d-9e01-44ca-a178-220bd8810d66",
   "metadata": {},
   "source": [
    "### set up variable lists"
   ]
  },
  {
   "cell_type": "code",
   "execution_count": 4,
   "id": "d3e753b8-a67b-49b8-a2b8-3b1e9ec44b75",
   "metadata": {},
   "outputs": [
    {
     "name": "stdout",
     "output_type": "stream",
     "text": [
      "defining  u ...\n",
      "mode =  set_comp_gf_independent\n",
      "defining  dtu ...\n",
      "mode =  set_comp_gf_independent\n",
      "defining  v ...\n",
      "mode =  set_comp_temp\n",
      "defining  M ...\n",
      "mode =  set_comp_gf_independent\n"
     ]
    }
   ],
   "source": [
    "Evol = Sg.EvolutionVarlist(evolution)\n",
    "dtEvol = Evol.prefix()\n",
    "Temp = Sg.TemporaryVarlist(temporary)\n",
    "MoreInput = Sg.MoreInputVarlist(moreinput)"
   ]
  },
  {
   "cell_type": "markdown",
   "id": "995de3f2-0c75-4e51-843e-41f003c7b575",
   "metadata": {
    "jp-MarkdownHeadingCollapsed": true,
    "tags": []
   },
   "source": [
    "#### test"
   ]
  },
  {
   "cell_type": "code",
   "execution_count": 5,
   "id": "ef2e1b44-3089-4670-b336-6edbc8bf24d3",
   "metadata": {},
   "outputs": [
    {
     "data": {
      "text/html": [
       "<html>\\[\\newcommand{\\Bold}[1]{\\mathbf{#1}}\\left[\\left[\\verb|u1|, 0\\right], \\left[\\verb|u2|, 1\\right], \\left[\\verb|u3|, 2\\right], \\left[\\verb|dtu1|, 0\\right], \\left[\\verb|dtu2|, 1\\right], \\left[\\verb|dtu3|, 2\\right], \\left[\\verb|v1|, 0\\right], \\left[\\verb|v2|, 1\\right], \\left[\\verb|v3|, 2\\right], \\left[\\verb|M11|, 0\\right], \\left[\\verb|M12|, 1\\right], \\left[\\verb|M13|, 2\\right], \\left[\\verb|M22|, 3\\right], \\left[\\verb|M23|, 4\\right], \\left[\\verb|M33|, 5\\right], \\left[\\verb|N12|, 0\\right], \\left[\\verb|N13|, 1\\right], \\left[\\verb|N23|, 2\\right], \\left[\\verb|Phi111|, 0\\right], \\left[\\verb|Phi112|, 1\\right], \\left[\\verb|Phi113|, 2\\right], \\left[\\verb|Phi122|, 3\\right], \\left[\\verb|Phi123|, 4\\right], \\left[\\verb|Phi133|, 5\\right], \\left[\\verb|Phi211|, 6\\right], \\left[\\verb|Phi212|, 7\\right], \\left[\\verb|Phi213|, 8\\right], \\left[\\verb|Phi222|, 9\\right], \\left[\\verb|Phi223|, 10\\right], \\left[\\verb|Phi233|, 11\\right], \\left[\\verb|Phi311|, 12\\right], \\left[\\verb|Phi312|, 13\\right], \\left[\\verb|Phi313|, 14\\right], \\left[\\verb|Phi322|, 15\\right], \\left[\\verb|Phi323|, 16\\right], \\left[\\verb|Phi333|, 17\\right], \\left[\\verb|ddg1212|, 0\\right], \\left[\\verb|ddg1213|, 1\\right], \\left[\\verb|ddg1223|, 2\\right], \\left[\\verb|ddg1312|, 3\\right], \\left[\\verb|ddg1313|, 4\\right], \\left[\\verb|ddg1323|, 5\\right], \\left[\\verb|ddg2312|, 6\\right], \\left[\\verb|ddg2313|, 7\\right], \\left[\\verb|ddg2323|, 8\\right], \\left[\\verb|ddg21112|, 9\\right], \\left[\\verb|ddg21113|, 10\\right], \\left[\\verb|ddg21123|, 11\\right], \\left[\\verb|ddg21212|, 12\\right], \\left[\\verb|ddg21213|, 13\\right], \\left[\\verb|ddg21223|, 14\\right], \\left[\\verb|ddg21312|, 15\\right], \\left[\\verb|ddg21313|, 16\\right], \\left[\\verb|ddg21323|, 17\\right], \\left[\\verb|ddg22212|, 18\\right], \\left[\\verb|ddg22213|, 19\\right], \\left[\\verb|ddg22223|, 20\\right], \\left[\\verb|ddg22312|, 21\\right], \\left[\\verb|ddg22313|, 22\\right], \\left[\\verb|ddg22323|, 23\\right], \\left[\\verb|ddg23312|, 24\\right], \\left[\\verb|ddg23313|, 25\\right], \\left[\\verb|ddg23323|, 26\\right]\\right]\\]</html>"
      ],
      "text/latex": [
       "$$\\newcommand{\\Bold}[1]{\\mathbf{#1}}\\left[\\left[\\verb|u1|, 0\\right], \\left[\\verb|u2|, 1\\right], \\left[\\verb|u3|, 2\\right], \\left[\\verb|dtu1|, 0\\right], \\left[\\verb|dtu2|, 1\\right], \\left[\\verb|dtu3|, 2\\right], \\left[\\verb|v1|, 0\\right], \\left[\\verb|v2|, 1\\right], \\left[\\verb|v3|, 2\\right], \\left[\\verb|M11|, 0\\right], \\left[\\verb|M12|, 1\\right], \\left[\\verb|M13|, 2\\right], \\left[\\verb|M22|, 3\\right], \\left[\\verb|M23|, 4\\right], \\left[\\verb|M33|, 5\\right], \\left[\\verb|N12|, 0\\right], \\left[\\verb|N13|, 1\\right], \\left[\\verb|N23|, 2\\right], \\left[\\verb|Phi111|, 0\\right], \\left[\\verb|Phi112|, 1\\right], \\left[\\verb|Phi113|, 2\\right], \\left[\\verb|Phi122|, 3\\right], \\left[\\verb|Phi123|, 4\\right], \\left[\\verb|Phi133|, 5\\right], \\left[\\verb|Phi211|, 6\\right], \\left[\\verb|Phi212|, 7\\right], \\left[\\verb|Phi213|, 8\\right], \\left[\\verb|Phi222|, 9\\right], \\left[\\verb|Phi223|, 10\\right], \\left[\\verb|Phi233|, 11\\right], \\left[\\verb|Phi311|, 12\\right], \\left[\\verb|Phi312|, 13\\right], \\left[\\verb|Phi313|, 14\\right], \\left[\\verb|Phi322|, 15\\right], \\left[\\verb|Phi323|, 16\\right], \\left[\\verb|Phi333|, 17\\right], \\left[\\verb|ddg1212|, 0\\right], \\left[\\verb|ddg1213|, 1\\right], \\left[\\verb|ddg1223|, 2\\right], \\left[\\verb|ddg1312|, 3\\right], \\left[\\verb|ddg1313|, 4\\right], \\left[\\verb|ddg1323|, 5\\right], \\left[\\verb|ddg2312|, 6\\right], \\left[\\verb|ddg2313|, 7\\right], \\left[\\verb|ddg2323|, 8\\right], \\left[\\verb|ddg21112|, 9\\right], \\left[\\verb|ddg21113|, 10\\right], \\left[\\verb|ddg21123|, 11\\right], \\left[\\verb|ddg21212|, 12\\right], \\left[\\verb|ddg21213|, 13\\right], \\left[\\verb|ddg21223|, 14\\right], \\left[\\verb|ddg21312|, 15\\right], \\left[\\verb|ddg21313|, 16\\right], \\left[\\verb|ddg21323|, 17\\right], \\left[\\verb|ddg22212|, 18\\right], \\left[\\verb|ddg22213|, 19\\right], \\left[\\verb|ddg22223|, 20\\right], \\left[\\verb|ddg22312|, 21\\right], \\left[\\verb|ddg22313|, 22\\right], \\left[\\verb|ddg22323|, 23\\right], \\left[\\verb|ddg23312|, 24\\right], \\left[\\verb|ddg23313|, 25\\right], \\left[\\verb|ddg23323|, 26\\right]\\right]$$"
      ],
      "text/plain": [
       "[['u1', 0],\n",
       " ['u2', 1],\n",
       " ['u3', 2],\n",
       " ['dtu1', 0],\n",
       " ['dtu2', 1],\n",
       " ['dtu3', 2],\n",
       " ['v1', 0],\n",
       " ['v2', 1],\n",
       " ['v3', 2],\n",
       " ['M11', 0],\n",
       " ['M12', 1],\n",
       " ['M13', 2],\n",
       " ['M22', 3],\n",
       " ['M23', 4],\n",
       " ['M33', 5],\n",
       " ['N12', 0],\n",
       " ['N13', 1],\n",
       " ['N23', 2],\n",
       " ['Phi111', 0],\n",
       " ['Phi112', 1],\n",
       " ['Phi113', 2],\n",
       " ['Phi122', 3],\n",
       " ['Phi123', 4],\n",
       " ['Phi133', 5],\n",
       " ['Phi211', 6],\n",
       " ['Phi212', 7],\n",
       " ['Phi213', 8],\n",
       " ['Phi222', 9],\n",
       " ['Phi223', 10],\n",
       " ['Phi233', 11],\n",
       " ['Phi311', 12],\n",
       " ['Phi312', 13],\n",
       " ['Phi313', 14],\n",
       " ['Phi322', 15],\n",
       " ['Phi323', 16],\n",
       " ['Phi333', 17],\n",
       " ['ddg1212', 0],\n",
       " ['ddg1213', 1],\n",
       " ['ddg1223', 2],\n",
       " ['ddg1312', 3],\n",
       " ['ddg1313', 4],\n",
       " ['ddg1323', 5],\n",
       " ['ddg2312', 6],\n",
       " ['ddg2313', 7],\n",
       " ['ddg2323', 8],\n",
       " ['ddg21112', 9],\n",
       " ['ddg21113', 10],\n",
       " ['ddg21123', 11],\n",
       " ['ddg21212', 12],\n",
       " ['ddg21213', 13],\n",
       " ['ddg21223', 14],\n",
       " ['ddg21312', 15],\n",
       " ['ddg21313', 16],\n",
       " ['ddg21323', 17],\n",
       " ['ddg22212', 18],\n",
       " ['ddg22213', 19],\n",
       " ['ddg22223', 20],\n",
       " ['ddg22312', 21],\n",
       " ['ddg22313', 22],\n",
       " ['ddg22323', 23],\n",
       " ['ddg23312', 24],\n",
       " ['ddg23313', 25],\n",
       " ['ddg23323', 26]]"
      ]
     },
     "execution_count": 5,
     "metadata": {},
     "output_type": "execute_result"
    }
   ],
   "source": [
    "Sg.map_component_to_varlist"
   ]
  },
  {
   "cell_type": "code",
   "execution_count": 7,
   "id": "f0c5dfec-c669-4d56-b77a-1517eb25667e",
   "metadata": {},
   "outputs": [
    {
     "name": "stdout",
     "output_type": "stream",
     "text": [
      "['dtu[i]']\n"
     ]
    }
   ],
   "source": [
    "print(dtEvol.varlist)"
   ]
  },
  {
   "cell_type": "code",
   "execution_count": 8,
   "id": "7c2f08e7-5b14-469b-889d-f5d510be6a0e",
   "metadata": {},
   "outputs": [
    {
     "name": "stdout",
     "output_type": "stream",
     "text": [
      "['u[i]']\n"
     ]
    }
   ],
   "source": [
    "print(Evol.varlist)"
   ]
  },
  {
   "cell_type": "code",
   "execution_count": 12,
   "id": "da0a1105-c545-4c28-bb2e-7d52dac9751b",
   "metadata": {
    "tags": []
   },
   "outputs": [
    {
     "data": {
      "text/html": [
       "<html>\\[\\newcommand{\\Bold}[1]{\\mathbf{#1}}\\begin{array}{lcl} M_{ \\phantom{\\, t} \\, t }^{ \\, t \\phantom{\\, t} } & = & M_{00 ijk } \\\\ M_{ \\phantom{\\, t} \\, x }^{ \\, t \\phantom{\\, x} } & = & M_{01 ijk } \\\\ M_{ \\phantom{\\, t} \\, y }^{ \\, t \\phantom{\\, y} } & = & M_{02 ijk } \\\\ M_{ \\phantom{\\, t} \\, z }^{ \\, t \\phantom{\\, z} } & = & M_{03 ijk } \\\\ M_{ \\phantom{\\, x} \\, t }^{ \\, x \\phantom{\\, t} } & = & M_{01 ijk } \\\\ M_{ \\phantom{\\, x} \\, x }^{ \\, x \\phantom{\\, x} } & = & M_{11 ijk } \\\\ M_{ \\phantom{\\, x} \\, y }^{ \\, x \\phantom{\\, y} } & = & M_{12 ijk } \\\\ M_{ \\phantom{\\, x} \\, z }^{ \\, x \\phantom{\\, z} } & = & M_{13 ijk } \\\\ M_{ \\phantom{\\, y} \\, t }^{ \\, y \\phantom{\\, t} } & = & M_{02 ijk } \\\\ M_{ \\phantom{\\, y} \\, x }^{ \\, y \\phantom{\\, x} } & = & M_{12 ijk } \\\\ M_{ \\phantom{\\, y} \\, y }^{ \\, y \\phantom{\\, y} } & = & M_{22 ijk } \\\\ M_{ \\phantom{\\, y} \\, z }^{ \\, y \\phantom{\\, z} } & = & M_{23 ijk } \\\\ M_{ \\phantom{\\, z} \\, t }^{ \\, z \\phantom{\\, t} } & = & M_{03 ijk } \\\\ M_{ \\phantom{\\, z} \\, x }^{ \\, z \\phantom{\\, x} } & = & M_{13 ijk } \\\\ M_{ \\phantom{\\, z} \\, y }^{ \\, z \\phantom{\\, y} } & = & M_{23 ijk } \\\\ M_{ \\phantom{\\, z} \\, z }^{ \\, z \\phantom{\\, z} } & = & M_{33 ijk } \\end{array}\\]</html>"
      ],
      "text/latex": [
       "$$\\newcommand{\\Bold}[1]{\\mathbf{#1}}\\begin{array}{lcl} M_{ \\phantom{\\, t} \\, t }^{ \\, t \\phantom{\\, t} } & = & M_{00 ijk } \\\\ M_{ \\phantom{\\, t} \\, x }^{ \\, t \\phantom{\\, x} } & = & M_{01 ijk } \\\\ M_{ \\phantom{\\, t} \\, y }^{ \\, t \\phantom{\\, y} } & = & M_{02 ijk } \\\\ M_{ \\phantom{\\, t} \\, z }^{ \\, t \\phantom{\\, z} } & = & M_{03 ijk } \\\\ M_{ \\phantom{\\, x} \\, t }^{ \\, x \\phantom{\\, t} } & = & M_{01 ijk } \\\\ M_{ \\phantom{\\, x} \\, x }^{ \\, x \\phantom{\\, x} } & = & M_{11 ijk } \\\\ M_{ \\phantom{\\, x} \\, y }^{ \\, x \\phantom{\\, y} } & = & M_{12 ijk } \\\\ M_{ \\phantom{\\, x} \\, z }^{ \\, x \\phantom{\\, z} } & = & M_{13 ijk } \\\\ M_{ \\phantom{\\, y} \\, t }^{ \\, y \\phantom{\\, t} } & = & M_{02 ijk } \\\\ M_{ \\phantom{\\, y} \\, x }^{ \\, y \\phantom{\\, x} } & = & M_{12 ijk } \\\\ M_{ \\phantom{\\, y} \\, y }^{ \\, y \\phantom{\\, y} } & = & M_{22 ijk } \\\\ M_{ \\phantom{\\, y} \\, z }^{ \\, y \\phantom{\\, z} } & = & M_{23 ijk } \\\\ M_{ \\phantom{\\, z} \\, t }^{ \\, z \\phantom{\\, t} } & = & M_{03 ijk } \\\\ M_{ \\phantom{\\, z} \\, x }^{ \\, z \\phantom{\\, x} } & = & M_{13 ijk } \\\\ M_{ \\phantom{\\, z} \\, y }^{ \\, z \\phantom{\\, y} } & = & M_{23 ijk } \\\\ M_{ \\phantom{\\, z} \\, z }^{ \\, z \\phantom{\\, z} } & = & M_{33 ijk } \\end{array}$$"
      ],
      "text/plain": [
       "M^t_t = M00_ijk_ \n",
       "M^t_x = M01_ijk_ \n",
       "M^t_y = M02_ijk_ \n",
       "M^t_z = M03_ijk_ \n",
       "M^x_t = M01_ijk_ \n",
       "M^x_x = M11_ijk_ \n",
       "M^x_y = M12_ijk_ \n",
       "M^x_z = M13_ijk_ \n",
       "M^y_t = M02_ijk_ \n",
       "M^y_x = M12_ijk_ \n",
       "M^y_y = M22_ijk_ \n",
       "M^y_z = M23_ijk_ \n",
       "M^z_t = M03_ijk_ \n",
       "M^z_x = M13_ijk_ \n",
       "M^z_y = M23_ijk_ \n",
       "M^z_z = M33_ijk_ "
      ]
     },
     "execution_count": 12,
     "metadata": {},
     "output_type": "execute_result"
    }
   ],
   "source": [
    "Sg.M.display_comp()"
   ]
  },
  {
   "cell_type": "code",
   "execution_count": 3,
   "id": "21b51c96-3256-4f19-a396-1af1f74e0b2c",
   "metadata": {},
   "outputs": [],
   "source": [
    "import misc_functions as mf"
   ]
  },
  {
   "cell_type": "code",
   "execution_count": 10,
   "id": "2b9be6fe-6e68-4576-a334-7d406dddee26",
   "metadata": {},
   "outputs": [
    {
     "data": {
      "text/html": [
       "<html>\\[\\newcommand{\\Bold}[1]{\\mathbf{#1}}\\left[\\mathrm{True}, \\mathrm{False}\\right]\\]</html>"
      ],
      "text/latex": [
       "$$\\newcommand{\\Bold}[1]{\\mathbf{#1}}\\left[\\mathrm{True}, \\mathrm{False}\\right]$$"
      ],
      "text/plain": [
       "[True, False]"
      ]
     },
     "execution_count": 10,
     "metadata": {},
     "output_type": "execute_result"
    }
   ],
   "source": [
    "[mf.is_3d_aIndex('i'), mf.is_3d_aIndex('h')]"
   ]
  },
  {
   "cell_type": "code",
   "execution_count": 14,
   "id": "f3dd195b-9a62-4bea-9527-75f938feec6e",
   "metadata": {},
   "outputs": [
    {
     "data": {
      "text/html": [
       "<html>\\[\\newcommand{\\Bold}[1]{\\mathbf{#1}}\\left[\\mathrm{True}, \\mathrm{False}, \\mathrm{False}\\right]\\]</html>"
      ],
      "text/latex": [
       "$$\\newcommand{\\Bold}[1]{\\mathbf{#1}}\\left[\\mathrm{True}, \\mathrm{False}, \\mathrm{False}\\right]$$"
      ],
      "text/plain": [
       "[True, False, False]"
      ]
     },
     "execution_count": 14,
     "metadata": {},
     "output_type": "execute_result"
    }
   ],
   "source": [
    "[mf.is_4d_compIndex_in_3d_tensor('i', 0), mf.is_4d_compIndex_in_3d_tensor('i', 1), mf.is_4d_compIndex_in_3d_tensor('a', 0)]"
   ]
  },
  {
   "cell_type": "code",
   "execution_count": 10,
   "id": "f2398a7e-5809-42c5-b45e-d08a6730f13e",
   "metadata": {},
   "outputs": [
    {
     "data": {
      "text/html": [
       "<html>\\[\\newcommand{\\Bold}[1]{\\mathbf{#1}}\\left[\\mathrm{False}, \\mathrm{True}\\right]\\]</html>"
      ],
      "text/latex": [
       "$$\\newcommand{\\Bold}[1]{\\mathbf{#1}}\\left[\\mathrm{False}, \\mathrm{True}\\right]$$"
      ],
      "text/plain": [
       "[False, True]"
      ]
     },
     "execution_count": 10,
     "metadata": {},
     "output_type": "execute_result"
    }
   ],
   "source": [
    "[mf.is_4d_compIndexList_in_3d_tensor(['i','j'], [1,1]), mf.is_4d_compIndexList_in_3d_tensor(['i','j'], [2,0])]"
   ]
  },
  {
   "cell_type": "code",
   "execution_count": 6,
   "id": "78db5b21-04b4-45c7-a2c1-c2a667a65417",
   "metadata": {},
   "outputs": [
    {
     "data": {
      "text/html": [
       "<html>\\[\\newcommand{\\Bold}[1]{\\mathbf{#1}}\\left[\\mathrm{False}, \\mathrm{True}\\right]\\]</html>"
      ],
      "text/latex": [
       "$$\\newcommand{\\Bold}[1]{\\mathbf{#1}}\\left[\\mathrm{False}, \\mathrm{True}\\right]$$"
      ],
      "text/plain": [
       "[False, True]"
      ]
     },
     "execution_count": 6,
     "metadata": {},
     "output_type": "execute_result"
    }
   ],
   "source": [
    "[mf.is_4d_upCompIndexList_in_3d_tensor(['i','-j'], [1,0]), mf.is_4d_upCompIndexList_in_3d_tensor(['i','j'], [2,0])]"
   ]
  },
  {
   "cell_type": "code",
   "execution_count": null,
   "id": "def7e2e7-795e-41fe-a34a-3e662a272327",
   "metadata": {},
   "outputs": [],
   "source": []
  },
  {
   "cell_type": "markdown",
   "id": "31eb755a-a842-4cd3-9a37-5dc7ea7c6b3c",
   "metadata": {},
   "source": [
    "## Define right hand side of equaitons"
   ]
  },
  {
   "cell_type": "code",
   "execution_count": 5,
   "id": "f43b9d4f-5700-4d70-97bb-93414e079eb9",
   "metadata": {},
   "outputs": [],
   "source": [
    "# update the names (since its a cope from module Sg)\n",
    "from SageToC import *\n",
    "\n",
    "Sg.v_rhs = M(u)\n",
    "Sg.u_rhs_Msqr = M(v)\n",
    "Sg.u_rhs_otherwise = v"
   ]
  },
  {
   "cell_type": "markdown",
   "id": "ad8da9e7-e483-493f-9093-83c047f4cab3",
   "metadata": {
    "jp-MarkdownHeadingCollapsed": true,
    "tags": []
   },
   "source": [
    "#### test (cse)"
   ]
  },
  {
   "cell_type": "code",
   "execution_count": 28,
   "id": "f9fa908b-63c1-4a11-9fb5-a23602aeb539",
   "metadata": {
    "collapsed": true,
    "jupyter": {
     "outputs_hidden": true
    },
    "tags": []
   },
   "outputs": [
    {
     "data": {
      "text/html": [
       "<html>\\[\\newcommand{\\Bold}[1]{\\mathbf{#1}}\\begin{array}{lcl} M\\left(u\\right)_{\\phantom{\\, t}}^{ \\, t } & = & M_{00 ijk } u_{0 ijk } + M_{01 ijk } u_{1 ijk } + M_{02 ijk } u_{2 ijk } + M_{03 ijk } u_{3 ijk } \\\\ M\\left(u\\right)_{\\phantom{\\, x}}^{ \\, x } & = & M_{01 ijk } u_{0 ijk } + M_{11 ijk } u_{1 ijk } + M_{12 ijk } u_{2 ijk } + M_{13 ijk } u_{3 ijk } \\\\ M\\left(u\\right)_{\\phantom{\\, y}}^{ \\, y } & = & M_{02 ijk } u_{0 ijk } + M_{12 ijk } u_{1 ijk } + M_{22 ijk } u_{2 ijk } + M_{23 ijk } u_{3 ijk } \\\\ M\\left(u\\right)_{\\phantom{\\, z}}^{ \\, z } & = & M_{03 ijk } u_{0 ijk } + M_{13 ijk } u_{1 ijk } + M_{23 ijk } u_{2 ijk } + M_{33 ijk } u_{3 ijk } \\end{array}\\]</html>"
      ],
      "text/latex": [
       "$$\\newcommand{\\Bold}[1]{\\mathbf{#1}}\\begin{array}{lcl} M\\left(u\\right)_{\\phantom{\\, t}}^{ \\, t } & = & M_{00 ijk } u_{0 ijk } + M_{01 ijk } u_{1 ijk } + M_{02 ijk } u_{2 ijk } + M_{03 ijk } u_{3 ijk } \\\\ M\\left(u\\right)_{\\phantom{\\, x}}^{ \\, x } & = & M_{01 ijk } u_{0 ijk } + M_{11 ijk } u_{1 ijk } + M_{12 ijk } u_{2 ijk } + M_{13 ijk } u_{3 ijk } \\\\ M\\left(u\\right)_{\\phantom{\\, y}}^{ \\, y } & = & M_{02 ijk } u_{0 ijk } + M_{12 ijk } u_{1 ijk } + M_{22 ijk } u_{2 ijk } + M_{23 ijk } u_{3 ijk } \\\\ M\\left(u\\right)_{\\phantom{\\, z}}^{ \\, z } & = & M_{03 ijk } u_{0 ijk } + M_{13 ijk } u_{1 ijk } + M_{23 ijk } u_{2 ijk } + M_{33 ijk } u_{3 ijk } \\end{array}$$"
      ],
      "text/plain": [
       "M(u)^t = M00_ijk_*u0_ijk_ + M01_ijk_*u1_ijk_ + M02_ijk_*u2_ijk_ + M03_ijk_*u3_ijk_ \n",
       "M(u)^x = M01_ijk_*u0_ijk_ + M11_ijk_*u1_ijk_ + M12_ijk_*u2_ijk_ + M13_ijk_*u3_ijk_ \n",
       "M(u)^y = M02_ijk_*u0_ijk_ + M12_ijk_*u1_ijk_ + M22_ijk_*u2_ijk_ + M23_ijk_*u3_ijk_ \n",
       "M(u)^z = M03_ijk_*u0_ijk_ + M13_ijk_*u1_ijk_ + M23_ijk_*u2_ijk_ + M33_ijk_*u3_ijk_ "
      ]
     },
     "execution_count": 28,
     "metadata": {},
     "output_type": "execute_result"
    }
   ],
   "source": [
    "Sg.v_rhs.display_comp()"
   ]
  },
  {
   "cell_type": "code",
   "execution_count": 29,
   "id": "31aa9c13-2571-497f-9eee-d665c3ec3e06",
   "metadata": {
    "collapsed": true,
    "jupyter": {
     "outputs_hidden": true
    },
    "tags": []
   },
   "outputs": [
    {
     "data": {
      "text/html": [
       "<html>\\[\\newcommand{\\Bold}[1]{\\mathbf{#1}}\\begin{array}{lcl} M\\left(v\\right)_{\\phantom{\\, t}}^{ \\, t } & = & M_{00 ijk } v_{0 ijk } + M_{01 ijk } v_{1 ijk } + M_{02 ijk } v_{2 ijk } + M_{03 ijk } v_{3 ijk } \\\\ M\\left(v\\right)_{\\phantom{\\, x}}^{ \\, x } & = & M_{01 ijk } v_{0 ijk } + M_{11 ijk } v_{1 ijk } + M_{12 ijk } v_{2 ijk } + M_{13 ijk } v_{3 ijk } \\\\ M\\left(v\\right)_{\\phantom{\\, y}}^{ \\, y } & = & M_{02 ijk } v_{0 ijk } + M_{12 ijk } v_{1 ijk } + M_{22 ijk } v_{2 ijk } + M_{23 ijk } v_{3 ijk } \\\\ M\\left(v\\right)_{\\phantom{\\, z}}^{ \\, z } & = & M_{03 ijk } v_{0 ijk } + M_{13 ijk } v_{1 ijk } + M_{23 ijk } v_{2 ijk } + M_{33 ijk } v_{3 ijk } \\end{array}\\]</html>"
      ],
      "text/latex": [
       "$$\\newcommand{\\Bold}[1]{\\mathbf{#1}}\\begin{array}{lcl} M\\left(v\\right)_{\\phantom{\\, t}}^{ \\, t } & = & M_{00 ijk } v_{0 ijk } + M_{01 ijk } v_{1 ijk } + M_{02 ijk } v_{2 ijk } + M_{03 ijk } v_{3 ijk } \\\\ M\\left(v\\right)_{\\phantom{\\, x}}^{ \\, x } & = & M_{01 ijk } v_{0 ijk } + M_{11 ijk } v_{1 ijk } + M_{12 ijk } v_{2 ijk } + M_{13 ijk } v_{3 ijk } \\\\ M\\left(v\\right)_{\\phantom{\\, y}}^{ \\, y } & = & M_{02 ijk } v_{0 ijk } + M_{12 ijk } v_{1 ijk } + M_{22 ijk } v_{2 ijk } + M_{23 ijk } v_{3 ijk } \\\\ M\\left(v\\right)_{\\phantom{\\, z}}^{ \\, z } & = & M_{03 ijk } v_{0 ijk } + M_{13 ijk } v_{1 ijk } + M_{23 ijk } v_{2 ijk } + M_{33 ijk } v_{3 ijk } \\end{array}$$"
      ],
      "text/plain": [
       "M(v)^t = M00_ijk_*v0_ijk_ + M01_ijk_*v1_ijk_ + M02_ijk_*v2_ijk_ + M03_ijk_*v3_ijk_ \n",
       "M(v)^x = M01_ijk_*v0_ijk_ + M11_ijk_*v1_ijk_ + M12_ijk_*v2_ijk_ + M13_ijk_*v3_ijk_ \n",
       "M(v)^y = M02_ijk_*v0_ijk_ + M12_ijk_*v1_ijk_ + M22_ijk_*v2_ijk_ + M23_ijk_*v3_ijk_ \n",
       "M(v)^z = M03_ijk_*v0_ijk_ + M13_ijk_*v1_ijk_ + M23_ijk_*v2_ijk_ + M33_ijk_*v3_ijk_ "
      ]
     },
     "execution_count": 29,
     "metadata": {},
     "output_type": "execute_result"
    }
   ],
   "source": [
    "Sg.r_rhs.display_comp()"
   ]
  },
  {
   "cell_type": "code",
   "execution_count": 30,
   "id": "6e60da63-42cb-452c-8a9b-242f5f857080",
   "metadata": {
    "tags": []
   },
   "outputs": [
    {
     "data": {
      "text/html": [
       "<html>\\[\\newcommand{\\Bold}[1]{\\mathbf{#1}}\\verb|M00_ijk_*u0_ijk_|\\verb| |\\verb|+|\\verb| |\\verb|M01_ijk_*u1_ijk_|\\verb| |\\verb|+|\\verb| |\\verb|M02_ijk_*u2_ijk_|\\verb| |\\verb|+|\\verb| |\\verb|M03_ijk_*u3_ijk_|\\]</html>"
      ],
      "text/latex": [
       "$$\\newcommand{\\Bold}[1]{\\mathbf{#1}}\\verb|M00_ijk_*u0_ijk_|\\verb| |\\verb|+|\\verb| |\\verb|M01_ijk_*u1_ijk_|\\verb| |\\verb|+|\\verb| |\\verb|M02_ijk_*u2_ijk_|\\verb| |\\verb|+|\\verb| |\\verb|M03_ijk_*u3_ijk_|$$"
      ],
      "text/plain": [
       "M00_ijk_*u0_ijk_ + M01_ijk_*u1_ijk_ + M02_ijk_*u2_ijk_ + M03_ijk_*u3_ijk_"
      ]
     },
     "execution_count": 30,
     "metadata": {},
     "output_type": "execute_result"
    }
   ],
   "source": [
    "Sg.v_rhs[0].expr()"
   ]
  },
  {
   "cell_type": "code",
   "execution_count": 31,
   "id": "0aaa2aba-e7be-4b09-be7a-2831af122e8b",
   "metadata": {
    "tags": []
   },
   "outputs": [],
   "source": [
    "from sympy import cse"
   ]
  },
  {
   "cell_type": "code",
   "execution_count": 33,
   "id": "ba81ba33-26aa-43b0-82d4-515288ba4944",
   "metadata": {},
   "outputs": [
    {
     "data": {
      "text/html": [
       "<html>\\[\\newcommand{\\Bold}[1]{\\mathbf{#1}}\\left(\\left[\\right], \\left[\\verb|M00_ijk_*u0_ijk_|\\verb| |\\verb|+|\\verb| |\\verb|M01_ijk_*u1_ijk_|\\verb| |\\verb|+|\\verb| |\\verb|M02_ijk_*u2_ijk_|\\verb| |\\verb|+|\\verb| |\\verb|M03_ijk_*u3_ijk_|\\right]\\right)\\]</html>"
      ],
      "text/latex": [
       "$$\\newcommand{\\Bold}[1]{\\mathbf{#1}}\\left(\\left[\\right], \\left[\\verb|M00_ijk_*u0_ijk_|\\verb| |\\verb|+|\\verb| |\\verb|M01_ijk_*u1_ijk_|\\verb| |\\verb|+|\\verb| |\\verb|M02_ijk_*u2_ijk_|\\verb| |\\verb|+|\\verb| |\\verb|M03_ijk_*u3_ijk_|\\right]\\right)$$"
      ],
      "text/plain": [
       "([],\n",
       " [M00_ijk_*u0_ijk_ + M01_ijk_*u1_ijk_ + M02_ijk_*u2_ijk_ + M03_ijk_*u3_ijk_])"
      ]
     },
     "execution_count": 33,
     "metadata": {},
     "output_type": "execute_result"
    }
   ],
   "source": [
    "cse(Sg.v_rhs[0].expr())"
   ]
  },
  {
   "cell_type": "markdown",
   "id": "95268e76-35f2-446f-9c86-2ad5d0db45df",
   "metadata": {},
   "source": [
    "## Print to files"
   ]
  },
  {
   "cell_type": "code",
   "execution_count": 6,
   "id": "440eb5fb-3589-46ed-ba72-a5c8b0341fed",
   "metadata": {},
   "outputs": [
    {
     "name": "stdout",
     "output_type": "stream",
     "text": [
      "mode =  print_comp_init_vlr_independent\n",
      "mode =  print_comp_init_vlu_independent\n",
      "mode =  print_comp_init_more_input_output\n",
      "mode =  print_comp_eqn_temp\n",
      "mode =  print_comp_eqn_primary_with_suffix\n",
      "mode =  print_comp_eqn_primary_with_suffix\n"
     ]
    }
   ],
   "source": [
    "Sg.cfilename = \"test.c\"\n",
    "Sg.project = \"ADM\"\n",
    "if os.path.exists(Sg.cfilename):\n",
    "    os.remove(Sg.cfilename)\n",
    "    \n",
    "# set function of printing component initialization\n",
    "Sg.print_component_initialization = Nmesh.print_component_initialization\n",
    "\n",
    "# start writing\n",
    "pr(\"/* \" + Sg.cfilename + \" */\")\n",
    "pr(\"/* (c) Liwei Ji 05/2022 */\")\n",
    "pr(\"/* Produced with SageToC.py */\")\n",
    "pr()\n",
    "pr(\"extern t\" + Sg.project + \" \" + Sg.project + \"[1];\")\n",
    "pr()\n",
    "pr(\"void test(tVarList *vlu, tVarList *vlr)\")\n",
    "pr(\"{\")\n",
    "pr(\"tMesh *mesh = u->mesh;\")\n",
    "pr(\"int Msqr = GetvLax(Par(\\\"ADM_ConstraintNorm\\\"), \\\"Msqr\\\");\")\n",
    "pr()\n",
    "pr(\"formylnodes(mesh)\")\n",
    "pr(\"{\")\n",
    "pr(\"tNode *node = MyLnode;\")\n",
    "pr(\"int ijk;\")\n",
    "pr()\n",
    "pr(\"forpoints(node, ijk)\")\n",
    "pr(\"{\")\n",
    "pr(\"int iMxx = Ind(\\\"ADM_gxx\\\");\")\n",
    "pr()    \n",
    "dtEvol.printInit()\n",
    "Evol.printInit()\n",
    "MoreInput.printInit()\n",
    "pr()\n",
    "Temp.printEqn()\n",
    "pr()\n",
    "pr(\"if(Msqr) {\")\n",
    "pr()\n",
    "dtEvol.printEqn(mmode.print_comp_eqn_primary_with_suffix, \"_Msqr\")\n",
    "pr()\n",
    "pr(\"} else {\")\n",
    "pr()\n",
    "dtEvol.printEqn(mmode.print_comp_eqn_primary_with_suffix, \"_otherwise\")\n",
    "pr()\n",
    "pr(\"}\")\n",
    "pr()\n",
    "pr(\"} /* end of points */\")\n",
    "pr(\"} /* end of nodes */\")\n",
    "pr(\"}\")"
   ]
  },
  {
   "cell_type": "code",
   "execution_count": null,
   "id": "3f4ed5e8-a5aa-4d33-87cb-0095e71dcda4",
   "metadata": {},
   "outputs": [],
   "source": []
  }
 ],
 "metadata": {
  "kernelspec": {
   "display_name": "SageMath 9.5",
   "language": "sage",
   "name": "sagemath-9.5"
  },
  "language_info": {
   "codemirror_mode": {
    "name": "ipython",
    "version": 3
   },
   "file_extension": ".py",
   "mimetype": "text/x-python",
   "name": "python",
   "nbconvert_exporter": "python",
   "pygments_lexer": "ipython3",
   "version": "3.9.9"
  }
 },
 "nbformat": 4,
 "nbformat_minor": 5
}
