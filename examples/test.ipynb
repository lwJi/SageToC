{
 "cells": [
  {
   "cell_type": "markdown",
   "id": "53617226-df33-414d-87f2-e93734711746",
   "metadata": {},
   "source": [
    "# Example $r^i=M^i{}_jM^j{}_ku^k$"
   ]
  },
  {
   "cell_type": "code",
   "execution_count": 1,
   "id": "d67872e8-8bf0-4906-b759-99e38d676ad6",
   "metadata": {},
   "outputs": [
    {
     "name": "stdout",
     "output_type": "stream",
     "text": [
      "Welcome to SageToC (a code generator)\n"
     ]
    }
   ],
   "source": [
    "import sys\n",
    "import os\n",
    "sys.path.insert(0, '/Users/liwei/Tools/SageToC')\n",
    "import SageToC as Sg"
   ]
  },
  {
   "cell_type": "code",
   "execution_count": 2,
   "id": "d33f4fb3-09e8-4d2b-a036-82fe4a8fe288",
   "metadata": {},
   "outputs": [],
   "source": [
    "%display latex\n",
    "#Parallelism().set(nproc=4)\n",
    "\n",
    "# dimension and manifold\n",
    "Sg.dimens = 4\n",
    "Sg.manifd = Manifold(Sg.dimens, name='M', latex_name=r'\\mathcal{M}', structure=\"Lorentzian\", start_index=0)\n",
    "Sg.manifd.set_calculus_method('sympy')\n",
    "\n",
    "# coordinats\n",
    "cartesian.<T, X, Y, Z> = Sg.manifd.chart('t:(0,+oo) x y z:(-oo,+oo)')"
   ]
  },
  {
   "cell_type": "code",
   "execution_count": 3,
   "id": "72627ec7-b533-4a68-9907-d04e463233cb",
   "metadata": {},
   "outputs": [],
   "source": [
    "evolution = [\n",
    "    \"alpha[]\",\n",
    "    \"r[i]\",\n",
    "    \"u[i]\",\n",
    "    \"v[i]\",\n",
    "    \"M[i,-j], sym[{0,1}]\",\n",
    "    \"N[k,l], antisym[{0,1}]\",\n",
    "    \"Phi[-k,-a,-b], sym[{1,2}]\",\n",
    "    \"ddg[-k,-l,-a,-b], antisym[{0,1},{2,3}]\",\n",
    "    \"ddg2[-k,-l,-a,-b], sym[{0,1}], antisym[{2,3}]\"\n",
    "]"
   ]
  },
  {
   "cell_type": "code",
   "execution_count": 4,
   "id": "d3e753b8-a67b-49b8-a2b8-3b1e9ec44b75",
   "metadata": {},
   "outputs": [
    {
     "name": "stdout",
     "output_type": "stream",
     "text": [
      "defining  alpha ...\n",
      "defining  r ...\n",
      "defining  u ...\n",
      "defining  v ...\n",
      "defining  M ...\n",
      "defining  N ...\n",
      "defining  Phi ...\n",
      "defining  ddg ...\n",
      "defining  ddg2 ...\n",
      "mode =  set_comp_gf_independent\n"
     ]
    }
   ],
   "source": [
    "Evol_varlist = Sg.EvolutionVarlist(evolution)"
   ]
  },
  {
   "cell_type": "code",
   "execution_count": 5,
   "id": "452a7184-3676-4f06-aea0-eda784654c42",
   "metadata": {},
   "outputs": [
    {
     "name": "stdout",
     "output_type": "stream",
     "text": [
      "defining  dtalpha ...\n",
      "defining  dtr ...\n",
      "defining  dtu ...\n",
      "defining  dtv ...\n",
      "defining  dtM ...\n",
      "defining  dtN ...\n",
      "defining  dtPhi ...\n",
      "defining  dtddg ...\n",
      "defining  dtddg2 ...\n",
      "mode =  set_comp_gf_independent\n"
     ]
    }
   ],
   "source": [
    "dtEvol_varlist = Evol_varlist.prefix(\"dt\")"
   ]
  },
  {
   "cell_type": "code",
   "execution_count": 6,
   "id": "f0c5dfec-c669-4d56-b77a-1517eb25667e",
   "metadata": {},
   "outputs": [
    {
     "name": "stdout",
     "output_type": "stream",
     "text": [
      "['dtalpha[]', 'dtr[i]', 'dtu[i]', 'dtv[i]', 'dtM[i,-j], sym[{0,1}]', 'dtN[k,l], antisym[{0,1}]', 'dtPhi[-k,-a,-b], sym[{1,2}]', 'dtddg[-k,-l,-a,-b], antisym[{0,1},{2,3}]', 'dtddg2[-k,-l,-a,-b], sym[{0,1}], antisym[{2,3}]']\n"
     ]
    }
   ],
   "source": [
    "print(dtEvol_varlist.varlist)"
   ]
  },
  {
   "cell_type": "code",
   "execution_count": 7,
   "id": "7c2f08e7-5b14-469b-889d-f5d510be6a0e",
   "metadata": {},
   "outputs": [
    {
     "name": "stdout",
     "output_type": "stream",
     "text": [
      "['alpha[]', 'r[i]', 'u[i]', 'v[i]', 'M[i,-j], sym[{0,1}]', 'N[k,l], antisym[{0,1}]', 'Phi[-k,-a,-b], sym[{1,2}]', 'ddg[-k,-l,-a,-b], antisym[{0,1},{2,3}]', 'ddg2[-k,-l,-a,-b], sym[{0,1}], antisym[{2,3}]']\n"
     ]
    }
   ],
   "source": [
    "print(Evol_varlist.varlist)"
   ]
  },
  {
   "cell_type": "code",
   "execution_count": 8,
   "id": "6686630d-4487-423c-bb34-13306ee16542",
   "metadata": {},
   "outputs": [],
   "source": [
    "# update the names (since its a cope from module Sg\n",
    "from SageToC import *"
   ]
  },
  {
   "cell_type": "code",
   "execution_count": 9,
   "id": "da0a1105-c545-4c28-bb2e-7d52dac9751b",
   "metadata": {},
   "outputs": [
    {
     "data": {
      "text/html": [
       "<html>\\[\\newcommand{\\Bold}[1]{\\mathbf{#1}}\\begin{array}{lcl} dtN_{\\phantom{\\, t}\\phantom{\\, x}}^{ \\, t \\, x } & = & dtN_{01 ijk } \\\\ dtN_{\\phantom{\\, t}\\phantom{\\, y}}^{ \\, t \\, y } & = & dtN_{02 ijk } \\\\ dtN_{\\phantom{\\, t}\\phantom{\\, z}}^{ \\, t \\, z } & = & dtN_{03 ijk } \\\\ dtN_{\\phantom{\\, x}\\phantom{\\, t}}^{ \\, x \\, t } & = & - dtN_{01 ijk } \\\\ dtN_{\\phantom{\\, x}\\phantom{\\, y}}^{ \\, x \\, y } & = & dtN_{12 ijk } \\\\ dtN_{\\phantom{\\, x}\\phantom{\\, z}}^{ \\, x \\, z } & = & dtN_{13 ijk } \\\\ dtN_{\\phantom{\\, y}\\phantom{\\, t}}^{ \\, y \\, t } & = & - dtN_{02 ijk } \\\\ dtN_{\\phantom{\\, y}\\phantom{\\, x}}^{ \\, y \\, x } & = & - dtN_{12 ijk } \\\\ dtN_{\\phantom{\\, y}\\phantom{\\, z}}^{ \\, y \\, z } & = & dtN_{23 ijk } \\\\ dtN_{\\phantom{\\, z}\\phantom{\\, t}}^{ \\, z \\, t } & = & - dtN_{03 ijk } \\\\ dtN_{\\phantom{\\, z}\\phantom{\\, x}}^{ \\, z \\, x } & = & - dtN_{13 ijk } \\\\ dtN_{\\phantom{\\, z}\\phantom{\\, y}}^{ \\, z \\, y } & = & - dtN_{23 ijk } \\end{array}\\]</html>"
      ],
      "text/latex": [
       "$$\\newcommand{\\Bold}[1]{\\mathbf{#1}}\\begin{array}{lcl} dtN_{\\phantom{\\, t}\\phantom{\\, x}}^{ \\, t \\, x } & = & dtN_{01 ijk } \\\\ dtN_{\\phantom{\\, t}\\phantom{\\, y}}^{ \\, t \\, y } & = & dtN_{02 ijk } \\\\ dtN_{\\phantom{\\, t}\\phantom{\\, z}}^{ \\, t \\, z } & = & dtN_{03 ijk } \\\\ dtN_{\\phantom{\\, x}\\phantom{\\, t}}^{ \\, x \\, t } & = & - dtN_{01 ijk } \\\\ dtN_{\\phantom{\\, x}\\phantom{\\, y}}^{ \\, x \\, y } & = & dtN_{12 ijk } \\\\ dtN_{\\phantom{\\, x}\\phantom{\\, z}}^{ \\, x \\, z } & = & dtN_{13 ijk } \\\\ dtN_{\\phantom{\\, y}\\phantom{\\, t}}^{ \\, y \\, t } & = & - dtN_{02 ijk } \\\\ dtN_{\\phantom{\\, y}\\phantom{\\, x}}^{ \\, y \\, x } & = & - dtN_{12 ijk } \\\\ dtN_{\\phantom{\\, y}\\phantom{\\, z}}^{ \\, y \\, z } & = & dtN_{23 ijk } \\\\ dtN_{\\phantom{\\, z}\\phantom{\\, t}}^{ \\, z \\, t } & = & - dtN_{03 ijk } \\\\ dtN_{\\phantom{\\, z}\\phantom{\\, x}}^{ \\, z \\, x } & = & - dtN_{13 ijk } \\\\ dtN_{\\phantom{\\, z}\\phantom{\\, y}}^{ \\, z \\, y } & = & - dtN_{23 ijk } \\end{array}$$"
      ],
      "text/plain": [
       "dtN^tx = dtN01_ijk_ \n",
       "dtN^ty = dtN02_ijk_ \n",
       "dtN^tz = dtN03_ijk_ \n",
       "dtN^xt = -dtN01_ijk_ \n",
       "dtN^xy = dtN12_ijk_ \n",
       "dtN^xz = dtN13_ijk_ \n",
       "dtN^yt = -dtN02_ijk_ \n",
       "dtN^yx = -dtN12_ijk_ \n",
       "dtN^yz = dtN23_ijk_ \n",
       "dtN^zt = -dtN03_ijk_ \n",
       "dtN^zx = -dtN13_ijk_ \n",
       "dtN^zy = -dtN23_ijk_ "
      ]
     },
     "execution_count": 9,
     "metadata": {},
     "output_type": "execute_result"
    }
   ],
   "source": [
    "dtN.display_comp()"
   ]
  },
  {
   "cell_type": "markdown",
   "id": "81eb3ecf-3305-4abd-bf41-88b2fbadfa7d",
   "metadata": {},
   "source": [
    "### small test"
   ]
  },
  {
   "cell_type": "code",
   "execution_count": 10,
   "id": "9aeb82d4-b21c-4fc4-aa2c-f2e47ba885af",
   "metadata": {},
   "outputs": [],
   "source": [
    "index_list = []\n",
    "for i in index_list:\n",
    "    print(i)"
   ]
  },
  {
   "cell_type": "code",
   "execution_count": 55,
   "id": "e2275a91-ce30-4507-92bc-9c1f98d65566",
   "metadata": {},
   "outputs": [],
   "source": [
    "sym_tuple = (1,2)"
   ]
  },
  {
   "cell_type": "code",
   "execution_count": 56,
   "id": "6e4c7490-c7ca-4b0e-bdaf-fc214b821f8b",
   "metadata": {},
   "outputs": [
    {
     "ename": "AttributeError",
     "evalue": "'tuple' object has no attribute 'append'",
     "output_type": "error",
     "traceback": [
      "\u001b[0;31m---------------------------------------------------------------------------\u001b[0m",
      "\u001b[0;31mAttributeError\u001b[0m                            Traceback (most recent call last)",
      "\u001b[0;32m/var/folders/13/bmxcpt490x94j1m9n4_mpg880000gn/T/ipykernel_39704/269905217.py\u001b[0m in \u001b[0;36m<module>\u001b[0;34m\u001b[0m\n\u001b[0;32m----> 1\u001b[0;31m \u001b[0msym_tuple\u001b[0m\u001b[0;34m.\u001b[0m\u001b[0mappend\u001b[0m\u001b[0;34m(\u001b[0m\u001b[0;34m(\u001b[0m\u001b[0mInteger\u001b[0m\u001b[0;34m(\u001b[0m\u001b[0;36m2\u001b[0m\u001b[0;34m)\u001b[0m\u001b[0;34m,\u001b[0m\u001b[0mInteger\u001b[0m\u001b[0;34m(\u001b[0m\u001b[0;36m3\u001b[0m\u001b[0;34m)\u001b[0m\u001b[0;34m)\u001b[0m\u001b[0;34m)\u001b[0m\u001b[0;34m\u001b[0m\u001b[0;34m\u001b[0m\u001b[0m\n\u001b[0m",
      "\u001b[0;31mAttributeError\u001b[0m: 'tuple' object has no attribute 'append'"
     ]
    }
   ],
   "source": [
    "sym_tuple.append((2,3))"
   ]
  },
  {
   "cell_type": "code",
   "execution_count": 46,
   "id": "97da7f12-fe58-4361-bb1b-97b02642fde4",
   "metadata": {
    "tags": []
   },
   "outputs": [],
   "source": [
    "sym_tuple2 = [sym_tuple, (2,3)]"
   ]
  },
  {
   "cell_type": "code",
   "execution_count": 47,
   "id": "6796a9c3-a8e0-492f-a496-7d47e62a0563",
   "metadata": {},
   "outputs": [
    {
     "data": {
      "text/html": [
       "<html>\\[\\newcommand{\\Bold}[1]{\\mathbf{#1}}\\left[\\left(1, 2\\right), \\left(2, 3\\right)\\right]\\]</html>"
      ],
      "text/latex": [
       "$$\\newcommand{\\Bold}[1]{\\mathbf{#1}}\\left[\\left(1, 2\\right), \\left(2, 3\\right)\\right]$$"
      ],
      "text/plain": [
       "[(1, 2), (2, 3)]"
      ]
     },
     "execution_count": 47,
     "metadata": {},
     "output_type": "execute_result"
    }
   ],
   "source": [
    "sym_tuple2"
   ]
  },
  {
   "cell_type": "code",
   "execution_count": 48,
   "id": "d33574e4-2063-4a0d-b7b0-1556fc45f867",
   "metadata": {},
   "outputs": [],
   "source": [
    "sym_tuple2.append((3,4))"
   ]
  },
  {
   "cell_type": "code",
   "execution_count": 49,
   "id": "f401577f-afb2-4e89-a7e6-90c1ed33045a",
   "metadata": {},
   "outputs": [
    {
     "data": {
      "text/html": [
       "<html>\\[\\newcommand{\\Bold}[1]{\\mathbf{#1}}\\left[\\left(1, 2\\right), \\left(2, 3\\right), \\left(3, 4\\right)\\right]\\]</html>"
      ],
      "text/latex": [
       "$$\\newcommand{\\Bold}[1]{\\mathbf{#1}}\\left[\\left(1, 2\\right), \\left(2, 3\\right), \\left(3, 4\\right)\\right]$$"
      ],
      "text/plain": [
       "[(1, 2), (2, 3), (3, 4)]"
      ]
     },
     "execution_count": 49,
     "metadata": {},
     "output_type": "execute_result"
    }
   ],
   "source": [
    "sym_tuple2"
   ]
  },
  {
   "cell_type": "code",
   "execution_count": 50,
   "id": "66014006-9e39-488f-85e9-3d9bfe958c10",
   "metadata": {},
   "outputs": [
    {
     "data": {
      "text/html": [
       "<html>\\[\\newcommand{\\Bold}[1]{\\mathbf{#1}}\\mathrm{True}\\]</html>"
      ],
      "text/latex": [
       "$$\\newcommand{\\Bold}[1]{\\mathbf{#1}}\\mathrm{True}$$"
      ],
      "text/plain": [
       "True"
      ]
     },
     "execution_count": 50,
     "metadata": {},
     "output_type": "execute_result"
    }
   ],
   "source": [
    "isinstance(sym_tuple2, list)"
   ]
  },
  {
   "cell_type": "code",
   "execution_count": 54,
   "id": "8e7f14e1-e208-48a5-9c11-88880c62a607",
   "metadata": {},
   "outputs": [
    {
     "data": {
      "text/html": [
       "<html>\\[\\newcommand{\\Bold}[1]{\\mathbf{#1}}\\left(3, 4\\right)\\]</html>"
      ],
      "text/latex": [
       "$$\\newcommand{\\Bold}[1]{\\mathbf{#1}}\\left(3, 4\\right)$$"
      ],
      "text/plain": [
       "(3, 4)"
      ]
     },
     "execution_count": 54,
     "metadata": {},
     "output_type": "execute_result"
    }
   ],
   "source": [
    "sym_tuple2[2]"
   ]
  },
  {
   "cell_type": "markdown",
   "id": "31eb755a-a842-4cd3-9a37-5dc7ea7c6b3c",
   "metadata": {},
   "source": [
    "### Equaitons"
   ]
  },
  {
   "cell_type": "code",
   "execution_count": 6,
   "id": "d75048d3-af0c-451d-88d2-ce2ade8ae9fe",
   "metadata": {},
   "outputs": [],
   "source": [
    "Sg.v_rhs = M(u)\n",
    "Sg.r_rhs = M(v)"
   ]
  },
  {
   "cell_type": "code",
   "execution_count": 7,
   "id": "f9fa908b-63c1-4a11-9fb5-a23602aeb539",
   "metadata": {},
   "outputs": [
    {
     "data": {
      "text/html": [
       "<html>\\[\\newcommand{\\Bold}[1]{\\mathbf{#1}}\\begin{array}{lcl} M\\left(u\\right)_{\\phantom{\\, t}}^{ \\, t } & = & M_{00 ijk } u_{0 ijk } + M_{01 ijk } u_{1 ijk } + M_{02 ijk } u_{2 ijk } + M_{03 ijk } u_{3 ijk } \\\\ M\\left(u\\right)_{\\phantom{\\, x}}^{ \\, x } & = & M_{01 ijk } u_{0 ijk } + M_{11 ijk } u_{1 ijk } + M_{12 ijk } u_{2 ijk } + M_{13 ijk } u_{3 ijk } \\\\ M\\left(u\\right)_{\\phantom{\\, y}}^{ \\, y } & = & M_{02 ijk } u_{0 ijk } + M_{12 ijk } u_{1 ijk } + M_{22 ijk } u_{2 ijk } + M_{23 ijk } u_{3 ijk } \\\\ M\\left(u\\right)_{\\phantom{\\, z}}^{ \\, z } & = & M_{03 ijk } u_{0 ijk } + M_{13 ijk } u_{1 ijk } + M_{23 ijk } u_{2 ijk } + M_{33 ijk } u_{3 ijk } \\end{array}\\]</html>"
      ],
      "text/latex": [
       "$$\\newcommand{\\Bold}[1]{\\mathbf{#1}}\\begin{array}{lcl} M\\left(u\\right)_{\\phantom{\\, t}}^{ \\, t } & = & M_{00 ijk } u_{0 ijk } + M_{01 ijk } u_{1 ijk } + M_{02 ijk } u_{2 ijk } + M_{03 ijk } u_{3 ijk } \\\\ M\\left(u\\right)_{\\phantom{\\, x}}^{ \\, x } & = & M_{01 ijk } u_{0 ijk } + M_{11 ijk } u_{1 ijk } + M_{12 ijk } u_{2 ijk } + M_{13 ijk } u_{3 ijk } \\\\ M\\left(u\\right)_{\\phantom{\\, y}}^{ \\, y } & = & M_{02 ijk } u_{0 ijk } + M_{12 ijk } u_{1 ijk } + M_{22 ijk } u_{2 ijk } + M_{23 ijk } u_{3 ijk } \\\\ M\\left(u\\right)_{\\phantom{\\, z}}^{ \\, z } & = & M_{03 ijk } u_{0 ijk } + M_{13 ijk } u_{1 ijk } + M_{23 ijk } u_{2 ijk } + M_{33 ijk } u_{3 ijk } \\end{array}$$"
      ],
      "text/plain": [
       "M(u)^t = M00_ijk_*u0_ijk_ + M01_ijk_*u1_ijk_ + M02_ijk_*u2_ijk_ + M03_ijk_*u3_ijk_ \n",
       "M(u)^x = M01_ijk_*u0_ijk_ + M11_ijk_*u1_ijk_ + M12_ijk_*u2_ijk_ + M13_ijk_*u3_ijk_ \n",
       "M(u)^y = M02_ijk_*u0_ijk_ + M12_ijk_*u1_ijk_ + M22_ijk_*u2_ijk_ + M23_ijk_*u3_ijk_ \n",
       "M(u)^z = M03_ijk_*u0_ijk_ + M13_ijk_*u1_ijk_ + M23_ijk_*u2_ijk_ + M33_ijk_*u3_ijk_ "
      ]
     },
     "execution_count": 7,
     "metadata": {},
     "output_type": "execute_result"
    }
   ],
   "source": [
    "Sg.v_rhs.display_comp()"
   ]
  },
  {
   "cell_type": "code",
   "execution_count": 30,
   "id": "31aa9c13-2571-497f-9eee-d665c3ec3e06",
   "metadata": {},
   "outputs": [
    {
     "data": {
      "text/html": [
       "<html>\\[\\newcommand{\\Bold}[1]{\\mathbf{#1}}\\begin{array}{lcl} M\\left(v\\right)_{\\phantom{\\, t}}^{ \\, t } & = & M_{00 ijk } v_{0 ijk } + M_{01 ijk } v_{1 ijk } + M_{02 ijk } v_{2 ijk } + M_{03 ijk } v_{3 ijk } \\\\ M\\left(v\\right)_{\\phantom{\\, x}}^{ \\, x } & = & M_{01 ijk } v_{0 ijk } + M_{11 ijk } v_{1 ijk } + M_{12 ijk } v_{2 ijk } + M_{13 ijk } v_{3 ijk } \\\\ M\\left(v\\right)_{\\phantom{\\, y}}^{ \\, y } & = & M_{02 ijk } v_{0 ijk } + M_{12 ijk } v_{1 ijk } + M_{22 ijk } v_{2 ijk } + M_{23 ijk } v_{3 ijk } \\\\ M\\left(v\\right)_{\\phantom{\\, z}}^{ \\, z } & = & M_{03 ijk } v_{0 ijk } + M_{13 ijk } v_{1 ijk } + M_{23 ijk } v_{2 ijk } + M_{33 ijk } v_{3 ijk } \\end{array}\\]</html>"
      ],
      "text/latex": [
       "$$\\newcommand{\\Bold}[1]{\\mathbf{#1}}\\begin{array}{lcl} M\\left(v\\right)_{\\phantom{\\, t}}^{ \\, t } & = & M_{00 ijk } v_{0 ijk } + M_{01 ijk } v_{1 ijk } + M_{02 ijk } v_{2 ijk } + M_{03 ijk } v_{3 ijk } \\\\ M\\left(v\\right)_{\\phantom{\\, x}}^{ \\, x } & = & M_{01 ijk } v_{0 ijk } + M_{11 ijk } v_{1 ijk } + M_{12 ijk } v_{2 ijk } + M_{13 ijk } v_{3 ijk } \\\\ M\\left(v\\right)_{\\phantom{\\, y}}^{ \\, y } & = & M_{02 ijk } v_{0 ijk } + M_{12 ijk } v_{1 ijk } + M_{22 ijk } v_{2 ijk } + M_{23 ijk } v_{3 ijk } \\\\ M\\left(v\\right)_{\\phantom{\\, z}}^{ \\, z } & = & M_{03 ijk } v_{0 ijk } + M_{13 ijk } v_{1 ijk } + M_{23 ijk } v_{2 ijk } + M_{33 ijk } v_{3 ijk } \\end{array}$$"
      ],
      "text/plain": [
       "M(v)^t = M00_ijk_*v0_ijk_ + M01_ijk_*v1_ijk_ + M02_ijk_*v2_ijk_ + M03_ijk_*v3_ijk_ \n",
       "M(v)^x = M01_ijk_*v0_ijk_ + M11_ijk_*v1_ijk_ + M12_ijk_*v2_ijk_ + M13_ijk_*v3_ijk_ \n",
       "M(v)^y = M02_ijk_*v0_ijk_ + M12_ijk_*v1_ijk_ + M22_ijk_*v2_ijk_ + M23_ijk_*v3_ijk_ \n",
       "M(v)^z = M03_ijk_*v0_ijk_ + M13_ijk_*v1_ijk_ + M23_ijk_*v2_ijk_ + M33_ijk_*v3_ijk_ "
      ]
     },
     "execution_count": 30,
     "metadata": {},
     "output_type": "execute_result"
    }
   ],
   "source": [
    "Sg.r_rhs.display_comp()"
   ]
  },
  {
   "cell_type": "code",
   "execution_count": 31,
   "id": "6e60da63-42cb-452c-8a9b-242f5f857080",
   "metadata": {
    "tags": []
   },
   "outputs": [
    {
     "data": {
      "text/html": [
       "<html>\\[\\newcommand{\\Bold}[1]{\\mathbf{#1}}\\verb|M00_ijk_*u0_ijk_|\\verb| |\\verb|+|\\verb| |\\verb|M01_ijk_*u1_ijk_|\\verb| |\\verb|+|\\verb| |\\verb|M02_ijk_*u2_ijk_|\\verb| |\\verb|+|\\verb| |\\verb|M03_ijk_*u3_ijk_|\\]</html>"
      ],
      "text/latex": [
       "$$\\newcommand{\\Bold}[1]{\\mathbf{#1}}\\verb|M00_ijk_*u0_ijk_|\\verb| |\\verb|+|\\verb| |\\verb|M01_ijk_*u1_ijk_|\\verb| |\\verb|+|\\verb| |\\verb|M02_ijk_*u2_ijk_|\\verb| |\\verb|+|\\verb| |\\verb|M03_ijk_*u3_ijk_|$$"
      ],
      "text/plain": [
       "M00_ijk_*u0_ijk_ + M01_ijk_*u1_ijk_ + M02_ijk_*u2_ijk_ + M03_ijk_*u3_ijk_"
      ]
     },
     "execution_count": 31,
     "metadata": {},
     "output_type": "execute_result"
    }
   ],
   "source": [
    "Sg.v_rhs[0].expr()"
   ]
  },
  {
   "cell_type": "code",
   "execution_count": 11,
   "id": "0aaa2aba-e7be-4b09-be7a-2831af122e8b",
   "metadata": {
    "tags": []
   },
   "outputs": [],
   "source": [
    "from sympy import cse"
   ]
  },
  {
   "cell_type": "code",
   "execution_count": 12,
   "id": "ba81ba33-26aa-43b0-82d4-515288ba4944",
   "metadata": {},
   "outputs": [
    {
     "data": {
      "text/html": [
       "<html>\\[\\newcommand{\\Bold}[1]{\\mathbf{#1}}\\left(\\left[\\right], \\left[\\verb|M00_ijk_*u0_ijk_|\\verb| |\\verb|+|\\verb| |\\verb|M01_ijk_*u1_ijk_|\\verb| |\\verb|+|\\verb| |\\verb|M02_ijk_*u2_ijk_|\\verb| |\\verb|+|\\verb| |\\verb|M03_ijk_*u3_ijk_|\\right]\\right)\\]</html>"
      ],
      "text/latex": [
       "$$\\newcommand{\\Bold}[1]{\\mathbf{#1}}\\left(\\left[\\right], \\left[\\verb|M00_ijk_*u0_ijk_|\\verb| |\\verb|+|\\verb| |\\verb|M01_ijk_*u1_ijk_|\\verb| |\\verb|+|\\verb| |\\verb|M02_ijk_*u2_ijk_|\\verb| |\\verb|+|\\verb| |\\verb|M03_ijk_*u3_ijk_|\\right]\\right)$$"
      ],
      "text/plain": [
       "([],\n",
       " [M00_ijk_*u0_ijk_ + M01_ijk_*u1_ijk_ + M02_ijk_*u2_ijk_ + M03_ijk_*u3_ijk_])"
      ]
     },
     "execution_count": 12,
     "metadata": {},
     "output_type": "execute_result"
    }
   ],
   "source": [
    "cse(v_rhs[0].expr())"
   ]
  },
  {
   "cell_type": "markdown",
   "id": "95268e76-35f2-446f-9c86-2ad5d0db45df",
   "metadata": {},
   "source": [
    "### print to files"
   ]
  },
  {
   "cell_type": "code",
   "execution_count": 13,
   "id": "440eb5fb-3589-46ed-ba72-a5c8b0341fed",
   "metadata": {},
   "outputs": [],
   "source": [
    "cfilename = \"test.c\"\n",
    "if os.path.exists(cfilename):\n",
    "    os.remove(cfilename)"
   ]
  },
  {
   "cell_type": "code",
   "execution_count": 17,
   "id": "d9f8da8c-2c79-46d3-83b3-6bbea2088156",
   "metadata": {
    "tags": []
   },
   "outputs": [],
   "source": [
    "with open(cfilename, \"w\") as cf:\n",
    "    cf.write(\"/* \" + cfilename + \" */\\n\")\n",
    "    cf.write(\"/* (c) Liwei Ji 05/2022 */\\n\")\n",
    "    cf.write(\"/* Produced with SageToC.py */\\n\\n\")"
   ]
  },
  {
   "cell_type": "code",
   "execution_count": 18,
   "id": "7fe47093-5a5a-4d7d-8f12-aafe3eea5a46",
   "metadata": {},
   "outputs": [],
   "source": [
    "with open(cfilename, \"a\") as cf:\n",
    "    cf.write(str(v_rhs[0].expr()).replace('_ijk_', '[ijk]'))"
   ]
  },
  {
   "cell_type": "code",
   "execution_count": 7,
   "id": "fab305eb-7bb2-4dfb-972c-c34092af8fc5",
   "metadata": {
    "collapsed": true,
    "jupyter": {
     "outputs_hidden": true
    },
    "tags": []
   },
   "outputs": [
    {
     "name": "stdout",
     "output_type": "stream",
     "text": [
      "mode =  print_comp_init_vlu_independent\n",
      "print component initialization for vlu using indep index, %s! alpha\n",
      "print component initialization for vlu using indep index, %s! rU\n",
      "print component initialization for vlu using indep index, %s! rU\n",
      "print component initialization for vlu using indep index, %s! rU\n",
      "print component initialization for vlu using indep index, %s! rU\n",
      "print component initialization for vlu using indep index, %s! uU\n",
      "print component initialization for vlu using indep index, %s! uU\n",
      "print component initialization for vlu using indep index, %s! uU\n",
      "print component initialization for vlu using indep index, %s! uU\n",
      "print component initialization for vlu using indep index, %s! MDD\n",
      "print component initialization for vlu using indep index, %s! MDD\n",
      "print component initialization for vlu using indep index, %s! MDD\n",
      "print component initialization for vlu using indep index, %s! MDD\n",
      "print component initialization for vlu using indep index, %s! MDD\n",
      "print component initialization for vlu using indep index, %s! MDD\n",
      "print component initialization for vlu using indep index, %s! MDD\n",
      "print component initialization for vlu using indep index, %s! MDD\n",
      "print component initialization for vlu using indep index, %s! MDD\n",
      "print component initialization for vlu using indep index, %s! MDD\n",
      "print component initialization for vlu using indep index, %s! NUU\n",
      "print component initialization for vlu using indep index, %s! NUU\n",
      "print component initialization for vlu using indep index, %s! NUU\n",
      "print component initialization for vlu using indep index, %s! NUU\n",
      "print component initialization for vlu using indep index, %s! NUU\n",
      "print component initialization for vlu using indep index, %s! NUU\n"
     ]
    }
   ],
   "source": [
    "Evol_varlist.printInit()"
   ]
  },
  {
   "cell_type": "code",
   "execution_count": 12,
   "id": "df546d6e-acb7-4560-a2e9-5dcbeb89af8f",
   "metadata": {
    "collapsed": true,
    "jupyter": {
     "outputs_hidden": true
    },
    "tags": []
   },
   "outputs": [
    {
     "name": "stdout",
     "output_type": "stream",
     "text": [
      "defining  alpha ...\n",
      "defining  rU ...\n",
      "defining  uU ...\n",
      "defining  MDD ...\n",
      "defining  NUU ...\n",
      "mode =  set_comp_gf_independent\n"
     ]
    }
   ],
   "source": [
    "dtEvol_varlist = Sg.dtEvolutionVarlist(evolution)"
   ]
  },
  {
   "cell_type": "code",
   "execution_count": 13,
   "id": "506e56fc-6e55-4cbf-8002-a47f0d85572a",
   "metadata": {
    "collapsed": true,
    "jupyter": {
     "outputs_hidden": true
    },
    "tags": []
   },
   "outputs": [
    {
     "name": "stdout",
     "output_type": "stream",
     "text": [
      "mode =  print_comp_init_vlr_independent\n",
      "print component initialization for vlr using indep index, %s! alpha\n",
      "print component initialization for vlr using indep index, %s! rU\n",
      "print component initialization for vlr using indep index, %s! rU\n",
      "print component initialization for vlr using indep index, %s! rU\n",
      "print component initialization for vlr using indep index, %s! rU\n",
      "print component initialization for vlr using indep index, %s! uU\n",
      "print component initialization for vlr using indep index, %s! uU\n",
      "print component initialization for vlr using indep index, %s! uU\n",
      "print component initialization for vlr using indep index, %s! uU\n",
      "print component initialization for vlr using indep index, %s! MDD\n",
      "print component initialization for vlr using indep index, %s! MDD\n",
      "print component initialization for vlr using indep index, %s! MDD\n",
      "print component initialization for vlr using indep index, %s! MDD\n",
      "print component initialization for vlr using indep index, %s! MDD\n",
      "print component initialization for vlr using indep index, %s! MDD\n",
      "print component initialization for vlr using indep index, %s! MDD\n",
      "print component initialization for vlr using indep index, %s! MDD\n",
      "print component initialization for vlr using indep index, %s! MDD\n",
      "print component initialization for vlr using indep index, %s! MDD\n",
      "print component initialization for vlr using indep index, %s! NUU\n",
      "print component initialization for vlr using indep index, %s! NUU\n",
      "print component initialization for vlr using indep index, %s! NUU\n",
      "print component initialization for vlr using indep index, %s! NUU\n",
      "print component initialization for vlr using indep index, %s! NUU\n",
      "print component initialization for vlr using indep index, %s! NUU\n"
     ]
    }
   ],
   "source": [
    "dtEvol_varlist.printInit()"
   ]
  },
  {
   "cell_type": "code",
   "execution_count": 14,
   "id": "d80c96be-de4b-4016-be77-62eb8c50f1cc",
   "metadata": {},
   "outputs": [
    {
     "name": "stdout",
     "output_type": "stream",
     "text": [
      "mode =  print_comp_eqn_primary\n",
      "print component equation: primary, %s! alpha\n",
      "print component equation: primary, %s! rU\n",
      "print component equation: primary, %s! rU\n",
      "print component equation: primary, %s! rU\n",
      "print component equation: primary, %s! rU\n",
      "print component equation: primary, %s! uU\n",
      "print component equation: primary, %s! uU\n",
      "print component equation: primary, %s! uU\n",
      "print component equation: primary, %s! uU\n",
      "print component equation: primary, %s! MDD\n",
      "print component equation: primary, %s! MDD\n",
      "print component equation: primary, %s! MDD\n",
      "print component equation: primary, %s! MDD\n",
      "print component equation: primary, %s! MDD\n",
      "print component equation: primary, %s! MDD\n",
      "print component equation: primary, %s! MDD\n",
      "print component equation: primary, %s! MDD\n",
      "print component equation: primary, %s! MDD\n",
      "print component equation: primary, %s! MDD\n",
      "print component equation: primary, %s! NUU\n",
      "print component equation: primary, %s! NUU\n",
      "print component equation: primary, %s! NUU\n",
      "print component equation: primary, %s! NUU\n",
      "print component equation: primary, %s! NUU\n",
      "print component equation: primary, %s! NUU\n"
     ]
    }
   ],
   "source": [
    "dtEvol_varlist.printEqn()"
   ]
  },
  {
   "cell_type": "code",
   "execution_count": 18,
   "id": "5687b3e9-cbe0-444b-9209-afca0434a4fb",
   "metadata": {},
   "outputs": [
    {
     "data": {
      "text/html": [
       "<html>\\[\\newcommand{\\Bold}[1]{\\mathbf{#1}}\\alpha\\]</html>"
      ],
      "text/latex": [
       "$$\\newcommand{\\Bold}[1]{\\mathbf{#1}}\\alpha$$"
      ],
      "text/plain": [
       "alpha"
      ]
     },
     "execution_count": 18,
     "metadata": {},
     "output_type": "execute_result"
    }
   ],
   "source": [
    "alpha.expr()"
   ]
  },
  {
   "cell_type": "code",
   "execution_count": 19,
   "id": "c2fab3d7-135e-4a1b-8e92-d1407f5700cb",
   "metadata": {
    "tags": []
   },
   "outputs": [
    {
     "data": {
      "text/html": [
       "<html>\\[\\newcommand{\\Bold}[1]{\\mathbf{#1}}\\begin{array}{lcl} rU_{\\phantom{\\, t}}^{ \\, t } & = & \\mathit{rU0}_{\\mathit{ijk}} \\\\ rU_{\\phantom{\\, x}}^{ \\, x } & = & \\mathit{rU1}_{\\mathit{ijk}} \\\\ rU_{\\phantom{\\, y}}^{ \\, y } & = & \\mathit{rU2}_{\\mathit{ijk}} \\\\ rU_{\\phantom{\\, z}}^{ \\, z } & = & \\mathit{rU3}_{\\mathit{ijk}} \\end{array}\\]</html>"
      ],
      "text/latex": [
       "$$\\newcommand{\\Bold}[1]{\\mathbf{#1}}\\begin{array}{lcl} rU_{\\phantom{\\, t}}^{ \\, t } & = & \\mathit{rU0}_{\\mathit{ijk}} \\\\ rU_{\\phantom{\\, x}}^{ \\, x } & = & \\mathit{rU1}_{\\mathit{ijk}} \\\\ rU_{\\phantom{\\, y}}^{ \\, y } & = & \\mathit{rU2}_{\\mathit{ijk}} \\\\ rU_{\\phantom{\\, z}}^{ \\, z } & = & \\mathit{rU3}_{\\mathit{ijk}} \\end{array}$$"
      ],
      "text/plain": [
       "rU^t = rU0_ijk_ \n",
       "rU^x = rU1_ijk_ \n",
       "rU^y = rU2_ijk_ \n",
       "rU^z = rU3_ijk_ "
      ]
     },
     "execution_count": 19,
     "metadata": {},
     "output_type": "execute_result"
    }
   ],
   "source": [
    "rU.display_comp()"
   ]
  },
  {
   "cell_type": "code",
   "execution_count": 20,
   "id": "917f7a42-891a-40da-aebf-b66aea3f04db",
   "metadata": {},
   "outputs": [
    {
     "data": {
      "text/html": [
       "<html>\\[\\newcommand{\\Bold}[1]{\\mathbf{#1}}\\begin{array}{lcl} MDD_{ \\, t \\, t }^{ \\phantom{\\, t}\\phantom{\\, t} } & = & \\mathit{MDD00}_{\\mathit{ijk}} \\\\ MDD_{ \\, t \\, x }^{ \\phantom{\\, t}\\phantom{\\, x} } & = & \\mathit{MDD01}_{\\mathit{ijk}} \\\\ MDD_{ \\, t \\, y }^{ \\phantom{\\, t}\\phantom{\\, y} } & = & \\mathit{MDD02}_{\\mathit{ijk}} \\\\ MDD_{ \\, t \\, z }^{ \\phantom{\\, t}\\phantom{\\, z} } & = & \\mathit{MDD03}_{\\mathit{ijk}} \\\\ MDD_{ \\, x \\, t }^{ \\phantom{\\, x}\\phantom{\\, t} } & = & \\mathit{MDD01}_{\\mathit{ijk}} \\\\ MDD_{ \\, x \\, x }^{ \\phantom{\\, x}\\phantom{\\, x} } & = & \\mathit{MDD11}_{\\mathit{ijk}} \\\\ MDD_{ \\, x \\, y }^{ \\phantom{\\, x}\\phantom{\\, y} } & = & \\mathit{MDD12}_{\\mathit{ijk}} \\\\ MDD_{ \\, x \\, z }^{ \\phantom{\\, x}\\phantom{\\, z} } & = & \\mathit{MDD13}_{\\mathit{ijk}} \\\\ MDD_{ \\, y \\, t }^{ \\phantom{\\, y}\\phantom{\\, t} } & = & \\mathit{MDD02}_{\\mathit{ijk}} \\\\ MDD_{ \\, y \\, x }^{ \\phantom{\\, y}\\phantom{\\, x} } & = & \\mathit{MDD12}_{\\mathit{ijk}} \\\\ MDD_{ \\, y \\, y }^{ \\phantom{\\, y}\\phantom{\\, y} } & = & \\mathit{MDD22}_{\\mathit{ijk}} \\\\ MDD_{ \\, y \\, z }^{ \\phantom{\\, y}\\phantom{\\, z} } & = & \\mathit{MDD23}_{\\mathit{ijk}} \\\\ MDD_{ \\, z \\, t }^{ \\phantom{\\, z}\\phantom{\\, t} } & = & \\mathit{MDD03}_{\\mathit{ijk}} \\\\ MDD_{ \\, z \\, x }^{ \\phantom{\\, z}\\phantom{\\, x} } & = & \\mathit{MDD13}_{\\mathit{ijk}} \\\\ MDD_{ \\, z \\, y }^{ \\phantom{\\, z}\\phantom{\\, y} } & = & \\mathit{MDD23}_{\\mathit{ijk}} \\\\ MDD_{ \\, z \\, z }^{ \\phantom{\\, z}\\phantom{\\, z} } & = & \\mathit{MDD33}_{\\mathit{ijk}} \\end{array}\\]</html>"
      ],
      "text/latex": [
       "$$\\newcommand{\\Bold}[1]{\\mathbf{#1}}\\begin{array}{lcl} MDD_{ \\, t \\, t }^{ \\phantom{\\, t}\\phantom{\\, t} } & = & \\mathit{MDD00}_{\\mathit{ijk}} \\\\ MDD_{ \\, t \\, x }^{ \\phantom{\\, t}\\phantom{\\, x} } & = & \\mathit{MDD01}_{\\mathit{ijk}} \\\\ MDD_{ \\, t \\, y }^{ \\phantom{\\, t}\\phantom{\\, y} } & = & \\mathit{MDD02}_{\\mathit{ijk}} \\\\ MDD_{ \\, t \\, z }^{ \\phantom{\\, t}\\phantom{\\, z} } & = & \\mathit{MDD03}_{\\mathit{ijk}} \\\\ MDD_{ \\, x \\, t }^{ \\phantom{\\, x}\\phantom{\\, t} } & = & \\mathit{MDD01}_{\\mathit{ijk}} \\\\ MDD_{ \\, x \\, x }^{ \\phantom{\\, x}\\phantom{\\, x} } & = & \\mathit{MDD11}_{\\mathit{ijk}} \\\\ MDD_{ \\, x \\, y }^{ \\phantom{\\, x}\\phantom{\\, y} } & = & \\mathit{MDD12}_{\\mathit{ijk}} \\\\ MDD_{ \\, x \\, z }^{ \\phantom{\\, x}\\phantom{\\, z} } & = & \\mathit{MDD13}_{\\mathit{ijk}} \\\\ MDD_{ \\, y \\, t }^{ \\phantom{\\, y}\\phantom{\\, t} } & = & \\mathit{MDD02}_{\\mathit{ijk}} \\\\ MDD_{ \\, y \\, x }^{ \\phantom{\\, y}\\phantom{\\, x} } & = & \\mathit{MDD12}_{\\mathit{ijk}} \\\\ MDD_{ \\, y \\, y }^{ \\phantom{\\, y}\\phantom{\\, y} } & = & \\mathit{MDD22}_{\\mathit{ijk}} \\\\ MDD_{ \\, y \\, z }^{ \\phantom{\\, y}\\phantom{\\, z} } & = & \\mathit{MDD23}_{\\mathit{ijk}} \\\\ MDD_{ \\, z \\, t }^{ \\phantom{\\, z}\\phantom{\\, t} } & = & \\mathit{MDD03}_{\\mathit{ijk}} \\\\ MDD_{ \\, z \\, x }^{ \\phantom{\\, z}\\phantom{\\, x} } & = & \\mathit{MDD13}_{\\mathit{ijk}} \\\\ MDD_{ \\, z \\, y }^{ \\phantom{\\, z}\\phantom{\\, y} } & = & \\mathit{MDD23}_{\\mathit{ijk}} \\\\ MDD_{ \\, z \\, z }^{ \\phantom{\\, z}\\phantom{\\, z} } & = & \\mathit{MDD33}_{\\mathit{ijk}} \\end{array}$$"
      ],
      "text/plain": [
       "MDD_tt = MDD00_ijk_ \n",
       "MDD_tx = MDD01_ijk_ \n",
       "MDD_ty = MDD02_ijk_ \n",
       "MDD_tz = MDD03_ijk_ \n",
       "MDD_xt = MDD01_ijk_ \n",
       "MDD_xx = MDD11_ijk_ \n",
       "MDD_xy = MDD12_ijk_ \n",
       "MDD_xz = MDD13_ijk_ \n",
       "MDD_yt = MDD02_ijk_ \n",
       "MDD_yx = MDD12_ijk_ \n",
       "MDD_yy = MDD22_ijk_ \n",
       "MDD_yz = MDD23_ijk_ \n",
       "MDD_zt = MDD03_ijk_ \n",
       "MDD_zx = MDD13_ijk_ \n",
       "MDD_zy = MDD23_ijk_ \n",
       "MDD_zz = MDD33_ijk_ "
      ]
     },
     "execution_count": 20,
     "metadata": {},
     "output_type": "execute_result"
    }
   ],
   "source": [
    "MDD.display_comp()"
   ]
  },
  {
   "cell_type": "markdown",
   "id": "8e430806-bf93-4c59-ab27-6f57e39434dc",
   "metadata": {},
   "source": [
    "### test"
   ]
  },
  {
   "cell_type": "code",
   "execution_count": 10,
   "id": "7e34250d-14ef-4e84-bce8-661943601c6d",
   "metadata": {},
   "outputs": [],
   "source": [
    "alpha = manifd.scalar_field(name='alpha')"
   ]
  },
  {
   "cell_type": "code",
   "execution_count": 11,
   "id": "73617432-52e2-48b4-a5c7-f921ff7ebb66",
   "metadata": {},
   "outputs": [],
   "source": [
    "alpha.add_expr(var('alpha'))"
   ]
  },
  {
   "cell_type": "code",
   "execution_count": 13,
   "id": "4acfa63e-ebc8-46fd-b92f-ceecd08c477f",
   "metadata": {},
   "outputs": [
    {
     "data": {
      "text/html": [
       "<html>\\[\\newcommand{\\Bold}[1]{\\mathbf{#1}}\\alpha\\]</html>"
      ],
      "text/latex": [
       "$$\\newcommand{\\Bold}[1]{\\mathbf{#1}}\\alpha$$"
      ],
      "text/plain": [
       "alpha"
      ]
     },
     "execution_count": 13,
     "metadata": {},
     "output_type": "execute_result"
    }
   ],
   "source": [
    "Sg.alpha.expr()"
   ]
  },
  {
   "cell_type": "code",
   "execution_count": 19,
   "id": "2b355bed-a156-414b-b44b-e9f3a6f43fc5",
   "metadata": {},
   "outputs": [
    {
     "data": {
      "text/html": [
       "<html>\\[\\newcommand{\\Bold}[1]{\\mathbf{#1}}\\mathit{MDD}_{11}\\]</html>"
      ],
      "text/latex": [
       "$$\\newcommand{\\Bold}[1]{\\mathbf{#1}}\\mathit{MDD}_{11}$$"
      ],
      "text/plain": [
       "MDD11"
      ]
     },
     "execution_count": 19,
     "metadata": {},
     "output_type": "execute_result"
    }
   ],
   "source": [
    "MDD[1,1].expr()"
   ]
  },
  {
   "cell_type": "code",
   "execution_count": 10,
   "id": "a791e1a9-33bf-43ff-a60e-1621a614d6f0",
   "metadata": {},
   "outputs": [],
   "source": [
    "aa = [[1, 2, 3], [4, 5, 6]]"
   ]
  },
  {
   "cell_type": "code",
   "execution_count": 13,
   "id": "39e130bd-d7ab-494d-8250-48839b1f754c",
   "metadata": {},
   "outputs": [
    {
     "data": {
      "text/html": [
       "<html>\\[\\newcommand{\\Bold}[1]{\\mathbf{#1}}6\\]</html>"
      ],
      "text/latex": [
       "$$\\newcommand{\\Bold}[1]{\\mathbf{#1}}6$$"
      ],
      "text/plain": [
       "6"
      ]
     },
     "execution_count": 13,
     "metadata": {},
     "output_type": "execute_result"
    }
   ],
   "source": [
    "aa[1][2]"
   ]
  },
  {
   "cell_type": "code",
   "execution_count": 14,
   "id": "eb823567-60fd-4b6c-b7ec-8c4b48719c83",
   "metadata": {},
   "outputs": [],
   "source": [
    "bb = [1]"
   ]
  },
  {
   "cell_type": "markdown",
   "id": "f7a5ed15-d5ff-4cdd-a3db-3de7898c3615",
   "metadata": {},
   "source": [
    "## Sage"
   ]
  },
  {
   "cell_type": "markdown",
   "id": "d669f277-c41c-43b8-a06f-09636f2e5a7c",
   "metadata": {},
   "source": [
    "### test"
   ]
  },
  {
   "cell_type": "code",
   "execution_count": null,
   "id": "f740c081-0471-4c12-850a-29812f242e34",
   "metadata": {
    "collapsed": true,
    "jupyter": {
     "outputs_hidden": true
    },
    "tags": []
   },
   "outputs": [
    {
     "ename": "NameError",
     "evalue": "name 'Sg' is not defined",
     "output_type": "error",
     "traceback": [
      "\u001b[0;31m---------------------------------------------------------------------------\u001b[0m",
      "\u001b[0;31mNameError\u001b[0m                                 Traceback (most recent call last)",
      "\u001b[0;32m/var/folders/13/bmxcpt490x94j1m9n4_mpg880000gn/T/ipykernel_27880/865760897.py\u001b[0m in \u001b[0;36m<module>\u001b[0;34m\u001b[0m\n\u001b[0;32m----> 1\u001b[0;31m \u001b[0mtemp\u001b[0m \u001b[0;34m=\u001b[0m \u001b[0mSg\u001b[0m\u001b[0;34m.\u001b[0m\u001b[0mmanifd\u001b[0m\u001b[0;34m.\u001b[0m\u001b[0mtensor_field\u001b[0m\u001b[0;34m(\u001b[0m\u001b[0mInteger\u001b[0m\u001b[0;34m(\u001b[0m\u001b[0;36m0\u001b[0m\u001b[0;34m)\u001b[0m\u001b[0;34m,\u001b[0m\u001b[0mInteger\u001b[0m\u001b[0;34m(\u001b[0m\u001b[0;36m2\u001b[0m\u001b[0;34m)\u001b[0m\u001b[0;34m,\u001b[0m \u001b[0mname\u001b[0m\u001b[0;34m=\u001b[0m\u001b[0;34m'M'\u001b[0m\u001b[0;34m,\u001b[0m \u001b[0msym\u001b[0m\u001b[0;34m=\u001b[0m\u001b[0;34m(\u001b[0m\u001b[0mInteger\u001b[0m\u001b[0;34m(\u001b[0m\u001b[0;36m0\u001b[0m\u001b[0;34m)\u001b[0m\u001b[0;34m,\u001b[0m\u001b[0mInteger\u001b[0m\u001b[0;34m(\u001b[0m\u001b[0;36m1\u001b[0m\u001b[0;34m)\u001b[0m\u001b[0;34m)\u001b[0m\u001b[0;34m)\u001b[0m\u001b[0;34m\u001b[0m\u001b[0;34m\u001b[0m\u001b[0m\n\u001b[0m",
      "\u001b[0;31mNameError\u001b[0m: name 'Sg' is not defined"
     ]
    }
   ],
   "source": [
    "temp = Sg.manifd.tensor_field(0,2, name='M', sym=(0,1))"
   ]
  },
  {
   "cell_type": "code",
   "execution_count": 1,
   "id": "53cf420c-b478-4c98-8f5a-467f531d9ba9",
   "metadata": {
    "collapsed": true,
    "jupyter": {
     "outputs_hidden": true
    },
    "tags": []
   },
   "outputs": [
    {
     "ename": "NameError",
     "evalue": "name 'temp' is not defined",
     "output_type": "error",
     "traceback": [
      "\u001b[0;31m---------------------------------------------------------------------------\u001b[0m",
      "\u001b[0;31mNameError\u001b[0m                                 Traceback (most recent call last)",
      "\u001b[0;32m/var/folders/13/bmxcpt490x94j1m9n4_mpg880000gn/T/ipykernel_27880/2575713452.py\u001b[0m in \u001b[0;36m<module>\u001b[0;34m\u001b[0m\n\u001b[0;32m----> 1\u001b[0;31m \u001b[0mtemp\u001b[0m\u001b[0;34m[\u001b[0m\u001b[0mInteger\u001b[0m\u001b[0;34m(\u001b[0m\u001b[0;36m0\u001b[0m\u001b[0;34m)\u001b[0m\u001b[0;34m,\u001b[0m\u001b[0mInteger\u001b[0m\u001b[0;34m(\u001b[0m\u001b[0;36m0\u001b[0m\u001b[0;34m)\u001b[0m\u001b[0;34m]\u001b[0m \u001b[0;34m=\u001b[0m \u001b[0mvar\u001b[0m\u001b[0;34m(\u001b[0m\u001b[0;34m'M00_ijk_'\u001b[0m\u001b[0;34m)\u001b[0m\u001b[0;34m\u001b[0m\u001b[0;34m\u001b[0m\u001b[0m\n\u001b[0m",
      "\u001b[0;31mNameError\u001b[0m: name 'temp' is not defined"
     ]
    }
   ],
   "source": [
    "temp[0,0] = var('M00_ijk_')"
   ]
  },
  {
   "cell_type": "code",
   "execution_count": 37,
   "id": "9308baa9-1610-499e-bf63-a443219c54c8",
   "metadata": {},
   "outputs": [
    {
     "data": {
      "text/html": [
       "<html>\\[\\newcommand{\\Bold}[1]{\\mathbf{#1}}\\begin{array}{lcl} M_{ \\, t \\, t }^{ \\phantom{\\, t}\\phantom{\\, t} } & = & M_{00} \\end{array}\\]</html>"
      ],
      "text/latex": [
       "$$\\newcommand{\\Bold}[1]{\\mathbf{#1}}\\begin{array}{lcl} M_{ \\, t \\, t }^{ \\phantom{\\, t}\\phantom{\\, t} } & = & M_{00} \\end{array}$$"
      ],
      "text/plain": [
       "M_tt = M00 "
      ]
     },
     "execution_count": 37,
     "metadata": {},
     "output_type": "execute_result"
    }
   ],
   "source": [
    "temp.display_comp()"
   ]
  },
  {
   "cell_type": "code",
   "execution_count": 6,
   "id": "8a3c60c2-3725-4c85-a9cf-58341f0027b0",
   "metadata": {},
   "outputs": [],
   "source": [
    "U = STC_manifd.tensor_field(1,0, name='u')"
   ]
  },
  {
   "cell_type": "code",
   "execution_count": 7,
   "id": "e2be717e-86ae-4df5-9206-b199ad7e3a73",
   "metadata": {},
   "outputs": [
    {
     "data": {
      "text/html": [
       "<html>\\[\\newcommand{\\Bold}[1]{\\mathbf{#1}}\\verb|u|\\]</html>"
      ],
      "text/latex": [
       "$$\\newcommand{\\Bold}[1]{\\mathbf{#1}}\\verb|u|$$"
      ],
      "text/plain": [
       "'u'"
      ]
     },
     "execution_count": 7,
     "metadata": {},
     "output_type": "execute_result"
    }
   ],
   "source": [
    "U._name"
   ]
  },
  {
   "cell_type": "code",
   "execution_count": 9,
   "id": "0663d91e-c9c1-42f8-9ead-eb3af971be21",
   "metadata": {},
   "outputs": [],
   "source": [
    "temp = M._sym"
   ]
  },
  {
   "cell_type": "code",
   "execution_count": 10,
   "id": "b7afd807-18a2-4d14-8f02-8c9445b40527",
   "metadata": {},
   "outputs": [
    {
     "data": {
      "text/html": [
       "<html>\\[\\newcommand{\\Bold}[1]{\\mathbf{#1}}\\left(0, 1\\right)\\]</html>"
      ],
      "text/latex": [
       "$$\\newcommand{\\Bold}[1]{\\mathbf{#1}}\\left(0, 1\\right)$$"
      ],
      "text/plain": [
       "(0, 1)"
      ]
     },
     "execution_count": 10,
     "metadata": {},
     "output_type": "execute_result"
    }
   ],
   "source": [
    "temp[0]"
   ]
  },
  {
   "cell_type": "code",
   "execution_count": 11,
   "id": "68dd67c6-1ec0-49c2-905e-0b8d89995804",
   "metadata": {},
   "outputs": [
    {
     "name": "stdout",
     "output_type": "stream",
     "text": [
      "symmetry: (0, 1); no antisymmetry\n"
     ]
    }
   ],
   "source": [
    "M.symmetries()"
   ]
  },
  {
   "cell_type": "markdown",
   "id": "c89897b3-2125-43fd-a03f-dd8bffb22848",
   "metadata": {
    "tags": []
   },
   "source": [
    "## Read str"
   ]
  },
  {
   "cell_type": "code",
   "execution_count": 10,
   "id": "8821444f-d25e-4ecd-8676-314a802dac81",
   "metadata": {},
   "outputs": [],
   "source": [
    "index = []\n",
    "for ii in string.ascii_lowercase:\n",
    "    index.append(ii)"
   ]
  },
  {
   "cell_type": "code",
   "execution_count": 12,
   "id": "b60014ee-c908-4da8-a0ff-6df48223a99e",
   "metadata": {},
   "outputs": [
    {
     "data": {
      "text/html": [
       "<html>\\[\\newcommand{\\Bold}[1]{\\mathbf{#1}}\\left[\\verb|a|, \\verb|b|, \\verb|c|, \\verb|d|, \\verb|e|, \\verb|f|, \\verb|g|, \\verb|h|, \\verb|i|, \\verb|j|, \\verb|k|, \\verb|l|, \\verb|m|, \\verb|n|, \\verb|o|, \\verb|p|, \\verb|q|, \\verb|r|, \\verb|s|, \\verb|t|, \\verb|u|, \\verb|v|, \\verb|w|, \\verb|x|, \\verb|y|, \\verb|z|\\right]\\]</html>"
      ],
      "text/latex": [
       "$$\\newcommand{\\Bold}[1]{\\mathbf{#1}}\\left[\\verb|a|, \\verb|b|, \\verb|c|, \\verb|d|, \\verb|e|, \\verb|f|, \\verb|g|, \\verb|h|, \\verb|i|, \\verb|j|, \\verb|k|, \\verb|l|, \\verb|m|, \\verb|n|, \\verb|o|, \\verb|p|, \\verb|q|, \\verb|r|, \\verb|s|, \\verb|t|, \\verb|u|, \\verb|v|, \\verb|w|, \\verb|x|, \\verb|y|, \\verb|z|\\right]$$"
      ],
      "text/plain": [
       "['a',\n",
       " 'b',\n",
       " 'c',\n",
       " 'd',\n",
       " 'e',\n",
       " 'f',\n",
       " 'g',\n",
       " 'h',\n",
       " 'i',\n",
       " 'j',\n",
       " 'k',\n",
       " 'l',\n",
       " 'm',\n",
       " 'n',\n",
       " 'o',\n",
       " 'p',\n",
       " 'q',\n",
       " 'r',\n",
       " 's',\n",
       " 't',\n",
       " 'u',\n",
       " 'v',\n",
       " 'w',\n",
       " 'x',\n",
       " 'y',\n",
       " 'z']"
      ]
     },
     "execution_count": 12,
     "metadata": {},
     "output_type": "execute_result"
    }
   ],
   "source": [
    "index"
   ]
  },
  {
   "cell_type": "code",
   "execution_count": 12,
   "id": "f0d0b9e5-e9c8-4216-acaa-3f1149d5d5bd",
   "metadata": {},
   "outputs": [
    {
     "data": {
      "text/html": [
       "<html>\\[\\newcommand{\\Bold}[1]{\\mathbf{#1}}\\left(a, b, c, d, e, f, g, h, i, j, k, l, m, n, o, p, q, r, s, t, u, v, w, x, y, z\\right)\\]</html>"
      ],
      "text/latex": [
       "$$\\newcommand{\\Bold}[1]{\\mathbf{#1}}\\left(a, b, c, d, e, f, g, h, i, j, k, l, m, n, o, p, q, r, s, t, u, v, w, x, y, z\\right)$$"
      ],
      "text/plain": [
       "(a, b, c, d, e, f, g, h, i, j, k, l, m, n, o, p, q, r, s, t, u, v, w, x, y, z)"
      ]
     },
     "execution_count": 12,
     "metadata": {},
     "output_type": "execute_result"
    }
   ],
   "source": [
    "var(index)"
   ]
  }
 ],
 "metadata": {
  "kernelspec": {
   "display_name": "SageMath 9.5",
   "language": "sage",
   "name": "sagemath-9.5"
  },
  "language_info": {
   "codemirror_mode": {
    "name": "ipython",
    "version": 3
   },
   "file_extension": ".py",
   "mimetype": "text/x-python",
   "name": "python",
   "nbconvert_exporter": "python",
   "pygments_lexer": "ipython3",
   "version": "3.9.9"
  }
 },
 "nbformat": 4,
 "nbformat_minor": 5
}
