{
 "cells": [
  {
   "cell_type": "markdown",
   "id": "53617226-df33-414d-87f2-e93734711746",
   "metadata": {},
   "source": [
    "# Example $d_tu^i=M^i{}_jM^j{}_ku^k$"
   ]
  },
  {
   "cell_type": "code",
   "execution_count": 1,
   "id": "d67872e8-8bf0-4906-b759-99e38d676ad6",
   "metadata": {},
   "outputs": [
    {
     "name": "stdout",
     "output_type": "stream",
     "text": [
      "Welcome to SageToC (a code generator)\n"
     ]
    }
   ],
   "source": [
    "import sys\n",
    "import os\n",
    "sys.path.insert(0, '/Users/liwei/Tools/SageToC')\n",
    "sys.path.insert(0, '../Codes')\n",
    "import SageToC as Sg\n",
    "import Nmesh\n",
    "from Nmesh import print_to_cfile as pr"
   ]
  },
  {
   "cell_type": "code",
   "execution_count": 2,
   "id": "d33f4fb3-09e8-4d2b-a036-82fe4a8fe288",
   "metadata": {},
   "outputs": [],
   "source": [
    "%display latex\n",
    "#Parallelism().set(nproc=4)\n",
    "\n",
    "# dimension and manifold\n",
    "Sg.dimens = 3\n",
    "Sg.manifd = Manifold(Sg.dimens, name='M', latex_name=r'\\mathcal{M}', structure=\"Lorentzian\", start_index=0)\n",
    "Sg.manifd.set_calculus_method('sympy')\n",
    "\n",
    "# coordinats\n",
    "#cartesian.<T, X, Y, Z> = Sg.manifd.chart('t:(0,+oo) x y z:(-oo,+oo)')\n",
    "cartesian.<X, Y, Z> = Sg.manifd.chart('x y z:(-oo,+oo)')"
   ]
  },
  {
   "cell_type": "code",
   "execution_count": 3,
   "id": "72627ec7-b533-4a68-9907-d04e463233cb",
   "metadata": {},
   "outputs": [],
   "source": [
    "evolution = [\n",
    "    \"u[i]\"\n",
    "]\n",
    "temporary = [\n",
    "    \"v[i]\"\n",
    "]\n",
    "moreinput = [\n",
    "    \"M[i,-j], sym[{0,1}]\",\n",
    "    \"N[k,l], antisym[{0,1}]\",\n",
    "    \"Phi[-k,-a,-b], sym[{1,2}]\",\n",
    "    \"ddg[-k,-l,-a,-b], antisym[{0,1},{2,3}]\",\n",
    "    \"ddg2[-k,-l,-a,-b], sym[{0,1}], antisym[{2,3}]\"\n",
    "]"
   ]
  },
  {
   "cell_type": "code",
   "execution_count": 4,
   "id": "d3e753b8-a67b-49b8-a2b8-3b1e9ec44b75",
   "metadata": {},
   "outputs": [
    {
     "name": "stdout",
     "output_type": "stream",
     "text": [
      "defining  u ...\n",
      "mode =  set_comp_gf_independent\n",
      "defining  dtu ...\n",
      "mode =  set_comp_gf_independent\n",
      "defining  v ...\n",
      "mode =  set_comp_temp\n",
      "defining  M ...\n",
      "defining  N ...\n",
      "defining  Phi ...\n",
      "defining  ddg ...\n",
      "defining  ddg2 ...\n",
      "mode =  set_comp_gf_independent\n"
     ]
    }
   ],
   "source": [
    "Evol = Sg.EvolutionVarlist(evolution)\n",
    "dtEvol = Evol.prefix()\n",
    "Temp = Sg.TemporaryVarlist(temporary)\n",
    "MoreInput = Sg.MoreInputVarlist(moreinput)"
   ]
  },
  {
   "cell_type": "markdown",
   "id": "995de3f2-0c75-4e51-843e-41f003c7b575",
   "metadata": {
    "tags": []
   },
   "source": [
    "#### test"
   ]
  },
  {
   "cell_type": "code",
   "execution_count": 5,
   "id": "ef2e1b44-3089-4670-b336-6edbc8bf24d3",
   "metadata": {},
   "outputs": [
    {
     "data": {
      "text/html": [
       "<html>\\[\\newcommand{\\Bold}[1]{\\mathbf{#1}}\\left[\\left[\\verb|u1|, 0\\right], \\left[\\verb|u2|, 1\\right], \\left[\\verb|u3|, 2\\right], \\left[\\verb|dtu1|, 0\\right], \\left[\\verb|dtu2|, 1\\right], \\left[\\verb|dtu3|, 2\\right], \\left[\\verb|v1|, 0\\right], \\left[\\verb|v2|, 1\\right], \\left[\\verb|v3|, 2\\right], \\left[\\verb|M11|, 0\\right], \\left[\\verb|M12|, 1\\right], \\left[\\verb|M13|, 2\\right], \\left[\\verb|M22|, 3\\right], \\left[\\verb|M23|, 4\\right], \\left[\\verb|M33|, 5\\right], \\left[\\verb|N12|, 0\\right], \\left[\\verb|N13|, 1\\right], \\left[\\verb|N23|, 2\\right], \\left[\\verb|Phi111|, 0\\right], \\left[\\verb|Phi112|, 1\\right], \\left[\\verb|Phi113|, 2\\right], \\left[\\verb|Phi122|, 3\\right], \\left[\\verb|Phi123|, 4\\right], \\left[\\verb|Phi133|, 5\\right], \\left[\\verb|Phi211|, 6\\right], \\left[\\verb|Phi212|, 7\\right], \\left[\\verb|Phi213|, 8\\right], \\left[\\verb|Phi222|, 9\\right], \\left[\\verb|Phi223|, 10\\right], \\left[\\verb|Phi233|, 11\\right], \\left[\\verb|Phi311|, 12\\right], \\left[\\verb|Phi312|, 13\\right], \\left[\\verb|Phi313|, 14\\right], \\left[\\verb|Phi322|, 15\\right], \\left[\\verb|Phi323|, 16\\right], \\left[\\verb|Phi333|, 17\\right], \\left[\\verb|ddg1212|, 0\\right], \\left[\\verb|ddg1213|, 1\\right], \\left[\\verb|ddg1223|, 2\\right], \\left[\\verb|ddg1312|, 3\\right], \\left[\\verb|ddg1313|, 4\\right], \\left[\\verb|ddg1323|, 5\\right], \\left[\\verb|ddg2312|, 6\\right], \\left[\\verb|ddg2313|, 7\\right], \\left[\\verb|ddg2323|, 8\\right], \\left[\\verb|ddg21112|, 9\\right], \\left[\\verb|ddg21113|, 10\\right], \\left[\\verb|ddg21123|, 11\\right], \\left[\\verb|ddg21212|, 12\\right], \\left[\\verb|ddg21213|, 13\\right], \\left[\\verb|ddg21223|, 14\\right], \\left[\\verb|ddg21312|, 15\\right], \\left[\\verb|ddg21313|, 16\\right], \\left[\\verb|ddg21323|, 17\\right], \\left[\\verb|ddg22212|, 18\\right], \\left[\\verb|ddg22213|, 19\\right], \\left[\\verb|ddg22223|, 20\\right], \\left[\\verb|ddg22312|, 21\\right], \\left[\\verb|ddg22313|, 22\\right], \\left[\\verb|ddg22323|, 23\\right], \\left[\\verb|ddg23312|, 24\\right], \\left[\\verb|ddg23313|, 25\\right], \\left[\\verb|ddg23323|, 26\\right]\\right]\\]</html>"
      ],
      "text/latex": [
       "$$\\newcommand{\\Bold}[1]{\\mathbf{#1}}\\left[\\left[\\verb|u1|, 0\\right], \\left[\\verb|u2|, 1\\right], \\left[\\verb|u3|, 2\\right], \\left[\\verb|dtu1|, 0\\right], \\left[\\verb|dtu2|, 1\\right], \\left[\\verb|dtu3|, 2\\right], \\left[\\verb|v1|, 0\\right], \\left[\\verb|v2|, 1\\right], \\left[\\verb|v3|, 2\\right], \\left[\\verb|M11|, 0\\right], \\left[\\verb|M12|, 1\\right], \\left[\\verb|M13|, 2\\right], \\left[\\verb|M22|, 3\\right], \\left[\\verb|M23|, 4\\right], \\left[\\verb|M33|, 5\\right], \\left[\\verb|N12|, 0\\right], \\left[\\verb|N13|, 1\\right], \\left[\\verb|N23|, 2\\right], \\left[\\verb|Phi111|, 0\\right], \\left[\\verb|Phi112|, 1\\right], \\left[\\verb|Phi113|, 2\\right], \\left[\\verb|Phi122|, 3\\right], \\left[\\verb|Phi123|, 4\\right], \\left[\\verb|Phi133|, 5\\right], \\left[\\verb|Phi211|, 6\\right], \\left[\\verb|Phi212|, 7\\right], \\left[\\verb|Phi213|, 8\\right], \\left[\\verb|Phi222|, 9\\right], \\left[\\verb|Phi223|, 10\\right], \\left[\\verb|Phi233|, 11\\right], \\left[\\verb|Phi311|, 12\\right], \\left[\\verb|Phi312|, 13\\right], \\left[\\verb|Phi313|, 14\\right], \\left[\\verb|Phi322|, 15\\right], \\left[\\verb|Phi323|, 16\\right], \\left[\\verb|Phi333|, 17\\right], \\left[\\verb|ddg1212|, 0\\right], \\left[\\verb|ddg1213|, 1\\right], \\left[\\verb|ddg1223|, 2\\right], \\left[\\verb|ddg1312|, 3\\right], \\left[\\verb|ddg1313|, 4\\right], \\left[\\verb|ddg1323|, 5\\right], \\left[\\verb|ddg2312|, 6\\right], \\left[\\verb|ddg2313|, 7\\right], \\left[\\verb|ddg2323|, 8\\right], \\left[\\verb|ddg21112|, 9\\right], \\left[\\verb|ddg21113|, 10\\right], \\left[\\verb|ddg21123|, 11\\right], \\left[\\verb|ddg21212|, 12\\right], \\left[\\verb|ddg21213|, 13\\right], \\left[\\verb|ddg21223|, 14\\right], \\left[\\verb|ddg21312|, 15\\right], \\left[\\verb|ddg21313|, 16\\right], \\left[\\verb|ddg21323|, 17\\right], \\left[\\verb|ddg22212|, 18\\right], \\left[\\verb|ddg22213|, 19\\right], \\left[\\verb|ddg22223|, 20\\right], \\left[\\verb|ddg22312|, 21\\right], \\left[\\verb|ddg22313|, 22\\right], \\left[\\verb|ddg22323|, 23\\right], \\left[\\verb|ddg23312|, 24\\right], \\left[\\verb|ddg23313|, 25\\right], \\left[\\verb|ddg23323|, 26\\right]\\right]$$"
      ],
      "text/plain": [
       "[['u1', 0],\n",
       " ['u2', 1],\n",
       " ['u3', 2],\n",
       " ['dtu1', 0],\n",
       " ['dtu2', 1],\n",
       " ['dtu3', 2],\n",
       " ['v1', 0],\n",
       " ['v2', 1],\n",
       " ['v3', 2],\n",
       " ['M11', 0],\n",
       " ['M12', 1],\n",
       " ['M13', 2],\n",
       " ['M22', 3],\n",
       " ['M23', 4],\n",
       " ['M33', 5],\n",
       " ['N12', 0],\n",
       " ['N13', 1],\n",
       " ['N23', 2],\n",
       " ['Phi111', 0],\n",
       " ['Phi112', 1],\n",
       " ['Phi113', 2],\n",
       " ['Phi122', 3],\n",
       " ['Phi123', 4],\n",
       " ['Phi133', 5],\n",
       " ['Phi211', 6],\n",
       " ['Phi212', 7],\n",
       " ['Phi213', 8],\n",
       " ['Phi222', 9],\n",
       " ['Phi223', 10],\n",
       " ['Phi233', 11],\n",
       " ['Phi311', 12],\n",
       " ['Phi312', 13],\n",
       " ['Phi313', 14],\n",
       " ['Phi322', 15],\n",
       " ['Phi323', 16],\n",
       " ['Phi333', 17],\n",
       " ['ddg1212', 0],\n",
       " ['ddg1213', 1],\n",
       " ['ddg1223', 2],\n",
       " ['ddg1312', 3],\n",
       " ['ddg1313', 4],\n",
       " ['ddg1323', 5],\n",
       " ['ddg2312', 6],\n",
       " ['ddg2313', 7],\n",
       " ['ddg2323', 8],\n",
       " ['ddg21112', 9],\n",
       " ['ddg21113', 10],\n",
       " ['ddg21123', 11],\n",
       " ['ddg21212', 12],\n",
       " ['ddg21213', 13],\n",
       " ['ddg21223', 14],\n",
       " ['ddg21312', 15],\n",
       " ['ddg21313', 16],\n",
       " ['ddg21323', 17],\n",
       " ['ddg22212', 18],\n",
       " ['ddg22213', 19],\n",
       " ['ddg22223', 20],\n",
       " ['ddg22312', 21],\n",
       " ['ddg22313', 22],\n",
       " ['ddg22323', 23],\n",
       " ['ddg23312', 24],\n",
       " ['ddg23313', 25],\n",
       " ['ddg23323', 26]]"
      ]
     },
     "execution_count": 5,
     "metadata": {},
     "output_type": "execute_result"
    }
   ],
   "source": [
    "Sg.map_component_to_varlist"
   ]
  },
  {
   "cell_type": "code",
   "execution_count": 7,
   "id": "f0c5dfec-c669-4d56-b77a-1517eb25667e",
   "metadata": {},
   "outputs": [
    {
     "name": "stdout",
     "output_type": "stream",
     "text": [
      "['dtu[i]']\n"
     ]
    }
   ],
   "source": [
    "print(dtEvol.varlist)"
   ]
  },
  {
   "cell_type": "code",
   "execution_count": 8,
   "id": "7c2f08e7-5b14-469b-889d-f5d510be6a0e",
   "metadata": {},
   "outputs": [
    {
     "name": "stdout",
     "output_type": "stream",
     "text": [
      "['u[i]']\n"
     ]
    }
   ],
   "source": [
    "print(Evol.varlist)"
   ]
  },
  {
   "cell_type": "code",
   "execution_count": 12,
   "id": "da0a1105-c545-4c28-bb2e-7d52dac9751b",
   "metadata": {
    "collapsed": true,
    "jupyter": {
     "outputs_hidden": true
    },
    "tags": []
   },
   "outputs": [
    {
     "data": {
      "text/html": [
       "<html>\\[\\newcommand{\\Bold}[1]{\\mathbf{#1}}\\begin{array}{lcl} M_{ \\phantom{\\, t} \\, t }^{ \\, t \\phantom{\\, t} } & = & M_{00 ijk } \\\\ M_{ \\phantom{\\, t} \\, x }^{ \\, t \\phantom{\\, x} } & = & M_{01 ijk } \\\\ M_{ \\phantom{\\, t} \\, y }^{ \\, t \\phantom{\\, y} } & = & M_{02 ijk } \\\\ M_{ \\phantom{\\, t} \\, z }^{ \\, t \\phantom{\\, z} } & = & M_{03 ijk } \\\\ M_{ \\phantom{\\, x} \\, t }^{ \\, x \\phantom{\\, t} } & = & M_{01 ijk } \\\\ M_{ \\phantom{\\, x} \\, x }^{ \\, x \\phantom{\\, x} } & = & M_{11 ijk } \\\\ M_{ \\phantom{\\, x} \\, y }^{ \\, x \\phantom{\\, y} } & = & M_{12 ijk } \\\\ M_{ \\phantom{\\, x} \\, z }^{ \\, x \\phantom{\\, z} } & = & M_{13 ijk } \\\\ M_{ \\phantom{\\, y} \\, t }^{ \\, y \\phantom{\\, t} } & = & M_{02 ijk } \\\\ M_{ \\phantom{\\, y} \\, x }^{ \\, y \\phantom{\\, x} } & = & M_{12 ijk } \\\\ M_{ \\phantom{\\, y} \\, y }^{ \\, y \\phantom{\\, y} } & = & M_{22 ijk } \\\\ M_{ \\phantom{\\, y} \\, z }^{ \\, y \\phantom{\\, z} } & = & M_{23 ijk } \\\\ M_{ \\phantom{\\, z} \\, t }^{ \\, z \\phantom{\\, t} } & = & M_{03 ijk } \\\\ M_{ \\phantom{\\, z} \\, x }^{ \\, z \\phantom{\\, x} } & = & M_{13 ijk } \\\\ M_{ \\phantom{\\, z} \\, y }^{ \\, z \\phantom{\\, y} } & = & M_{23 ijk } \\\\ M_{ \\phantom{\\, z} \\, z }^{ \\, z \\phantom{\\, z} } & = & M_{33 ijk } \\end{array}\\]</html>"
      ],
      "text/latex": [
       "$$\\newcommand{\\Bold}[1]{\\mathbf{#1}}\\begin{array}{lcl} M_{ \\phantom{\\, t} \\, t }^{ \\, t \\phantom{\\, t} } & = & M_{00 ijk } \\\\ M_{ \\phantom{\\, t} \\, x }^{ \\, t \\phantom{\\, x} } & = & M_{01 ijk } \\\\ M_{ \\phantom{\\, t} \\, y }^{ \\, t \\phantom{\\, y} } & = & M_{02 ijk } \\\\ M_{ \\phantom{\\, t} \\, z }^{ \\, t \\phantom{\\, z} } & = & M_{03 ijk } \\\\ M_{ \\phantom{\\, x} \\, t }^{ \\, x \\phantom{\\, t} } & = & M_{01 ijk } \\\\ M_{ \\phantom{\\, x} \\, x }^{ \\, x \\phantom{\\, x} } & = & M_{11 ijk } \\\\ M_{ \\phantom{\\, x} \\, y }^{ \\, x \\phantom{\\, y} } & = & M_{12 ijk } \\\\ M_{ \\phantom{\\, x} \\, z }^{ \\, x \\phantom{\\, z} } & = & M_{13 ijk } \\\\ M_{ \\phantom{\\, y} \\, t }^{ \\, y \\phantom{\\, t} } & = & M_{02 ijk } \\\\ M_{ \\phantom{\\, y} \\, x }^{ \\, y \\phantom{\\, x} } & = & M_{12 ijk } \\\\ M_{ \\phantom{\\, y} \\, y }^{ \\, y \\phantom{\\, y} } & = & M_{22 ijk } \\\\ M_{ \\phantom{\\, y} \\, z }^{ \\, y \\phantom{\\, z} } & = & M_{23 ijk } \\\\ M_{ \\phantom{\\, z} \\, t }^{ \\, z \\phantom{\\, t} } & = & M_{03 ijk } \\\\ M_{ \\phantom{\\, z} \\, x }^{ \\, z \\phantom{\\, x} } & = & M_{13 ijk } \\\\ M_{ \\phantom{\\, z} \\, y }^{ \\, z \\phantom{\\, y} } & = & M_{23 ijk } \\\\ M_{ \\phantom{\\, z} \\, z }^{ \\, z \\phantom{\\, z} } & = & M_{33 ijk } \\end{array}$$"
      ],
      "text/plain": [
       "M^t_t = M00_ijk_ \n",
       "M^t_x = M01_ijk_ \n",
       "M^t_y = M02_ijk_ \n",
       "M^t_z = M03_ijk_ \n",
       "M^x_t = M01_ijk_ \n",
       "M^x_x = M11_ijk_ \n",
       "M^x_y = M12_ijk_ \n",
       "M^x_z = M13_ijk_ \n",
       "M^y_t = M02_ijk_ \n",
       "M^y_x = M12_ijk_ \n",
       "M^y_y = M22_ijk_ \n",
       "M^y_z = M23_ijk_ \n",
       "M^z_t = M03_ijk_ \n",
       "M^z_x = M13_ijk_ \n",
       "M^z_y = M23_ijk_ \n",
       "M^z_z = M33_ijk_ "
      ]
     },
     "execution_count": 12,
     "metadata": {},
     "output_type": "execute_result"
    }
   ],
   "source": [
    "Sg.M.display_comp()"
   ]
  },
  {
   "cell_type": "markdown",
   "id": "31eb755a-a842-4cd3-9a37-5dc7ea7c6b3c",
   "metadata": {},
   "source": [
    "### Equaitons"
   ]
  },
  {
   "cell_type": "code",
   "execution_count": 5,
   "id": "f43b9d4f-5700-4d70-97bb-93414e079eb9",
   "metadata": {},
   "outputs": [],
   "source": [
    "# update the names (since its a cope from module Sg\n",
    "from SageToC import *\n",
    "\n",
    "Sg.v_rhs = M(u)\n",
    "Sg.u_rhs = M(v)"
   ]
  },
  {
   "cell_type": "markdown",
   "id": "ad8da9e7-e483-493f-9093-83c047f4cab3",
   "metadata": {
    "jp-MarkdownHeadingCollapsed": true,
    "tags": []
   },
   "source": [
    "#### test (cse)"
   ]
  },
  {
   "cell_type": "code",
   "execution_count": 28,
   "id": "f9fa908b-63c1-4a11-9fb5-a23602aeb539",
   "metadata": {
    "collapsed": true,
    "jupyter": {
     "outputs_hidden": true
    },
    "tags": []
   },
   "outputs": [
    {
     "data": {
      "text/html": [
       "<html>\\[\\newcommand{\\Bold}[1]{\\mathbf{#1}}\\begin{array}{lcl} M\\left(u\\right)_{\\phantom{\\, t}}^{ \\, t } & = & M_{00 ijk } u_{0 ijk } + M_{01 ijk } u_{1 ijk } + M_{02 ijk } u_{2 ijk } + M_{03 ijk } u_{3 ijk } \\\\ M\\left(u\\right)_{\\phantom{\\, x}}^{ \\, x } & = & M_{01 ijk } u_{0 ijk } + M_{11 ijk } u_{1 ijk } + M_{12 ijk } u_{2 ijk } + M_{13 ijk } u_{3 ijk } \\\\ M\\left(u\\right)_{\\phantom{\\, y}}^{ \\, y } & = & M_{02 ijk } u_{0 ijk } + M_{12 ijk } u_{1 ijk } + M_{22 ijk } u_{2 ijk } + M_{23 ijk } u_{3 ijk } \\\\ M\\left(u\\right)_{\\phantom{\\, z}}^{ \\, z } & = & M_{03 ijk } u_{0 ijk } + M_{13 ijk } u_{1 ijk } + M_{23 ijk } u_{2 ijk } + M_{33 ijk } u_{3 ijk } \\end{array}\\]</html>"
      ],
      "text/latex": [
       "$$\\newcommand{\\Bold}[1]{\\mathbf{#1}}\\begin{array}{lcl} M\\left(u\\right)_{\\phantom{\\, t}}^{ \\, t } & = & M_{00 ijk } u_{0 ijk } + M_{01 ijk } u_{1 ijk } + M_{02 ijk } u_{2 ijk } + M_{03 ijk } u_{3 ijk } \\\\ M\\left(u\\right)_{\\phantom{\\, x}}^{ \\, x } & = & M_{01 ijk } u_{0 ijk } + M_{11 ijk } u_{1 ijk } + M_{12 ijk } u_{2 ijk } + M_{13 ijk } u_{3 ijk } \\\\ M\\left(u\\right)_{\\phantom{\\, y}}^{ \\, y } & = & M_{02 ijk } u_{0 ijk } + M_{12 ijk } u_{1 ijk } + M_{22 ijk } u_{2 ijk } + M_{23 ijk } u_{3 ijk } \\\\ M\\left(u\\right)_{\\phantom{\\, z}}^{ \\, z } & = & M_{03 ijk } u_{0 ijk } + M_{13 ijk } u_{1 ijk } + M_{23 ijk } u_{2 ijk } + M_{33 ijk } u_{3 ijk } \\end{array}$$"
      ],
      "text/plain": [
       "M(u)^t = M00_ijk_*u0_ijk_ + M01_ijk_*u1_ijk_ + M02_ijk_*u2_ijk_ + M03_ijk_*u3_ijk_ \n",
       "M(u)^x = M01_ijk_*u0_ijk_ + M11_ijk_*u1_ijk_ + M12_ijk_*u2_ijk_ + M13_ijk_*u3_ijk_ \n",
       "M(u)^y = M02_ijk_*u0_ijk_ + M12_ijk_*u1_ijk_ + M22_ijk_*u2_ijk_ + M23_ijk_*u3_ijk_ \n",
       "M(u)^z = M03_ijk_*u0_ijk_ + M13_ijk_*u1_ijk_ + M23_ijk_*u2_ijk_ + M33_ijk_*u3_ijk_ "
      ]
     },
     "execution_count": 28,
     "metadata": {},
     "output_type": "execute_result"
    }
   ],
   "source": [
    "Sg.v_rhs.display_comp()"
   ]
  },
  {
   "cell_type": "code",
   "execution_count": 29,
   "id": "31aa9c13-2571-497f-9eee-d665c3ec3e06",
   "metadata": {
    "collapsed": true,
    "jupyter": {
     "outputs_hidden": true
    },
    "tags": []
   },
   "outputs": [
    {
     "data": {
      "text/html": [
       "<html>\\[\\newcommand{\\Bold}[1]{\\mathbf{#1}}\\begin{array}{lcl} M\\left(v\\right)_{\\phantom{\\, t}}^{ \\, t } & = & M_{00 ijk } v_{0 ijk } + M_{01 ijk } v_{1 ijk } + M_{02 ijk } v_{2 ijk } + M_{03 ijk } v_{3 ijk } \\\\ M\\left(v\\right)_{\\phantom{\\, x}}^{ \\, x } & = & M_{01 ijk } v_{0 ijk } + M_{11 ijk } v_{1 ijk } + M_{12 ijk } v_{2 ijk } + M_{13 ijk } v_{3 ijk } \\\\ M\\left(v\\right)_{\\phantom{\\, y}}^{ \\, y } & = & M_{02 ijk } v_{0 ijk } + M_{12 ijk } v_{1 ijk } + M_{22 ijk } v_{2 ijk } + M_{23 ijk } v_{3 ijk } \\\\ M\\left(v\\right)_{\\phantom{\\, z}}^{ \\, z } & = & M_{03 ijk } v_{0 ijk } + M_{13 ijk } v_{1 ijk } + M_{23 ijk } v_{2 ijk } + M_{33 ijk } v_{3 ijk } \\end{array}\\]</html>"
      ],
      "text/latex": [
       "$$\\newcommand{\\Bold}[1]{\\mathbf{#1}}\\begin{array}{lcl} M\\left(v\\right)_{\\phantom{\\, t}}^{ \\, t } & = & M_{00 ijk } v_{0 ijk } + M_{01 ijk } v_{1 ijk } + M_{02 ijk } v_{2 ijk } + M_{03 ijk } v_{3 ijk } \\\\ M\\left(v\\right)_{\\phantom{\\, x}}^{ \\, x } & = & M_{01 ijk } v_{0 ijk } + M_{11 ijk } v_{1 ijk } + M_{12 ijk } v_{2 ijk } + M_{13 ijk } v_{3 ijk } \\\\ M\\left(v\\right)_{\\phantom{\\, y}}^{ \\, y } & = & M_{02 ijk } v_{0 ijk } + M_{12 ijk } v_{1 ijk } + M_{22 ijk } v_{2 ijk } + M_{23 ijk } v_{3 ijk } \\\\ M\\left(v\\right)_{\\phantom{\\, z}}^{ \\, z } & = & M_{03 ijk } v_{0 ijk } + M_{13 ijk } v_{1 ijk } + M_{23 ijk } v_{2 ijk } + M_{33 ijk } v_{3 ijk } \\end{array}$$"
      ],
      "text/plain": [
       "M(v)^t = M00_ijk_*v0_ijk_ + M01_ijk_*v1_ijk_ + M02_ijk_*v2_ijk_ + M03_ijk_*v3_ijk_ \n",
       "M(v)^x = M01_ijk_*v0_ijk_ + M11_ijk_*v1_ijk_ + M12_ijk_*v2_ijk_ + M13_ijk_*v3_ijk_ \n",
       "M(v)^y = M02_ijk_*v0_ijk_ + M12_ijk_*v1_ijk_ + M22_ijk_*v2_ijk_ + M23_ijk_*v3_ijk_ \n",
       "M(v)^z = M03_ijk_*v0_ijk_ + M13_ijk_*v1_ijk_ + M23_ijk_*v2_ijk_ + M33_ijk_*v3_ijk_ "
      ]
     },
     "execution_count": 29,
     "metadata": {},
     "output_type": "execute_result"
    }
   ],
   "source": [
    "Sg.r_rhs.display_comp()"
   ]
  },
  {
   "cell_type": "code",
   "execution_count": 30,
   "id": "6e60da63-42cb-452c-8a9b-242f5f857080",
   "metadata": {
    "tags": []
   },
   "outputs": [
    {
     "data": {
      "text/html": [
       "<html>\\[\\newcommand{\\Bold}[1]{\\mathbf{#1}}\\verb|M00_ijk_*u0_ijk_|\\verb| |\\verb|+|\\verb| |\\verb|M01_ijk_*u1_ijk_|\\verb| |\\verb|+|\\verb| |\\verb|M02_ijk_*u2_ijk_|\\verb| |\\verb|+|\\verb| |\\verb|M03_ijk_*u3_ijk_|\\]</html>"
      ],
      "text/latex": [
       "$$\\newcommand{\\Bold}[1]{\\mathbf{#1}}\\verb|M00_ijk_*u0_ijk_|\\verb| |\\verb|+|\\verb| |\\verb|M01_ijk_*u1_ijk_|\\verb| |\\verb|+|\\verb| |\\verb|M02_ijk_*u2_ijk_|\\verb| |\\verb|+|\\verb| |\\verb|M03_ijk_*u3_ijk_|$$"
      ],
      "text/plain": [
       "M00_ijk_*u0_ijk_ + M01_ijk_*u1_ijk_ + M02_ijk_*u2_ijk_ + M03_ijk_*u3_ijk_"
      ]
     },
     "execution_count": 30,
     "metadata": {},
     "output_type": "execute_result"
    }
   ],
   "source": [
    "Sg.v_rhs[0].expr()"
   ]
  },
  {
   "cell_type": "code",
   "execution_count": 31,
   "id": "0aaa2aba-e7be-4b09-be7a-2831af122e8b",
   "metadata": {
    "tags": []
   },
   "outputs": [],
   "source": [
    "from sympy import cse"
   ]
  },
  {
   "cell_type": "code",
   "execution_count": 33,
   "id": "ba81ba33-26aa-43b0-82d4-515288ba4944",
   "metadata": {},
   "outputs": [
    {
     "data": {
      "text/html": [
       "<html>\\[\\newcommand{\\Bold}[1]{\\mathbf{#1}}\\left(\\left[\\right], \\left[\\verb|M00_ijk_*u0_ijk_|\\verb| |\\verb|+|\\verb| |\\verb|M01_ijk_*u1_ijk_|\\verb| |\\verb|+|\\verb| |\\verb|M02_ijk_*u2_ijk_|\\verb| |\\verb|+|\\verb| |\\verb|M03_ijk_*u3_ijk_|\\right]\\right)\\]</html>"
      ],
      "text/latex": [
       "$$\\newcommand{\\Bold}[1]{\\mathbf{#1}}\\left(\\left[\\right], \\left[\\verb|M00_ijk_*u0_ijk_|\\verb| |\\verb|+|\\verb| |\\verb|M01_ijk_*u1_ijk_|\\verb| |\\verb|+|\\verb| |\\verb|M02_ijk_*u2_ijk_|\\verb| |\\verb|+|\\verb| |\\verb|M03_ijk_*u3_ijk_|\\right]\\right)$$"
      ],
      "text/plain": [
       "([],\n",
       " [M00_ijk_*u0_ijk_ + M01_ijk_*u1_ijk_ + M02_ijk_*u2_ijk_ + M03_ijk_*u3_ijk_])"
      ]
     },
     "execution_count": 33,
     "metadata": {},
     "output_type": "execute_result"
    }
   ],
   "source": [
    "cse(Sg.v_rhs[0].expr())"
   ]
  },
  {
   "cell_type": "markdown",
   "id": "95268e76-35f2-446f-9c86-2ad5d0db45df",
   "metadata": {},
   "source": [
    "### print to files"
   ]
  },
  {
   "cell_type": "code",
   "execution_count": 6,
   "id": "440eb5fb-3589-46ed-ba72-a5c8b0341fed",
   "metadata": {},
   "outputs": [
    {
     "name": "stdout",
     "output_type": "stream",
     "text": [
      "mode =  print_comp_init_vlr_independent\n",
      "mode =  print_comp_init_vlu_independent\n",
      "mode =  print_comp_init_more_input_output\n",
      "mode =  print_comp_eqn_temp\n",
      "mode =  print_comp_eqn_primary\n",
      "mode =  print_comp_eqn_primary\n"
     ]
    }
   ],
   "source": [
    "Sg.cfilename = \"test.c\"\n",
    "Sg.project = \"ADM\"\n",
    "if os.path.exists(Sg.cfilename):\n",
    "    os.remove(Sg.cfilename)\n",
    "    \n",
    "# set function of printing component initialization\n",
    "Sg.print_comp_initialization = Nmesh.print_comp_initialization\n",
    "\n",
    "pr(\"/* \" + Sg.cfilename + \" */\")\n",
    "pr(\"/* (c) Liwei Ji 05/2022 */\")\n",
    "pr(\"/* Produced with SageToC.py */\")\n",
    "pr()\n",
    "    \n",
    "dtEvol.printInit()\n",
    "Evol.printInit()\n",
    "MoreInput.printInit()\n",
    "pr()\n",
    "\n",
    "Temp.printEqn()\n",
    "pr()\n",
    "\n",
    "pr(\"if(Msqr) {\")\n",
    "pr()\n",
    "dtEvol.printEqn()\n",
    "pr()\n",
    "pr(\"} else {\")\n",
    "pr()\n",
    "dtEvol.printEqn()\n",
    "pr()\n",
    "pr(\"}\")"
   ]
  },
  {
   "cell_type": "code",
   "execution_count": 29,
   "id": "7fe47093-5a5a-4d7d-8f12-aafe3eea5a46",
   "metadata": {},
   "outputs": [],
   "source": [
    "#with open(Sg.cfilename, \"a\") as cf:\n",
    "#    cf.write(str(Sg.v_rhs[0].expr()).replace('_ijk_', '[ijk]'))"
   ]
  },
  {
   "cell_type": "code",
   "execution_count": 12,
   "id": "5687b3e9-cbe0-444b-9209-afca0434a4fb",
   "metadata": {},
   "outputs": [
    {
     "data": {
      "text/html": [
       "<html>\\[\\newcommand{\\Bold}[1]{\\mathbf{#1}}\\verb|v1|\\]</html>"
      ],
      "text/latex": [
       "$$\\newcommand{\\Bold}[1]{\\mathbf{#1}}\\verb|v1|$$"
      ],
      "text/plain": [
       "v1"
      ]
     },
     "execution_count": 12,
     "metadata": {},
     "output_type": "execute_result"
    }
   ],
   "source": [
    "Sg.v[1].expr()"
   ]
  },
  {
   "cell_type": "code",
   "execution_count": 13,
   "id": "c2fab3d7-135e-4a1b-8e92-d1407f5700cb",
   "metadata": {
    "tags": []
   },
   "outputs": [
    {
     "data": {
      "text/html": [
       "<html>\\[\\newcommand{\\Bold}[1]{\\mathbf{#1}}\\begin{array}{lcl} u_{\\phantom{\\, t}}^{ \\, t } & = & u_{0 ijk } \\\\ u_{\\phantom{\\, x}}^{ \\, x } & = & u_{1 ijk } \\\\ u_{\\phantom{\\, y}}^{ \\, y } & = & u_{2 ijk } \\\\ u_{\\phantom{\\, z}}^{ \\, z } & = & u_{3 ijk } \\end{array}\\]</html>"
      ],
      "text/latex": [
       "$$\\newcommand{\\Bold}[1]{\\mathbf{#1}}\\begin{array}{lcl} u_{\\phantom{\\, t}}^{ \\, t } & = & u_{0 ijk } \\\\ u_{\\phantom{\\, x}}^{ \\, x } & = & u_{1 ijk } \\\\ u_{\\phantom{\\, y}}^{ \\, y } & = & u_{2 ijk } \\\\ u_{\\phantom{\\, z}}^{ \\, z } & = & u_{3 ijk } \\end{array}$$"
      ],
      "text/plain": [
       "u^t = u0_ijk_ \n",
       "u^x = u1_ijk_ \n",
       "u^y = u2_ijk_ \n",
       "u^z = u3_ijk_ "
      ]
     },
     "execution_count": 13,
     "metadata": {},
     "output_type": "execute_result"
    }
   ],
   "source": [
    "u.display_comp()"
   ]
  },
  {
   "cell_type": "code",
   "execution_count": 14,
   "id": "917f7a42-891a-40da-aebf-b66aea3f04db",
   "metadata": {},
   "outputs": [
    {
     "data": {
      "text/html": [
       "<html>\\[\\newcommand{\\Bold}[1]{\\mathbf{#1}}\\begin{array}{lcl} M_{ \\phantom{\\, t} \\, t }^{ \\, t \\phantom{\\, t} } & = & M_{00 ijk } \\\\ M_{ \\phantom{\\, t} \\, x }^{ \\, t \\phantom{\\, x} } & = & M_{01 ijk } \\\\ M_{ \\phantom{\\, t} \\, y }^{ \\, t \\phantom{\\, y} } & = & M_{02 ijk } \\\\ M_{ \\phantom{\\, t} \\, z }^{ \\, t \\phantom{\\, z} } & = & M_{03 ijk } \\\\ M_{ \\phantom{\\, x} \\, t }^{ \\, x \\phantom{\\, t} } & = & M_{01 ijk } \\\\ M_{ \\phantom{\\, x} \\, x }^{ \\, x \\phantom{\\, x} } & = & M_{11 ijk } \\\\ M_{ \\phantom{\\, x} \\, y }^{ \\, x \\phantom{\\, y} } & = & M_{12 ijk } \\\\ M_{ \\phantom{\\, x} \\, z }^{ \\, x \\phantom{\\, z} } & = & M_{13 ijk } \\\\ M_{ \\phantom{\\, y} \\, t }^{ \\, y \\phantom{\\, t} } & = & M_{02 ijk } \\\\ M_{ \\phantom{\\, y} \\, x }^{ \\, y \\phantom{\\, x} } & = & M_{12 ijk } \\\\ M_{ \\phantom{\\, y} \\, y }^{ \\, y \\phantom{\\, y} } & = & M_{22 ijk } \\\\ M_{ \\phantom{\\, y} \\, z }^{ \\, y \\phantom{\\, z} } & = & M_{23 ijk } \\\\ M_{ \\phantom{\\, z} \\, t }^{ \\, z \\phantom{\\, t} } & = & M_{03 ijk } \\\\ M_{ \\phantom{\\, z} \\, x }^{ \\, z \\phantom{\\, x} } & = & M_{13 ijk } \\\\ M_{ \\phantom{\\, z} \\, y }^{ \\, z \\phantom{\\, y} } & = & M_{23 ijk } \\\\ M_{ \\phantom{\\, z} \\, z }^{ \\, z \\phantom{\\, z} } & = & M_{33 ijk } \\end{array}\\]</html>"
      ],
      "text/latex": [
       "$$\\newcommand{\\Bold}[1]{\\mathbf{#1}}\\begin{array}{lcl} M_{ \\phantom{\\, t} \\, t }^{ \\, t \\phantom{\\, t} } & = & M_{00 ijk } \\\\ M_{ \\phantom{\\, t} \\, x }^{ \\, t \\phantom{\\, x} } & = & M_{01 ijk } \\\\ M_{ \\phantom{\\, t} \\, y }^{ \\, t \\phantom{\\, y} } & = & M_{02 ijk } \\\\ M_{ \\phantom{\\, t} \\, z }^{ \\, t \\phantom{\\, z} } & = & M_{03 ijk } \\\\ M_{ \\phantom{\\, x} \\, t }^{ \\, x \\phantom{\\, t} } & = & M_{01 ijk } \\\\ M_{ \\phantom{\\, x} \\, x }^{ \\, x \\phantom{\\, x} } & = & M_{11 ijk } \\\\ M_{ \\phantom{\\, x} \\, y }^{ \\, x \\phantom{\\, y} } & = & M_{12 ijk } \\\\ M_{ \\phantom{\\, x} \\, z }^{ \\, x \\phantom{\\, z} } & = & M_{13 ijk } \\\\ M_{ \\phantom{\\, y} \\, t }^{ \\, y \\phantom{\\, t} } & = & M_{02 ijk } \\\\ M_{ \\phantom{\\, y} \\, x }^{ \\, y \\phantom{\\, x} } & = & M_{12 ijk } \\\\ M_{ \\phantom{\\, y} \\, y }^{ \\, y \\phantom{\\, y} } & = & M_{22 ijk } \\\\ M_{ \\phantom{\\, y} \\, z }^{ \\, y \\phantom{\\, z} } & = & M_{23 ijk } \\\\ M_{ \\phantom{\\, z} \\, t }^{ \\, z \\phantom{\\, t} } & = & M_{03 ijk } \\\\ M_{ \\phantom{\\, z} \\, x }^{ \\, z \\phantom{\\, x} } & = & M_{13 ijk } \\\\ M_{ \\phantom{\\, z} \\, y }^{ \\, z \\phantom{\\, y} } & = & M_{23 ijk } \\\\ M_{ \\phantom{\\, z} \\, z }^{ \\, z \\phantom{\\, z} } & = & M_{33 ijk } \\end{array}$$"
      ],
      "text/plain": [
       "M^t_t = M00_ijk_ \n",
       "M^t_x = M01_ijk_ \n",
       "M^t_y = M02_ijk_ \n",
       "M^t_z = M03_ijk_ \n",
       "M^x_t = M01_ijk_ \n",
       "M^x_x = M11_ijk_ \n",
       "M^x_y = M12_ijk_ \n",
       "M^x_z = M13_ijk_ \n",
       "M^y_t = M02_ijk_ \n",
       "M^y_x = M12_ijk_ \n",
       "M^y_y = M22_ijk_ \n",
       "M^y_z = M23_ijk_ \n",
       "M^z_t = M03_ijk_ \n",
       "M^z_x = M13_ijk_ \n",
       "M^z_y = M23_ijk_ \n",
       "M^z_z = M33_ijk_ "
      ]
     },
     "execution_count": 14,
     "metadata": {},
     "output_type": "execute_result"
    }
   ],
   "source": [
    "M.display_comp()"
   ]
  },
  {
   "cell_type": "markdown",
   "id": "8e430806-bf93-4c59-ab27-6f57e39434dc",
   "metadata": {
    "tags": []
   },
   "source": [
    "### test"
   ]
  },
  {
   "cell_type": "code",
   "execution_count": 7,
   "id": "91d97d21-0bca-46e6-8666-d7e190489b53",
   "metadata": {},
   "outputs": [],
   "source": [
    "import misc_functions as mf"
   ]
  },
  {
   "cell_type": "code",
   "execution_count": 9,
   "id": "4ab66088-47c3-4159-b0d7-81acd66e2ad5",
   "metadata": {},
   "outputs": [
    {
     "ename": "Exception",
     "evalue": "no abstract index!!!",
     "output_type": "error",
     "traceback": [
      "\u001b[0;31m---------------------------------------------------------------------------\u001b[0m",
      "\u001b[0;31mException\u001b[0m                                 Traceback (most recent call last)",
      "\u001b[0;32m/var/folders/13/bmxcpt490x94j1m9n4_mpg880000gn/T/ipykernel_61203/718463015.py\u001b[0m in \u001b[0;36m<module>\u001b[0;34m\u001b[0m\n\u001b[0;32m----> 1\u001b[0;31m \u001b[0mmf\u001b[0m\u001b[0;34m.\u001b[0m\u001b[0mis_3d_aIndex\u001b[0m\u001b[0;34m(\u001b[0m\u001b[0;34m''\u001b[0m\u001b[0;34m)\u001b[0m\u001b[0;34m\u001b[0m\u001b[0;34m\u001b[0m\u001b[0m\n\u001b[0m",
      "\u001b[0;32m~/Tools/SageToC/misc_functions.py\u001b[0m in \u001b[0;36mis_3d_aIndex\u001b[0;34m(aIndex)\u001b[0m\n\u001b[1;32m    139\u001b[0m             \u001b[0;32mreturn\u001b[0m \u001b[0;32mFalse\u001b[0m\u001b[0;34m\u001b[0m\u001b[0;34m\u001b[0m\u001b[0m\n\u001b[1;32m    140\u001b[0m     \u001b[0;32melse\u001b[0m\u001b[0;34m:\u001b[0m\u001b[0;34m\u001b[0m\u001b[0;34m\u001b[0m\u001b[0m\n\u001b[0;32m--> 141\u001b[0;31m         \u001b[0;32mraise\u001b[0m \u001b[0mException\u001b[0m\u001b[0;34m(\u001b[0m\u001b[0;34m\"no abstract index!!!\"\u001b[0m\u001b[0;34m)\u001b[0m\u001b[0;34m\u001b[0m\u001b[0;34m\u001b[0m\u001b[0m\n\u001b[0m",
      "\u001b[0;31mException\u001b[0m: no abstract index!!!"
     ]
    }
   ],
   "source": [
    "mf.is_3d_aIndex('')"
   ]
  },
  {
   "cell_type": "code",
   "execution_count": 1,
   "id": "80cb612a-3abf-4c5d-b43c-382a67a08113",
   "metadata": {},
   "outputs": [
    {
     "data": {
      "text/plain": [
       "0"
      ]
     },
     "execution_count": 1,
     "metadata": {},
     "output_type": "execute_result"
    }
   ],
   "source": [
    "len(\"\")"
   ]
  },
  {
   "cell_type": "code",
   "execution_count": 8,
   "id": "dc0f7bbc-5a61-48b5-a8cf-5940f38557e1",
   "metadata": {},
   "outputs": [
    {
     "data": {
      "text/html": [
       "<html>\\[\\newcommand{\\Bold}[1]{\\mathbf{#1}}98\\]</html>"
      ],
      "text/latex": [
       "$$\\newcommand{\\Bold}[1]{\\mathbf{#1}}98$$"
      ],
      "text/plain": [
       "98"
      ]
     },
     "execution_count": 8,
     "metadata": {},
     "output_type": "execute_result"
    }
   ],
   "source": [
    "ord('b')"
   ]
  },
  {
   "cell_type": "code",
   "execution_count": 26,
   "id": "748d21ea-f2f7-4c74-abd2-7210a1776586",
   "metadata": {},
   "outputs": [
    {
     "data": {
      "text/html": [
       "<html>\\[\\newcommand{\\Bold}[1]{\\mathbf{#1}}\\left[\\verb|i|, \\verb|-j|\\right]\\]</html>"
      ],
      "text/latex": [
       "$$\\newcommand{\\Bold}[1]{\\mathbf{#1}}\\left[\\verb|i|, \\verb|-j|\\right]$$"
      ],
      "text/plain": [
       "['i', '-j']"
      ]
     },
     "execution_count": 26,
     "metadata": {},
     "output_type": "execute_result"
    }
   ],
   "source": [
    "MoreInput.getaIndex_list(0)"
   ]
  },
  {
   "cell_type": "code",
   "execution_count": 27,
   "id": "1a9f595e-b99e-4ec8-970d-b2f93f35ce5b",
   "metadata": {},
   "outputs": [
    {
     "data": {
      "text/html": [
       "<html>\\[\\newcommand{\\Bold}[1]{\\mathbf{#1}}\\mathrm{True}\\]</html>"
      ],
      "text/latex": [
       "$$\\newcommand{\\Bold}[1]{\\mathbf{#1}}\\mathrm{True}$$"
      ],
      "text/plain": [
       "True"
      ]
     },
     "execution_count": 27,
     "metadata": {},
     "output_type": "execute_result"
    }
   ],
   "source": [
    "isinstance(MoreInput.getaIndex_list(0), list)"
   ]
  },
  {
   "cell_type": "code",
   "execution_count": 11,
   "id": "398690d7-8b6a-43ab-aaa5-41a69719e4f3",
   "metadata": {},
   "outputs": [
    {
     "data": {
      "text/html": [
       "<html>\\[\\newcommand{\\Bold}[1]{\\mathbf{#1}}\\left[\\left[\\verb|u0|, 0\\right], \\left[\\verb|u1|, 1\\right], \\left[\\verb|u2|, 2\\right], \\left[\\verb|u3|, 3\\right], \\left[\\verb|dtu0|, 0\\right], \\left[\\verb|dtu1|, 1\\right], \\left[\\verb|dtu2|, 2\\right], \\left[\\verb|dtu3|, 3\\right], \\left[\\verb|v0|, 0\\right], \\left[\\verb|v1|, 1\\right], \\left[\\verb|v2|, 2\\right], \\left[\\verb|v3|, 3\\right], \\left[\\verb|M00|, 0\\right], \\left[\\verb|M01|, 1\\right], \\left[\\verb|M02|, 2\\right], \\left[\\verb|M03|, 3\\right], \\left[\\verb|M11|, 4\\right], \\left[\\verb|M12|, 5\\right], \\left[\\verb|M13|, 6\\right], \\left[\\verb|M22|, 7\\right], \\left[\\verb|M23|, 8\\right], \\left[\\verb|M33|, 9\\right]\\right]\\]</html>"
      ],
      "text/latex": [
       "$$\\newcommand{\\Bold}[1]{\\mathbf{#1}}\\left[\\left[\\verb|u0|, 0\\right], \\left[\\verb|u1|, 1\\right], \\left[\\verb|u2|, 2\\right], \\left[\\verb|u3|, 3\\right], \\left[\\verb|dtu0|, 0\\right], \\left[\\verb|dtu1|, 1\\right], \\left[\\verb|dtu2|, 2\\right], \\left[\\verb|dtu3|, 3\\right], \\left[\\verb|v0|, 0\\right], \\left[\\verb|v1|, 1\\right], \\left[\\verb|v2|, 2\\right], \\left[\\verb|v3|, 3\\right], \\left[\\verb|M00|, 0\\right], \\left[\\verb|M01|, 1\\right], \\left[\\verb|M02|, 2\\right], \\left[\\verb|M03|, 3\\right], \\left[\\verb|M11|, 4\\right], \\left[\\verb|M12|, 5\\right], \\left[\\verb|M13|, 6\\right], \\left[\\verb|M22|, 7\\right], \\left[\\verb|M23|, 8\\right], \\left[\\verb|M33|, 9\\right]\\right]$$"
      ],
      "text/plain": [
       "[['u0', 0],\n",
       " ['u1', 1],\n",
       " ['u2', 2],\n",
       " ['u3', 3],\n",
       " ['dtu0', 0],\n",
       " ['dtu1', 1],\n",
       " ['dtu2', 2],\n",
       " ['dtu3', 3],\n",
       " ['v0', 0],\n",
       " ['v1', 1],\n",
       " ['v2', 2],\n",
       " ['v3', 3],\n",
       " ['M00', 0],\n",
       " ['M01', 1],\n",
       " ['M02', 2],\n",
       " ['M03', 3],\n",
       " ['M11', 4],\n",
       " ['M12', 5],\n",
       " ['M13', 6],\n",
       " ['M22', 7],\n",
       " ['M23', 8],\n",
       " ['M33', 9]]"
      ]
     },
     "execution_count": 11,
     "metadata": {},
     "output_type": "execute_result"
    }
   ],
   "source": [
    "Sg.map_component_to_varlist"
   ]
  },
  {
   "cell_type": "code",
   "execution_count": null,
   "id": "a3f7bf65-ea10-4f12-9283-802fac59c961",
   "metadata": {},
   "outputs": [],
   "source": []
  },
  {
   "cell_type": "code",
   "execution_count": 24,
   "id": "e15e2d42-3aff-4231-ad88-88fe9c7dc0af",
   "metadata": {},
   "outputs": [
    {
     "data": {
      "text/html": [
       "<html>\\[\\newcommand{\\Bold}[1]{\\mathbf{#1}}\\verb|u0|\\]</html>"
      ],
      "text/latex": [
       "$$\\newcommand{\\Bold}[1]{\\mathbf{#1}}\\verb|u0|$$"
      ],
      "text/plain": [
       "'u0'"
      ]
     },
     "execution_count": 24,
     "metadata": {},
     "output_type": "execute_result"
    }
   ],
   "source": [
    "str(Sg.u[0].expr()).replace(\"_ijk_\",\"\")"
   ]
  },
  {
   "cell_type": "code",
   "execution_count": 29,
   "id": "7022f8fd-b9ab-4ec6-b4f3-0fac0fdfe3e7",
   "metadata": {},
   "outputs": [
    {
     "data": {
      "text/html": [
       "<html>\\[\\newcommand{\\Bold}[1]{\\mathbf{#1}}5\\]</html>"
      ],
      "text/latex": [
       "$$\\newcommand{\\Bold}[1]{\\mathbf{#1}}5$$"
      ],
      "text/plain": [
       "5"
      ]
     },
     "execution_count": 29,
     "metadata": {},
     "output_type": "execute_result"
    }
   ],
   "source": [
    "Sg.map_component_to_varlist[[i[0] for i in Sg.map_component_to_varlist].index(str(Sg.M[2,1].expr()).replace(\"_ijk_\",\"\"))][1]"
   ]
  },
  {
   "cell_type": "code",
   "execution_count": 10,
   "id": "7e34250d-14ef-4e84-bce8-661943601c6d",
   "metadata": {},
   "outputs": [],
   "source": [
    "alpha = manifd.scalar_field(name='alpha')"
   ]
  },
  {
   "cell_type": "code",
   "execution_count": 11,
   "id": "73617432-52e2-48b4-a5c7-f921ff7ebb66",
   "metadata": {},
   "outputs": [],
   "source": [
    "alpha.add_expr(var('alpha'))"
   ]
  },
  {
   "cell_type": "code",
   "execution_count": 13,
   "id": "4acfa63e-ebc8-46fd-b92f-ceecd08c477f",
   "metadata": {},
   "outputs": [
    {
     "data": {
      "text/html": [
       "<html>\\[\\newcommand{\\Bold}[1]{\\mathbf{#1}}\\alpha\\]</html>"
      ],
      "text/latex": [
       "$$\\newcommand{\\Bold}[1]{\\mathbf{#1}}\\alpha$$"
      ],
      "text/plain": [
       "alpha"
      ]
     },
     "execution_count": 13,
     "metadata": {},
     "output_type": "execute_result"
    }
   ],
   "source": [
    "Sg.alpha.expr()"
   ]
  },
  {
   "cell_type": "code",
   "execution_count": 19,
   "id": "2b355bed-a156-414b-b44b-e9f3a6f43fc5",
   "metadata": {},
   "outputs": [
    {
     "data": {
      "text/html": [
       "<html>\\[\\newcommand{\\Bold}[1]{\\mathbf{#1}}\\mathit{MDD}_{11}\\]</html>"
      ],
      "text/latex": [
       "$$\\newcommand{\\Bold}[1]{\\mathbf{#1}}\\mathit{MDD}_{11}$$"
      ],
      "text/plain": [
       "MDD11"
      ]
     },
     "execution_count": 19,
     "metadata": {},
     "output_type": "execute_result"
    }
   ],
   "source": [
    "MDD[1,1].expr()"
   ]
  },
  {
   "cell_type": "code",
   "execution_count": 10,
   "id": "a791e1a9-33bf-43ff-a60e-1621a614d6f0",
   "metadata": {},
   "outputs": [],
   "source": [
    "aa = [[1, 2, 3], [4, 5, 6]]"
   ]
  },
  {
   "cell_type": "code",
   "execution_count": 13,
   "id": "39e130bd-d7ab-494d-8250-48839b1f754c",
   "metadata": {},
   "outputs": [
    {
     "data": {
      "text/html": [
       "<html>\\[\\newcommand{\\Bold}[1]{\\mathbf{#1}}6\\]</html>"
      ],
      "text/latex": [
       "$$\\newcommand{\\Bold}[1]{\\mathbf{#1}}6$$"
      ],
      "text/plain": [
       "6"
      ]
     },
     "execution_count": 13,
     "metadata": {},
     "output_type": "execute_result"
    }
   ],
   "source": [
    "aa[1][2]"
   ]
  },
  {
   "cell_type": "code",
   "execution_count": 14,
   "id": "eb823567-60fd-4b6c-b7ec-8c4b48719c83",
   "metadata": {},
   "outputs": [],
   "source": [
    "bb = [1]"
   ]
  },
  {
   "cell_type": "code",
   "execution_count": 29,
   "id": "7b6f8c25-efdd-40d1-a81a-af8a7379ed7b",
   "metadata": {
    "tags": []
   },
   "outputs": [],
   "source": [
    "buf = \"abcedfe123\""
   ]
  },
  {
   "cell_type": "code",
   "execution_count": 30,
   "id": "71af410f-07bd-4e5f-a820-14921c8ffe32",
   "metadata": {},
   "outputs": [
    {
     "data": {
      "text/html": [
       "<html>\\[\\newcommand{\\Bold}[1]{\\mathbf{#1}}\\verb|abcedfe123|\\]</html>"
      ],
      "text/latex": [
       "$$\\newcommand{\\Bold}[1]{\\mathbf{#1}}\\verb|abcedfe123|$$"
      ],
      "text/plain": [
       "'abcedfe123'"
      ]
     },
     "execution_count": 30,
     "metadata": {},
     "output_type": "execute_result"
    }
   ],
   "source": [
    "buf"
   ]
  },
  {
   "cell_type": "code",
   "execution_count": 31,
   "id": "163214e2-8923-4bc6-a6c9-cb47e9cbf23f",
   "metadata": {},
   "outputs": [
    {
     "data": {
      "text/html": [
       "<html>\\[\\newcommand{\\Bold}[1]{\\mathbf{#1}}\\verb|abcedfeABC|\\]</html>"
      ],
      "text/latex": [
       "$$\\newcommand{\\Bold}[1]{\\mathbf{#1}}\\verb|abcedfeABC|$$"
      ],
      "text/plain": [
       "'abcedfeABC'"
      ]
     },
     "execution_count": 31,
     "metadata": {},
     "output_type": "execute_result"
    }
   ],
   "source": [
    "buf.replace(\"123\", \"ABC\")"
   ]
  },
  {
   "cell_type": "code",
   "execution_count": 32,
   "id": "26e5ca67-0b48-4558-bf78-4f0f0dd5f9c2",
   "metadata": {},
   "outputs": [
    {
     "data": {
      "text/html": [
       "<html>\\[\\newcommand{\\Bold}[1]{\\mathbf{#1}}\\verb|abcedfe123|\\]</html>"
      ],
      "text/latex": [
       "$$\\newcommand{\\Bold}[1]{\\mathbf{#1}}\\verb|abcedfe123|$$"
      ],
      "text/plain": [
       "'abcedfe123'"
      ]
     },
     "execution_count": 32,
     "metadata": {},
     "output_type": "execute_result"
    }
   ],
   "source": [
    "buf"
   ]
  },
  {
   "cell_type": "markdown",
   "id": "f7a5ed15-d5ff-4cdd-a3db-3de7898c3615",
   "metadata": {},
   "source": [
    "## Sage"
   ]
  },
  {
   "cell_type": "markdown",
   "id": "d669f277-c41c-43b8-a06f-09636f2e5a7c",
   "metadata": {},
   "source": [
    "### test"
   ]
  },
  {
   "cell_type": "code",
   "execution_count": null,
   "id": "f740c081-0471-4c12-850a-29812f242e34",
   "metadata": {
    "collapsed": true,
    "jupyter": {
     "outputs_hidden": true
    },
    "tags": []
   },
   "outputs": [
    {
     "ename": "NameError",
     "evalue": "name 'Sg' is not defined",
     "output_type": "error",
     "traceback": [
      "\u001b[0;31m---------------------------------------------------------------------------\u001b[0m",
      "\u001b[0;31mNameError\u001b[0m                                 Traceback (most recent call last)",
      "\u001b[0;32m/var/folders/13/bmxcpt490x94j1m9n4_mpg880000gn/T/ipykernel_27880/865760897.py\u001b[0m in \u001b[0;36m<module>\u001b[0;34m\u001b[0m\n\u001b[0;32m----> 1\u001b[0;31m \u001b[0mtemp\u001b[0m \u001b[0;34m=\u001b[0m \u001b[0mSg\u001b[0m\u001b[0;34m.\u001b[0m\u001b[0mmanifd\u001b[0m\u001b[0;34m.\u001b[0m\u001b[0mtensor_field\u001b[0m\u001b[0;34m(\u001b[0m\u001b[0mInteger\u001b[0m\u001b[0;34m(\u001b[0m\u001b[0;36m0\u001b[0m\u001b[0;34m)\u001b[0m\u001b[0;34m,\u001b[0m\u001b[0mInteger\u001b[0m\u001b[0;34m(\u001b[0m\u001b[0;36m2\u001b[0m\u001b[0;34m)\u001b[0m\u001b[0;34m,\u001b[0m \u001b[0mname\u001b[0m\u001b[0;34m=\u001b[0m\u001b[0;34m'M'\u001b[0m\u001b[0;34m,\u001b[0m \u001b[0msym\u001b[0m\u001b[0;34m=\u001b[0m\u001b[0;34m(\u001b[0m\u001b[0mInteger\u001b[0m\u001b[0;34m(\u001b[0m\u001b[0;36m0\u001b[0m\u001b[0;34m)\u001b[0m\u001b[0;34m,\u001b[0m\u001b[0mInteger\u001b[0m\u001b[0;34m(\u001b[0m\u001b[0;36m1\u001b[0m\u001b[0;34m)\u001b[0m\u001b[0;34m)\u001b[0m\u001b[0;34m)\u001b[0m\u001b[0;34m\u001b[0m\u001b[0;34m\u001b[0m\u001b[0m\n\u001b[0m",
      "\u001b[0;31mNameError\u001b[0m: name 'Sg' is not defined"
     ]
    }
   ],
   "source": [
    "temp = Sg.manifd.tensor_field(0,2, name='M', sym=(0,1))"
   ]
  },
  {
   "cell_type": "code",
   "execution_count": 1,
   "id": "53cf420c-b478-4c98-8f5a-467f531d9ba9",
   "metadata": {
    "collapsed": true,
    "jupyter": {
     "outputs_hidden": true
    },
    "tags": []
   },
   "outputs": [
    {
     "ename": "NameError",
     "evalue": "name 'temp' is not defined",
     "output_type": "error",
     "traceback": [
      "\u001b[0;31m---------------------------------------------------------------------------\u001b[0m",
      "\u001b[0;31mNameError\u001b[0m                                 Traceback (most recent call last)",
      "\u001b[0;32m/var/folders/13/bmxcpt490x94j1m9n4_mpg880000gn/T/ipykernel_27880/2575713452.py\u001b[0m in \u001b[0;36m<module>\u001b[0;34m\u001b[0m\n\u001b[0;32m----> 1\u001b[0;31m \u001b[0mtemp\u001b[0m\u001b[0;34m[\u001b[0m\u001b[0mInteger\u001b[0m\u001b[0;34m(\u001b[0m\u001b[0;36m0\u001b[0m\u001b[0;34m)\u001b[0m\u001b[0;34m,\u001b[0m\u001b[0mInteger\u001b[0m\u001b[0;34m(\u001b[0m\u001b[0;36m0\u001b[0m\u001b[0;34m)\u001b[0m\u001b[0;34m]\u001b[0m \u001b[0;34m=\u001b[0m \u001b[0mvar\u001b[0m\u001b[0;34m(\u001b[0m\u001b[0;34m'M00_ijk_'\u001b[0m\u001b[0;34m)\u001b[0m\u001b[0;34m\u001b[0m\u001b[0;34m\u001b[0m\u001b[0m\n\u001b[0m",
      "\u001b[0;31mNameError\u001b[0m: name 'temp' is not defined"
     ]
    }
   ],
   "source": [
    "temp[0,0] = var('M00_ijk_')"
   ]
  },
  {
   "cell_type": "code",
   "execution_count": 37,
   "id": "9308baa9-1610-499e-bf63-a443219c54c8",
   "metadata": {},
   "outputs": [
    {
     "data": {
      "text/html": [
       "<html>\\[\\newcommand{\\Bold}[1]{\\mathbf{#1}}\\begin{array}{lcl} M_{ \\, t \\, t }^{ \\phantom{\\, t}\\phantom{\\, t} } & = & M_{00} \\end{array}\\]</html>"
      ],
      "text/latex": [
       "$$\\newcommand{\\Bold}[1]{\\mathbf{#1}}\\begin{array}{lcl} M_{ \\, t \\, t }^{ \\phantom{\\, t}\\phantom{\\, t} } & = & M_{00} \\end{array}$$"
      ],
      "text/plain": [
       "M_tt = M00 "
      ]
     },
     "execution_count": 37,
     "metadata": {},
     "output_type": "execute_result"
    }
   ],
   "source": [
    "temp.display_comp()"
   ]
  },
  {
   "cell_type": "code",
   "execution_count": 6,
   "id": "8a3c60c2-3725-4c85-a9cf-58341f0027b0",
   "metadata": {},
   "outputs": [],
   "source": [
    "U = STC_manifd.tensor_field(1,0, name='u')"
   ]
  },
  {
   "cell_type": "code",
   "execution_count": 7,
   "id": "e2be717e-86ae-4df5-9206-b199ad7e3a73",
   "metadata": {},
   "outputs": [
    {
     "data": {
      "text/html": [
       "<html>\\[\\newcommand{\\Bold}[1]{\\mathbf{#1}}\\verb|u|\\]</html>"
      ],
      "text/latex": [
       "$$\\newcommand{\\Bold}[1]{\\mathbf{#1}}\\verb|u|$$"
      ],
      "text/plain": [
       "'u'"
      ]
     },
     "execution_count": 7,
     "metadata": {},
     "output_type": "execute_result"
    }
   ],
   "source": [
    "U._name"
   ]
  },
  {
   "cell_type": "code",
   "execution_count": 9,
   "id": "0663d91e-c9c1-42f8-9ead-eb3af971be21",
   "metadata": {},
   "outputs": [],
   "source": [
    "temp = M._sym"
   ]
  },
  {
   "cell_type": "code",
   "execution_count": 10,
   "id": "b7afd807-18a2-4d14-8f02-8c9445b40527",
   "metadata": {},
   "outputs": [
    {
     "data": {
      "text/html": [
       "<html>\\[\\newcommand{\\Bold}[1]{\\mathbf{#1}}\\left(0, 1\\right)\\]</html>"
      ],
      "text/latex": [
       "$$\\newcommand{\\Bold}[1]{\\mathbf{#1}}\\left(0, 1\\right)$$"
      ],
      "text/plain": [
       "(0, 1)"
      ]
     },
     "execution_count": 10,
     "metadata": {},
     "output_type": "execute_result"
    }
   ],
   "source": [
    "temp[0]"
   ]
  },
  {
   "cell_type": "code",
   "execution_count": 11,
   "id": "68dd67c6-1ec0-49c2-905e-0b8d89995804",
   "metadata": {},
   "outputs": [
    {
     "name": "stdout",
     "output_type": "stream",
     "text": [
      "symmetry: (0, 1); no antisymmetry\n"
     ]
    }
   ],
   "source": [
    "M.symmetries()"
   ]
  },
  {
   "cell_type": "markdown",
   "id": "c89897b3-2125-43fd-a03f-dd8bffb22848",
   "metadata": {
    "tags": []
   },
   "source": [
    "## Read str"
   ]
  },
  {
   "cell_type": "code",
   "execution_count": 10,
   "id": "8821444f-d25e-4ecd-8676-314a802dac81",
   "metadata": {},
   "outputs": [],
   "source": [
    "index = []\n",
    "for ii in string.ascii_lowercase:\n",
    "    index.append(ii)"
   ]
  },
  {
   "cell_type": "code",
   "execution_count": 12,
   "id": "b60014ee-c908-4da8-a0ff-6df48223a99e",
   "metadata": {},
   "outputs": [
    {
     "data": {
      "text/html": [
       "<html>\\[\\newcommand{\\Bold}[1]{\\mathbf{#1}}\\left[\\verb|a|, \\verb|b|, \\verb|c|, \\verb|d|, \\verb|e|, \\verb|f|, \\verb|g|, \\verb|h|, \\verb|i|, \\verb|j|, \\verb|k|, \\verb|l|, \\verb|m|, \\verb|n|, \\verb|o|, \\verb|p|, \\verb|q|, \\verb|r|, \\verb|s|, \\verb|t|, \\verb|u|, \\verb|v|, \\verb|w|, \\verb|x|, \\verb|y|, \\verb|z|\\right]\\]</html>"
      ],
      "text/latex": [
       "$$\\newcommand{\\Bold}[1]{\\mathbf{#1}}\\left[\\verb|a|, \\verb|b|, \\verb|c|, \\verb|d|, \\verb|e|, \\verb|f|, \\verb|g|, \\verb|h|, \\verb|i|, \\verb|j|, \\verb|k|, \\verb|l|, \\verb|m|, \\verb|n|, \\verb|o|, \\verb|p|, \\verb|q|, \\verb|r|, \\verb|s|, \\verb|t|, \\verb|u|, \\verb|v|, \\verb|w|, \\verb|x|, \\verb|y|, \\verb|z|\\right]$$"
      ],
      "text/plain": [
       "['a',\n",
       " 'b',\n",
       " 'c',\n",
       " 'd',\n",
       " 'e',\n",
       " 'f',\n",
       " 'g',\n",
       " 'h',\n",
       " 'i',\n",
       " 'j',\n",
       " 'k',\n",
       " 'l',\n",
       " 'm',\n",
       " 'n',\n",
       " 'o',\n",
       " 'p',\n",
       " 'q',\n",
       " 'r',\n",
       " 's',\n",
       " 't',\n",
       " 'u',\n",
       " 'v',\n",
       " 'w',\n",
       " 'x',\n",
       " 'y',\n",
       " 'z']"
      ]
     },
     "execution_count": 12,
     "metadata": {},
     "output_type": "execute_result"
    }
   ],
   "source": [
    "index"
   ]
  },
  {
   "cell_type": "code",
   "execution_count": 12,
   "id": "f0d0b9e5-e9c8-4216-acaa-3f1149d5d5bd",
   "metadata": {},
   "outputs": [
    {
     "data": {
      "text/html": [
       "<html>\\[\\newcommand{\\Bold}[1]{\\mathbf{#1}}\\left(a, b, c, d, e, f, g, h, i, j, k, l, m, n, o, p, q, r, s, t, u, v, w, x, y, z\\right)\\]</html>"
      ],
      "text/latex": [
       "$$\\newcommand{\\Bold}[1]{\\mathbf{#1}}\\left(a, b, c, d, e, f, g, h, i, j, k, l, m, n, o, p, q, r, s, t, u, v, w, x, y, z\\right)$$"
      ],
      "text/plain": [
       "(a, b, c, d, e, f, g, h, i, j, k, l, m, n, o, p, q, r, s, t, u, v, w, x, y, z)"
      ]
     },
     "execution_count": 12,
     "metadata": {},
     "output_type": "execute_result"
    }
   ],
   "source": [
    "var(index)"
   ]
  }
 ],
 "metadata": {
  "kernelspec": {
   "display_name": "SageMath 9.5",
   "language": "sage",
   "name": "sagemath-9.5"
  },
  "language_info": {
   "codemirror_mode": {
    "name": "ipython",
    "version": 3
   },
   "file_extension": ".py",
   "mimetype": "text/x-python",
   "name": "python",
   "nbconvert_exporter": "python",
   "pygments_lexer": "ipython3",
   "version": "3.9.9"
  }
 },
 "nbformat": 4,
 "nbformat_minor": 5
}
