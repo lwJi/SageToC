{
 "cells": [
  {
   "cell_type": "markdown",
   "id": "53617226-df33-414d-87f2-e93734711746",
   "metadata": {},
   "source": [
    "# Example $r^i=M^i{}_jM^j{}_ku^k$"
   ]
  },
  {
   "cell_type": "code",
   "execution_count": 1,
   "id": "d67872e8-8bf0-4906-b759-99e38d676ad6",
   "metadata": {},
   "outputs": [
    {
     "name": "stdout",
     "output_type": "stream",
     "text": [
      "Welcome to SageToC (a code generator)\n"
     ]
    }
   ],
   "source": [
    "import sys\n",
    "sys.path.insert(0, '/Users/liwei/Tools/SageToC')\n",
    "import SageToC as Sg"
   ]
  },
  {
   "cell_type": "code",
   "execution_count": 2,
   "id": "d33f4fb3-09e8-4d2b-a036-82fe4a8fe288",
   "metadata": {},
   "outputs": [],
   "source": [
    "%display latex\n",
    "#Parallelism().set(nproc=4)\n",
    "\n",
    "# dimension and manifold\n",
    "Sg.dimens = 4\n",
    "Sg.manifd = Manifold(Sg.dimens, name='M', latex_name=r'\\mathcal{M}', structure=\"Lorentzian\", start_index=0)\n",
    "\n",
    "# coordinats\n",
    "cartesian.<T, X, Y, Z> = Sg.manifd.chart('t:(0,+oo) x y z:(-oo,+oo)')"
   ]
  },
  {
   "cell_type": "code",
   "execution_count": 3,
   "id": "72627ec7-b533-4a68-9907-d04e463233cb",
   "metadata": {},
   "outputs": [],
   "source": [
    "evolution = [\n",
    "    \"alpha[]\",\n",
    "    \"rU[i]\",\n",
    "    \"uU[a]\",\n",
    "    \"MDD[-a,-b], sym[{0,1}]\",\n",
    "    \"NUU[k,l], antisym[{0,1}]\"\n",
    "    #\"Phi[-k,-a,-b], sym[{1,2}]\",\n",
    "    #\"ddg[-k,-l,-a,-b], antisym[{0,1},{2,3}]\",\n",
    "    #\"ddg2[-k,-l,-a,-b], sym[{0,1}], antisym[{2,3}]\"\n",
    "]"
   ]
  },
  {
   "cell_type": "code",
   "execution_count": 4,
   "id": "d3e753b8-a67b-49b8-a2b8-3b1e9ec44b75",
   "metadata": {},
   "outputs": [
    {
     "name": "stdout",
     "output_type": "stream",
     "text": [
      "defining  alpha ...\n",
      "defining  rU ...\n",
      "defining  uU ...\n",
      "defining  MDD ...\n",
      "defining  NUU ...\n",
      "mode =  set_comp_gf_independent\n"
     ]
    }
   ],
   "source": [
    "Evol_varlist = Sg.EvolutionVarlist(evolution)"
   ]
  },
  {
   "cell_type": "code",
   "execution_count": 5,
   "id": "f9fa908b-63c1-4a11-9fb5-a23602aeb539",
   "metadata": {},
   "outputs": [
    {
     "data": {
      "text/html": [
       "<html>\\[\\newcommand{\\Bold}[1]{\\mathbf{#1}}\\begin{array}{lcl} NUU_{\\phantom{\\, t}\\phantom{\\, x}}^{ \\, t \\, x } & = & \\mathit{NUU01}_{\\mathit{ijk}} \\\\ NUU_{\\phantom{\\, t}\\phantom{\\, y}}^{ \\, t \\, y } & = & \\mathit{NUU02}_{\\mathit{ijk}} \\\\ NUU_{\\phantom{\\, t}\\phantom{\\, z}}^{ \\, t \\, z } & = & \\mathit{NUU03}_{\\mathit{ijk}} \\\\ NUU_{\\phantom{\\, x}\\phantom{\\, t}}^{ \\, x \\, t } & = & -\\mathit{NUU01}_{\\mathit{ijk}} \\\\ NUU_{\\phantom{\\, x}\\phantom{\\, y}}^{ \\, x \\, y } & = & \\mathit{NUU12}_{\\mathit{ijk}} \\\\ NUU_{\\phantom{\\, x}\\phantom{\\, z}}^{ \\, x \\, z } & = & \\mathit{NUU13}_{\\mathit{ijk}} \\\\ NUU_{\\phantom{\\, y}\\phantom{\\, t}}^{ \\, y \\, t } & = & -\\mathit{NUU02}_{\\mathit{ijk}} \\\\ NUU_{\\phantom{\\, y}\\phantom{\\, x}}^{ \\, y \\, x } & = & -\\mathit{NUU12}_{\\mathit{ijk}} \\\\ NUU_{\\phantom{\\, y}\\phantom{\\, z}}^{ \\, y \\, z } & = & \\mathit{NUU23}_{\\mathit{ijk}} \\\\ NUU_{\\phantom{\\, z}\\phantom{\\, t}}^{ \\, z \\, t } & = & -\\mathit{NUU03}_{\\mathit{ijk}} \\\\ NUU_{\\phantom{\\, z}\\phantom{\\, x}}^{ \\, z \\, x } & = & -\\mathit{NUU13}_{\\mathit{ijk}} \\\\ NUU_{\\phantom{\\, z}\\phantom{\\, y}}^{ \\, z \\, y } & = & -\\mathit{NUU23}_{\\mathit{ijk}} \\end{array}\\]</html>"
      ],
      "text/latex": [
       "$$\\newcommand{\\Bold}[1]{\\mathbf{#1}}\\begin{array}{lcl} NUU_{\\phantom{\\, t}\\phantom{\\, x}}^{ \\, t \\, x } & = & \\mathit{NUU01}_{\\mathit{ijk}} \\\\ NUU_{\\phantom{\\, t}\\phantom{\\, y}}^{ \\, t \\, y } & = & \\mathit{NUU02}_{\\mathit{ijk}} \\\\ NUU_{\\phantom{\\, t}\\phantom{\\, z}}^{ \\, t \\, z } & = & \\mathit{NUU03}_{\\mathit{ijk}} \\\\ NUU_{\\phantom{\\, x}\\phantom{\\, t}}^{ \\, x \\, t } & = & -\\mathit{NUU01}_{\\mathit{ijk}} \\\\ NUU_{\\phantom{\\, x}\\phantom{\\, y}}^{ \\, x \\, y } & = & \\mathit{NUU12}_{\\mathit{ijk}} \\\\ NUU_{\\phantom{\\, x}\\phantom{\\, z}}^{ \\, x \\, z } & = & \\mathit{NUU13}_{\\mathit{ijk}} \\\\ NUU_{\\phantom{\\, y}\\phantom{\\, t}}^{ \\, y \\, t } & = & -\\mathit{NUU02}_{\\mathit{ijk}} \\\\ NUU_{\\phantom{\\, y}\\phantom{\\, x}}^{ \\, y \\, x } & = & -\\mathit{NUU12}_{\\mathit{ijk}} \\\\ NUU_{\\phantom{\\, y}\\phantom{\\, z}}^{ \\, y \\, z } & = & \\mathit{NUU23}_{\\mathit{ijk}} \\\\ NUU_{\\phantom{\\, z}\\phantom{\\, t}}^{ \\, z \\, t } & = & -\\mathit{NUU03}_{\\mathit{ijk}} \\\\ NUU_{\\phantom{\\, z}\\phantom{\\, x}}^{ \\, z \\, x } & = & -\\mathit{NUU13}_{\\mathit{ijk}} \\\\ NUU_{\\phantom{\\, z}\\phantom{\\, y}}^{ \\, z \\, y } & = & -\\mathit{NUU23}_{\\mathit{ijk}} \\end{array}$$"
      ],
      "text/plain": [
       "NUU^tx = NUU01_ijk_ \n",
       "NUU^ty = NUU02_ijk_ \n",
       "NUU^tz = NUU03_ijk_ \n",
       "NUU^xt = -NUU01_ijk_ \n",
       "NUU^xy = NUU12_ijk_ \n",
       "NUU^xz = NUU13_ijk_ \n",
       "NUU^yt = -NUU02_ijk_ \n",
       "NUU^yx = -NUU12_ijk_ \n",
       "NUU^yz = NUU23_ijk_ \n",
       "NUU^zt = -NUU03_ijk_ \n",
       "NUU^zx = -NUU13_ijk_ \n",
       "NUU^zy = -NUU23_ijk_ "
      ]
     },
     "execution_count": 5,
     "metadata": {},
     "output_type": "execute_result"
    }
   ],
   "source": [
    "Sg.NUU.display_comp()"
   ]
  },
  {
   "cell_type": "code",
   "execution_count": 11,
   "id": "6e60da63-42cb-452c-8a9b-242f5f857080",
   "metadata": {},
   "outputs": [
    {
     "name": "stdout",
     "output_type": "stream",
     "text": [
      "-NUU12_ijk_\n"
     ]
    }
   ],
   "source": [
    "print(Sg.NUU[2,1])"
   ]
  },
  {
   "cell_type": "code",
   "execution_count": 7,
   "id": "fab305eb-7bb2-4dfb-972c-c34092af8fc5",
   "metadata": {},
   "outputs": [
    {
     "name": "stdout",
     "output_type": "stream",
     "text": [
      "mode =  print_comp_init_vlu_independent\n",
      "print component initialization for vlu using indep index, %s! alpha\n",
      "print component initialization for vlu using indep index, %s! rU\n",
      "print component initialization for vlu using indep index, %s! rU\n",
      "print component initialization for vlu using indep index, %s! rU\n",
      "print component initialization for vlu using indep index, %s! rU\n",
      "print component initialization for vlu using indep index, %s! uU\n",
      "print component initialization for vlu using indep index, %s! uU\n",
      "print component initialization for vlu using indep index, %s! uU\n",
      "print component initialization for vlu using indep index, %s! uU\n",
      "print component initialization for vlu using indep index, %s! MDD\n",
      "print component initialization for vlu using indep index, %s! MDD\n",
      "print component initialization for vlu using indep index, %s! MDD\n",
      "print component initialization for vlu using indep index, %s! MDD\n",
      "print component initialization for vlu using indep index, %s! MDD\n",
      "print component initialization for vlu using indep index, %s! MDD\n",
      "print component initialization for vlu using indep index, %s! MDD\n",
      "print component initialization for vlu using indep index, %s! MDD\n",
      "print component initialization for vlu using indep index, %s! MDD\n",
      "print component initialization for vlu using indep index, %s! MDD\n",
      "print component initialization for vlu using indep index, %s! NUU\n",
      "print component initialization for vlu using indep index, %s! NUU\n",
      "print component initialization for vlu using indep index, %s! NUU\n",
      "print component initialization for vlu using indep index, %s! NUU\n",
      "print component initialization for vlu using indep index, %s! NUU\n",
      "print component initialization for vlu using indep index, %s! NUU\n"
     ]
    }
   ],
   "source": [
    "Evol_varlist.printInit()"
   ]
  },
  {
   "cell_type": "code",
   "execution_count": 12,
   "id": "df546d6e-acb7-4560-a2e9-5dcbeb89af8f",
   "metadata": {},
   "outputs": [
    {
     "name": "stdout",
     "output_type": "stream",
     "text": [
      "defining  alpha ...\n",
      "defining  rU ...\n",
      "defining  uU ...\n",
      "defining  MDD ...\n",
      "defining  NUU ...\n",
      "mode =  set_comp_gf_independent\n"
     ]
    }
   ],
   "source": [
    "dtEvol_varlist = Sg.dtEvolutionVarlist(evolution)"
   ]
  },
  {
   "cell_type": "code",
   "execution_count": 13,
   "id": "506e56fc-6e55-4cbf-8002-a47f0d85572a",
   "metadata": {},
   "outputs": [
    {
     "name": "stdout",
     "output_type": "stream",
     "text": [
      "mode =  print_comp_init_vlr_independent\n",
      "print component initialization for vlr using indep index, %s! alpha\n",
      "print component initialization for vlr using indep index, %s! rU\n",
      "print component initialization for vlr using indep index, %s! rU\n",
      "print component initialization for vlr using indep index, %s! rU\n",
      "print component initialization for vlr using indep index, %s! rU\n",
      "print component initialization for vlr using indep index, %s! uU\n",
      "print component initialization for vlr using indep index, %s! uU\n",
      "print component initialization for vlr using indep index, %s! uU\n",
      "print component initialization for vlr using indep index, %s! uU\n",
      "print component initialization for vlr using indep index, %s! MDD\n",
      "print component initialization for vlr using indep index, %s! MDD\n",
      "print component initialization for vlr using indep index, %s! MDD\n",
      "print component initialization for vlr using indep index, %s! MDD\n",
      "print component initialization for vlr using indep index, %s! MDD\n",
      "print component initialization for vlr using indep index, %s! MDD\n",
      "print component initialization for vlr using indep index, %s! MDD\n",
      "print component initialization for vlr using indep index, %s! MDD\n",
      "print component initialization for vlr using indep index, %s! MDD\n",
      "print component initialization for vlr using indep index, %s! MDD\n",
      "print component initialization for vlr using indep index, %s! NUU\n",
      "print component initialization for vlr using indep index, %s! NUU\n",
      "print component initialization for vlr using indep index, %s! NUU\n",
      "print component initialization for vlr using indep index, %s! NUU\n",
      "print component initialization for vlr using indep index, %s! NUU\n",
      "print component initialization for vlr using indep index, %s! NUU\n"
     ]
    }
   ],
   "source": [
    "dtEvol_varlist.printInit()"
   ]
  },
  {
   "cell_type": "code",
   "execution_count": 14,
   "id": "d80c96be-de4b-4016-be77-62eb8c50f1cc",
   "metadata": {},
   "outputs": [
    {
     "name": "stdout",
     "output_type": "stream",
     "text": [
      "mode =  print_comp_eqn_primary\n",
      "print component equation: primary, %s! alpha\n",
      "print component equation: primary, %s! rU\n",
      "print component equation: primary, %s! rU\n",
      "print component equation: primary, %s! rU\n",
      "print component equation: primary, %s! rU\n",
      "print component equation: primary, %s! uU\n",
      "print component equation: primary, %s! uU\n",
      "print component equation: primary, %s! uU\n",
      "print component equation: primary, %s! uU\n",
      "print component equation: primary, %s! MDD\n",
      "print component equation: primary, %s! MDD\n",
      "print component equation: primary, %s! MDD\n",
      "print component equation: primary, %s! MDD\n",
      "print component equation: primary, %s! MDD\n",
      "print component equation: primary, %s! MDD\n",
      "print component equation: primary, %s! MDD\n",
      "print component equation: primary, %s! MDD\n",
      "print component equation: primary, %s! MDD\n",
      "print component equation: primary, %s! MDD\n",
      "print component equation: primary, %s! NUU\n",
      "print component equation: primary, %s! NUU\n",
      "print component equation: primary, %s! NUU\n",
      "print component equation: primary, %s! NUU\n",
      "print component equation: primary, %s! NUU\n",
      "print component equation: primary, %s! NUU\n"
     ]
    }
   ],
   "source": [
    "dtEvol_varlist.printEqn()"
   ]
  },
  {
   "cell_type": "code",
   "execution_count": 19,
   "id": "0ad40cb5-2bec-4aa6-b29a-bc8d47b18f2c",
   "metadata": {},
   "outputs": [],
   "source": [
    "varname = \"rU\"\n",
    "index_list = [0]\n",
    "grid_point_index = \"[ijk]\""
   ]
  },
  {
   "cell_type": "code",
   "execution_count": 16,
   "id": "3bf92636-3cb4-45c8-bb83-fbe85ad1260d",
   "metadata": {
    "tags": []
   },
   "outputs": [],
   "source": [
    "compname = \"\".join([n for nlist in [[varname], [str(index) for index in index_list]]\n",
    " for n in nlist])"
   ]
  },
  {
   "cell_type": "code",
   "execution_count": 21,
   "id": "33a1864a-22bb-421b-933e-0d8ce954c7f9",
   "metadata": {},
   "outputs": [],
   "source": [
    "fullname = \"\".join([compname, grid_point_index])"
   ]
  },
  {
   "cell_type": "code",
   "execution_count": 23,
   "id": "450d9ff4-df44-4ac6-af80-5fe0e8f5a7ab",
   "metadata": {},
   "outputs": [
    {
     "data": {
      "text/html": [
       "<html>\\[\\newcommand{\\Bold}[1]{\\mathbf{#1}}\\mathrm{True}\\]</html>"
      ],
      "text/latex": [
       "$$\\newcommand{\\Bold}[1]{\\mathbf{#1}}\\mathrm{True}$$"
      ],
      "text/plain": [
       "True"
      ]
     },
     "execution_count": 23,
     "metadata": {},
     "output_type": "execute_result"
    }
   ],
   "source": [
    "fullname == \"rU0[ijk]\""
   ]
  },
  {
   "cell_type": "code",
   "execution_count": 18,
   "id": "b233d725-f88f-4e4b-8061-2c3df0ce2953",
   "metadata": {},
   "outputs": [
    {
     "data": {
      "text/html": [
       "<html>\\[\\newcommand{\\Bold}[1]{\\mathbf{#1}}\\mathrm{True}\\]</html>"
      ],
      "text/latex": [
       "$$\\newcommand{\\Bold}[1]{\\mathbf{#1}}\\mathrm{True}$$"
      ],
      "text/plain": [
       "True"
      ]
     },
     "execution_count": 18,
     "metadata": {},
     "output_type": "execute_result"
    }
   ],
   "source": [
    "compname == \"rU0\""
   ]
  },
  {
   "cell_type": "code",
   "execution_count": 33,
   "id": "00f1ec6e-a99e-4e84-a257-f65d6ca1c194",
   "metadata": {},
   "outputs": [
    {
     "ename": "ValueError",
     "evalue": "The name \"rU0[ijk]\" is not a valid Python identifier.",
     "output_type": "error",
     "traceback": [
      "\u001b[0;31m---------------------------------------------------------------------------\u001b[0m",
      "\u001b[0;31mValueError\u001b[0m                                Traceback (most recent call last)",
      "\u001b[0;32m/var/folders/13/bmxcpt490x94j1m9n4_mpg880000gn/T/ipykernel_27507/3132180519.py\u001b[0m in \u001b[0;36m<module>\u001b[0;34m\u001b[0m\n\u001b[0;32m----> 1\u001b[0;31m \u001b[0mvar\u001b[0m\u001b[0;34m(\u001b[0m\u001b[0;34m\"rU0[ijk]\"\u001b[0m\u001b[0;34m)\u001b[0m\u001b[0;34m\u001b[0m\u001b[0;34m\u001b[0m\u001b[0m\n\u001b[0m",
      "\u001b[0;32m/private/var/tmp/sage-9.5-current/local/var/lib/sage/venv-python3.9.9/lib/python3.9/site-packages/sage/calculus/var.pyx\u001b[0m in \u001b[0;36msage.calculus.var.var (build/cythonized/sage/calculus/var.c:1432)\u001b[0;34m()\u001b[0m\n\u001b[1;32m    122\u001b[0m         \u001b[0mname\u001b[0m \u001b[0;34m=\u001b[0m \u001b[0margs\u001b[0m\u001b[0;34m\u001b[0m\u001b[0;34m\u001b[0m\u001b[0m\n\u001b[1;32m    123\u001b[0m     \u001b[0mG\u001b[0m \u001b[0;34m=\u001b[0m \u001b[0mglobals\u001b[0m\u001b[0;34m(\u001b[0m\u001b[0;34m)\u001b[0m  \u001b[0;31m# this is the reason the code must be in Cython.\u001b[0m\u001b[0;34m\u001b[0m\u001b[0;34m\u001b[0m\u001b[0m\n\u001b[0;32m--> 124\u001b[0;31m     \u001b[0mv\u001b[0m \u001b[0;34m=\u001b[0m \u001b[0mSR\u001b[0m\u001b[0;34m.\u001b[0m\u001b[0mvar\u001b[0m\u001b[0;34m(\u001b[0m\u001b[0mname\u001b[0m\u001b[0;34m,\u001b[0m \u001b[0;34m**\u001b[0m\u001b[0mkwds\u001b[0m\u001b[0;34m)\u001b[0m\u001b[0;34m\u001b[0m\u001b[0;34m\u001b[0m\u001b[0m\n\u001b[0m\u001b[1;32m    125\u001b[0m     \u001b[0;32mif\u001b[0m \u001b[0misinstance\u001b[0m\u001b[0;34m(\u001b[0m\u001b[0mv\u001b[0m\u001b[0;34m,\u001b[0m \u001b[0mtuple\u001b[0m\u001b[0;34m)\u001b[0m\u001b[0;34m:\u001b[0m\u001b[0;34m\u001b[0m\u001b[0;34m\u001b[0m\u001b[0m\n\u001b[1;32m    126\u001b[0m         \u001b[0;32mfor\u001b[0m \u001b[0mx\u001b[0m \u001b[0;32min\u001b[0m \u001b[0mv\u001b[0m\u001b[0;34m:\u001b[0m\u001b[0;34m\u001b[0m\u001b[0;34m\u001b[0m\u001b[0m\n",
      "\u001b[0;32m/private/var/tmp/sage-9.5-current/local/var/lib/sage/venv-python3.9.9/lib/python3.9/site-packages/sage/symbolic/ring.pyx\u001b[0m in \u001b[0;36msage.symbolic.ring.SymbolicRing.var (build/cythonized/sage/symbolic/ring.c:8461)\u001b[0;34m()\u001b[0m\n\u001b[1;32m    897\u001b[0m         \u001b[0;32mfor\u001b[0m \u001b[0ms\u001b[0m \u001b[0;32min\u001b[0m \u001b[0mnames_list\u001b[0m\u001b[0;34m:\u001b[0m\u001b[0;34m\u001b[0m\u001b[0;34m\u001b[0m\u001b[0m\n\u001b[1;32m    898\u001b[0m             \u001b[0;32mif\u001b[0m \u001b[0;32mnot\u001b[0m \u001b[0misidentifier\u001b[0m\u001b[0;34m(\u001b[0m\u001b[0ms\u001b[0m\u001b[0;34m)\u001b[0m\u001b[0;34m:\u001b[0m\u001b[0;34m\u001b[0m\u001b[0;34m\u001b[0m\u001b[0m\n\u001b[0;32m--> 899\u001b[0;31m                 \u001b[0;32mraise\u001b[0m \u001b[0mValueError\u001b[0m\u001b[0;34m(\u001b[0m\u001b[0;34mf'The name \"{s}\" is not a valid Python identifier.'\u001b[0m\u001b[0;34m)\u001b[0m\u001b[0;34m\u001b[0m\u001b[0;34m\u001b[0m\u001b[0m\n\u001b[0m\u001b[1;32m    900\u001b[0m             \u001b[0;31m# warn on bad symbol names, but only once\u001b[0m\u001b[0;34m\u001b[0m\u001b[0;34m\u001b[0m\u001b[0m\n\u001b[1;32m    901\u001b[0m             \u001b[0;31m# symbol... names are temporary variables created with\u001b[0m\u001b[0;34m\u001b[0m\u001b[0;34m\u001b[0m\u001b[0m\n",
      "\u001b[0;31mValueError\u001b[0m: The name \"rU0[ijk]\" is not a valid Python identifier."
     ]
    }
   ],
   "source": [
    "var(\"rU0[ijk]\")"
   ]
  },
  {
   "cell_type": "code",
   "execution_count": 6,
   "id": "9ba1ae6e-a38c-4980-8543-4c15a9906343",
   "metadata": {
    "tags": []
   },
   "outputs": [],
   "source": [
    "# update the names (since its a cope from module Sg\n",
    "from SageToC import *"
   ]
  },
  {
   "cell_type": "code",
   "execution_count": 9,
   "id": "5687b3e9-cbe0-444b-9209-afca0434a4fb",
   "metadata": {},
   "outputs": [
    {
     "data": {
      "text/html": [
       "<html>\\[\\newcommand{\\Bold}[1]{\\mathbf{#1}}\\alpha\\]</html>"
      ],
      "text/latex": [
       "$$\\newcommand{\\Bold}[1]{\\mathbf{#1}}\\alpha$$"
      ],
      "text/plain": [
       "alpha"
      ]
     },
     "execution_count": 9,
     "metadata": {},
     "output_type": "execute_result"
    }
   ],
   "source": [
    "alpha.expr()"
   ]
  },
  {
   "cell_type": "code",
   "execution_count": 7,
   "id": "c2fab3d7-135e-4a1b-8e92-d1407f5700cb",
   "metadata": {
    "tags": []
   },
   "outputs": [
    {
     "data": {
      "text/html": [
       "<html>\\[\\newcommand{\\Bold}[1]{\\mathbf{#1}}\\begin{array}{lcl} rU_{\\phantom{\\, t}}^{ \\, t } & = & \\mathit{rU}_{0} \\\\ rU_{\\phantom{\\, x}}^{ \\, x } & = & \\mathit{rU}_{1} \\\\ rU_{\\phantom{\\, y}}^{ \\, y } & = & \\mathit{rU}_{2} \\\\ rU_{\\phantom{\\, z}}^{ \\, z } & = & \\mathit{rU}_{3} \\end{array}\\]</html>"
      ],
      "text/latex": [
       "$$\\newcommand{\\Bold}[1]{\\mathbf{#1}}\\begin{array}{lcl} rU_{\\phantom{\\, t}}^{ \\, t } & = & \\mathit{rU}_{0} \\\\ rU_{\\phantom{\\, x}}^{ \\, x } & = & \\mathit{rU}_{1} \\\\ rU_{\\phantom{\\, y}}^{ \\, y } & = & \\mathit{rU}_{2} \\\\ rU_{\\phantom{\\, z}}^{ \\, z } & = & \\mathit{rU}_{3} \\end{array}$$"
      ],
      "text/plain": [
       "rU^t = rU0 \n",
       "rU^x = rU1 \n",
       "rU^y = rU2 \n",
       "rU^z = rU3 "
      ]
     },
     "execution_count": 7,
     "metadata": {},
     "output_type": "execute_result"
    }
   ],
   "source": [
    "rU.display_comp()"
   ]
  },
  {
   "cell_type": "code",
   "execution_count": 8,
   "id": "917f7a42-891a-40da-aebf-b66aea3f04db",
   "metadata": {},
   "outputs": [
    {
     "data": {
      "text/html": [
       "<html>\\[\\newcommand{\\Bold}[1]{\\mathbf{#1}}\\begin{array}{lcl} MDD_{ \\, t \\, t }^{ \\phantom{\\, t}\\phantom{\\, t} } & = & \\mathit{MDD}_{00} \\\\ MDD_{ \\, t \\, x }^{ \\phantom{\\, t}\\phantom{\\, x} } & = & \\mathit{MDD}_{01} \\\\ MDD_{ \\, t \\, y }^{ \\phantom{\\, t}\\phantom{\\, y} } & = & \\mathit{MDD}_{02} \\\\ MDD_{ \\, t \\, z }^{ \\phantom{\\, t}\\phantom{\\, z} } & = & \\mathit{MDD}_{03} \\\\ MDD_{ \\, x \\, t }^{ \\phantom{\\, x}\\phantom{\\, t} } & = & \\mathit{MDD}_{01} \\\\ MDD_{ \\, x \\, x }^{ \\phantom{\\, x}\\phantom{\\, x} } & = & \\mathit{MDD}_{11} \\\\ MDD_{ \\, x \\, y }^{ \\phantom{\\, x}\\phantom{\\, y} } & = & \\mathit{MDD}_{12} \\\\ MDD_{ \\, x \\, z }^{ \\phantom{\\, x}\\phantom{\\, z} } & = & \\mathit{MDD}_{13} \\\\ MDD_{ \\, y \\, t }^{ \\phantom{\\, y}\\phantom{\\, t} } & = & \\mathit{MDD}_{02} \\\\ MDD_{ \\, y \\, x }^{ \\phantom{\\, y}\\phantom{\\, x} } & = & \\mathit{MDD}_{12} \\\\ MDD_{ \\, y \\, y }^{ \\phantom{\\, y}\\phantom{\\, y} } & = & \\mathit{MDD}_{22} \\\\ MDD_{ \\, y \\, z }^{ \\phantom{\\, y}\\phantom{\\, z} } & = & \\mathit{MDD}_{23} \\\\ MDD_{ \\, z \\, t }^{ \\phantom{\\, z}\\phantom{\\, t} } & = & \\mathit{MDD}_{03} \\\\ MDD_{ \\, z \\, x }^{ \\phantom{\\, z}\\phantom{\\, x} } & = & \\mathit{MDD}_{13} \\\\ MDD_{ \\, z \\, y }^{ \\phantom{\\, z}\\phantom{\\, y} } & = & \\mathit{MDD}_{23} \\\\ MDD_{ \\, z \\, z }^{ \\phantom{\\, z}\\phantom{\\, z} } & = & \\mathit{MDD}_{33} \\end{array}\\]</html>"
      ],
      "text/latex": [
       "$$\\newcommand{\\Bold}[1]{\\mathbf{#1}}\\begin{array}{lcl} MDD_{ \\, t \\, t }^{ \\phantom{\\, t}\\phantom{\\, t} } & = & \\mathit{MDD}_{00} \\\\ MDD_{ \\, t \\, x }^{ \\phantom{\\, t}\\phantom{\\, x} } & = & \\mathit{MDD}_{01} \\\\ MDD_{ \\, t \\, y }^{ \\phantom{\\, t}\\phantom{\\, y} } & = & \\mathit{MDD}_{02} \\\\ MDD_{ \\, t \\, z }^{ \\phantom{\\, t}\\phantom{\\, z} } & = & \\mathit{MDD}_{03} \\\\ MDD_{ \\, x \\, t }^{ \\phantom{\\, x}\\phantom{\\, t} } & = & \\mathit{MDD}_{01} \\\\ MDD_{ \\, x \\, x }^{ \\phantom{\\, x}\\phantom{\\, x} } & = & \\mathit{MDD}_{11} \\\\ MDD_{ \\, x \\, y }^{ \\phantom{\\, x}\\phantom{\\, y} } & = & \\mathit{MDD}_{12} \\\\ MDD_{ \\, x \\, z }^{ \\phantom{\\, x}\\phantom{\\, z} } & = & \\mathit{MDD}_{13} \\\\ MDD_{ \\, y \\, t }^{ \\phantom{\\, y}\\phantom{\\, t} } & = & \\mathit{MDD}_{02} \\\\ MDD_{ \\, y \\, x }^{ \\phantom{\\, y}\\phantom{\\, x} } & = & \\mathit{MDD}_{12} \\\\ MDD_{ \\, y \\, y }^{ \\phantom{\\, y}\\phantom{\\, y} } & = & \\mathit{MDD}_{22} \\\\ MDD_{ \\, y \\, z }^{ \\phantom{\\, y}\\phantom{\\, z} } & = & \\mathit{MDD}_{23} \\\\ MDD_{ \\, z \\, t }^{ \\phantom{\\, z}\\phantom{\\, t} } & = & \\mathit{MDD}_{03} \\\\ MDD_{ \\, z \\, x }^{ \\phantom{\\, z}\\phantom{\\, x} } & = & \\mathit{MDD}_{13} \\\\ MDD_{ \\, z \\, y }^{ \\phantom{\\, z}\\phantom{\\, y} } & = & \\mathit{MDD}_{23} \\\\ MDD_{ \\, z \\, z }^{ \\phantom{\\, z}\\phantom{\\, z} } & = & \\mathit{MDD}_{33} \\end{array}$$"
      ],
      "text/plain": [
       "MDD_tt = MDD00 \n",
       "MDD_tx = MDD01 \n",
       "MDD_ty = MDD02 \n",
       "MDD_tz = MDD03 \n",
       "MDD_xt = MDD01 \n",
       "MDD_xx = MDD11 \n",
       "MDD_xy = MDD12 \n",
       "MDD_xz = MDD13 \n",
       "MDD_yt = MDD02 \n",
       "MDD_yx = MDD12 \n",
       "MDD_yy = MDD22 \n",
       "MDD_yz = MDD23 \n",
       "MDD_zt = MDD03 \n",
       "MDD_zx = MDD13 \n",
       "MDD_zy = MDD23 \n",
       "MDD_zz = MDD33 "
      ]
     },
     "execution_count": 8,
     "metadata": {},
     "output_type": "execute_result"
    }
   ],
   "source": [
    "MDD.display_comp()"
   ]
  },
  {
   "cell_type": "code",
   "execution_count": 41,
   "id": "205efb0b-f8c7-4f15-80ce-9dec7a3b8cc3",
   "metadata": {},
   "outputs": [
    {
     "data": {
      "text/html": [
       "<html>\\[\\newcommand{\\Bold}[1]{\\mathbf{#1}}\\verb|ab|\\]</html>"
      ],
      "text/latex": [
       "$$\\newcommand{\\Bold}[1]{\\mathbf{#1}}\\verb|ab|$$"
      ],
      "text/plain": [
       "'ab'"
      ]
     },
     "execution_count": 41,
     "metadata": {},
     "output_type": "execute_result"
    }
   ],
   "source": [
    "import re\n",
    "rr = re.compile(r\"ab*\")\n",
    "rr.match(\"abc\").group()"
   ]
  },
  {
   "cell_type": "code",
   "execution_count": 8,
   "id": "553854dc-c766-4dc4-9a7b-fd0502c56b1b",
   "metadata": {},
   "outputs": [
    {
     "data": {
      "text/plain": [
       "True"
      ]
     },
     "execution_count": 8,
     "metadata": {},
     "output_type": "execute_result"
    }
   ],
   "source": [
    "\"set component\" in \"set component: grid function\""
   ]
  },
  {
   "cell_type": "code",
   "execution_count": 2,
   "id": "c79e934f-cb67-4a9d-9a89-6ffa6b1bf5f4",
   "metadata": {},
   "outputs": [],
   "source": [
    "import enum\n",
    "class Animal(enum.Enum):\n",
    "    dog = enum.auto()\n",
    "    cat = enum.auto()\n",
    "    lion = enum.auto()"
   ]
  },
  {
   "cell_type": "code",
   "execution_count": 6,
   "id": "e56cd140-ca95-4f67-8b21-ea10cb65c2c6",
   "metadata": {},
   "outputs": [
    {
     "data": {
      "text/plain": [
       "True"
      ]
     },
     "execution_count": 6,
     "metadata": {},
     "output_type": "execute_result"
    }
   ],
   "source": [
    "Animal.cat.name == 'cat'"
   ]
  },
  {
   "cell_type": "code",
   "execution_count": 51,
   "id": "384f76cc-c53c-4a61-b757-c4433233ca3e",
   "metadata": {},
   "outputs": [
    {
     "data": {
      "text/plain": [
       "True"
      ]
     },
     "execution_count": 51,
     "metadata": {},
     "output_type": "execute_result"
    }
   ],
   "source": [
    "compname[0:len(varname)] != varname"
   ]
  },
  {
   "cell_type": "code",
   "execution_count": 7,
   "id": "65db2f9b-a49e-492a-afd8-d7803f98942e",
   "metadata": {},
   "outputs": [],
   "source": [
    "my_dict2 = []"
   ]
  },
  {
   "cell_type": "code",
   "execution_count": 8,
   "id": "efcac03c-e0ef-4638-91cd-400bf44137b1",
   "metadata": {},
   "outputs": [
    {
     "data": {
      "text/plain": [
       "0"
      ]
     },
     "execution_count": 8,
     "metadata": {},
     "output_type": "execute_result"
    }
   ],
   "source": [
    "len(my_dict2)"
   ]
  },
  {
   "cell_type": "code",
   "execution_count": 21,
   "id": "96031e34-3ca8-4c81-9655-b451e8efe87e",
   "metadata": {},
   "outputs": [],
   "source": [
    "my_dict2.append([\"java\",100])\n",
    "my_dict2.append([\"python\",112])\n",
    "my_dict2.append([\"c\",11])"
   ]
  },
  {
   "cell_type": "code",
   "execution_count": 52,
   "id": "b71e7356-d471-4048-a422-aa03154fc3c6",
   "metadata": {},
   "outputs": [
    {
     "data": {
      "text/plain": [
       "[['java', 100], ['python', 112], ['c', 11]]"
      ]
     },
     "execution_count": 52,
     "metadata": {},
     "output_type": "execute_result"
    }
   ],
   "source": [
    "my_dict2"
   ]
  },
  {
   "cell_type": "code",
   "execution_count": 53,
   "id": "ec80dabd-3bdd-467f-a101-5a9f0910f48e",
   "metadata": {},
   "outputs": [
    {
     "name": "stdout",
     "output_type": "stream",
     "text": [
      "0\n",
      "1\n",
      "2\n"
     ]
    }
   ],
   "source": [
    "for i in range(len(my_dict2)):\n",
    "    print(i)"
   ]
  },
  {
   "cell_type": "code",
   "execution_count": 26,
   "id": "7fa7c318-5248-4d59-8643-32b1a840d845",
   "metadata": {},
   "outputs": [
    {
     "data": {
      "text/plain": [
       "11"
      ]
     },
     "execution_count": 26,
     "metadata": {},
     "output_type": "execute_result"
    }
   ],
   "source": [
    "my_dict2[-1][1]"
   ]
  },
  {
   "cell_type": "code",
   "execution_count": 1,
   "id": "1f48b441-5590-41ee-b8a0-66cb466bf435",
   "metadata": {},
   "outputs": [],
   "source": [
    "my_dict ={\"java\":100, \"python\":112, \"c\":11}"
   ]
  },
  {
   "cell_type": "code",
   "execution_count": 14,
   "id": "698e5f66-0aab-42b2-89dd-be72e449585d",
   "metadata": {},
   "outputs": [
    {
     "data": {
      "text/plain": [
       "11"
      ]
     },
     "execution_count": 14,
     "metadata": {},
     "output_type": "execute_result"
    }
   ],
   "source": [
    "list(my_dict.values())[-1]"
   ]
  },
  {
   "cell_type": "code",
   "execution_count": 6,
   "id": "8f578ef2-699e-4191-94c4-502c2cae1628",
   "metadata": {},
   "outputs": [
    {
     "data": {
      "text/plain": [
       "3"
      ]
     },
     "execution_count": 6,
     "metadata": {},
     "output_type": "execute_result"
    }
   ],
   "source": [
    "len(my_dict)"
   ]
  },
  {
   "cell_type": "code",
   "execution_count": 2,
   "id": "7267b314-67cd-4eb4-a7a5-2a3931a1894a",
   "metadata": {},
   "outputs": [
    {
     "name": "stdout",
     "output_type": "stream",
     "text": [
      "['java', 'python', 'c']\n",
      "[100, 112, 11]\n"
     ]
    }
   ],
   "source": [
    "key_list = list(my_dict.keys())\n",
    "print(key_list)\n",
    "value_list = list(my_dict.values())\n",
    "print(value_list)"
   ]
  },
  {
   "cell_type": "code",
   "execution_count": 4,
   "id": "51128ce9-6557-4f02-9d4d-6877aacefb87",
   "metadata": {
    "tags": []
   },
   "outputs": [
    {
     "name": "stdout",
     "output_type": "stream",
     "text": [
      "python\n"
     ]
    }
   ],
   "source": [
    "position = value_list.index(112)\n",
    "print(key_list[position])"
   ]
  },
  {
   "cell_type": "code",
   "execution_count": 5,
   "id": "04b87d2e-95df-45c6-8513-38fff64c7031",
   "metadata": {},
   "outputs": [
    {
     "name": "stdout",
     "output_type": "stream",
     "text": [
      "c\n"
     ]
    }
   ],
   "source": [
    "position = value_list.index(11)\n",
    "print(key_list[position])"
   ]
  },
  {
   "cell_type": "code",
   "execution_count": 17,
   "id": "eb80eebe-ce6f-4143-a41a-927103f5ca26",
   "metadata": {},
   "outputs": [
    {
     "data": {
      "text/plain": [
       "100"
      ]
     },
     "execution_count": 17,
     "metadata": {},
     "output_type": "execute_result"
    }
   ],
   "source": [
    "my_dict.get(\"java\")"
   ]
  },
  {
   "cell_type": "code",
   "execution_count": 19,
   "id": "e17754ba-edf5-4a42-ad80-d47a408ef8ce",
   "metadata": {},
   "outputs": [
    {
     "data": {
      "text/plain": [
       "11"
      ]
     },
     "execution_count": 19,
     "metadata": {},
     "output_type": "execute_result"
    }
   ],
   "source": [
    "my_dict[\"c\"]"
   ]
  },
  {
   "cell_type": "code",
   "execution_count": 9,
   "id": "59a01eab-d0e2-499b-a2f3-1d02d44a83fd",
   "metadata": {},
   "outputs": [],
   "source": [
    "[a1, b1, c1, d1] = return_list()"
   ]
  },
  {
   "cell_type": "code",
   "execution_count": 11,
   "id": "39a10fd5-c26a-429d-9b16-ddbff92fbc3f",
   "metadata": {},
   "outputs": [
    {
     "data": {
      "text/html": [
       "<html>\\[\\newcommand{\\Bold}[1]{\\mathbf{#1}}9\\]</html>"
      ],
      "text/latex": [
       "$$\\newcommand{\\Bold}[1]{\\mathbf{#1}}9$$"
      ],
      "text/plain": [
       "9"
      ]
     },
     "execution_count": 11,
     "metadata": {},
     "output_type": "execute_result"
    }
   ],
   "source": [
    "d1"
   ]
  },
  {
   "cell_type": "code",
   "execution_count": 47,
   "id": "782fcfe5-1a1f-4d1d-b29b-209f28e3d101",
   "metadata": {},
   "outputs": [
    {
     "name": "stdout",
     "output_type": "stream",
     "text": [
      "(1, 2, None, None)\n"
     ]
    }
   ],
   "source": [
    "ii = (aa, bb, cc, dd)\n",
    "print(ii)"
   ]
  },
  {
   "cell_type": "code",
   "execution_count": 50,
   "id": "05a14330-295e-4186-8df3-96c1f7656645",
   "metadata": {},
   "outputs": [
    {
     "name": "stdout",
     "output_type": "stream",
     "text": [
      "(1, 2)\n"
     ]
    }
   ],
   "source": [
    "ii = tuple([i for i in [aa, bb, cc, dd] if i])\n",
    "print(ii)"
   ]
  },
  {
   "cell_type": "code",
   "execution_count": 33,
   "id": "4d33c85f-ffec-424d-a177-24b5924b7671",
   "metadata": {},
   "outputs": [
    {
     "data": {
      "text/html": [
       "<html>\\[\\newcommand{\\Bold}[1]{\\mathbf{#1}}\\mathit{MDD}_{12}\\]</html>"
      ],
      "text/latex": [
       "$$\\newcommand{\\Bold}[1]{\\mathbf{#1}}\\mathit{MDD}_{12}$$"
      ],
      "text/plain": [
       "MDD12"
      ]
     },
     "execution_count": 33,
     "metadata": {},
     "output_type": "execute_result"
    }
   ],
   "source": [
    "MDD[bb]"
   ]
  },
  {
   "cell_type": "code",
   "execution_count": 21,
   "id": "d3fdf2d0-ba74-42fc-b5d1-3a01dccfe7fd",
   "metadata": {},
   "outputs": [
    {
     "data": {
      "text/html": [
       "<html>\\[\\newcommand{\\Bold}[1]{\\mathbf{#1}}\\mathit{MDD}_{11}\\]</html>"
      ],
      "text/latex": [
       "$$\\newcommand{\\Bold}[1]{\\mathbf{#1}}\\mathit{MDD}_{11}$$"
      ],
      "text/plain": [
       "MDD11"
      ]
     },
     "execution_count": 21,
     "metadata": {},
     "output_type": "execute_result"
    }
   ],
   "source": [
    "MDD[1, 1]"
   ]
  },
  {
   "cell_type": "code",
   "execution_count": 10,
   "id": "7e34250d-14ef-4e84-bce8-661943601c6d",
   "metadata": {},
   "outputs": [],
   "source": [
    "alpha = manifd.scalar_field(name='alpha')"
   ]
  },
  {
   "cell_type": "code",
   "execution_count": 11,
   "id": "73617432-52e2-48b4-a5c7-f921ff7ebb66",
   "metadata": {},
   "outputs": [],
   "source": [
    "alpha.add_expr(var('alpha'))"
   ]
  },
  {
   "cell_type": "code",
   "execution_count": 13,
   "id": "4acfa63e-ebc8-46fd-b92f-ceecd08c477f",
   "metadata": {},
   "outputs": [
    {
     "data": {
      "text/html": [
       "<html>\\[\\newcommand{\\Bold}[1]{\\mathbf{#1}}\\alpha\\]</html>"
      ],
      "text/latex": [
       "$$\\newcommand{\\Bold}[1]{\\mathbf{#1}}\\alpha$$"
      ],
      "text/plain": [
       "alpha"
      ]
     },
     "execution_count": 13,
     "metadata": {},
     "output_type": "execute_result"
    }
   ],
   "source": [
    "Sg.alpha.expr()"
   ]
  },
  {
   "cell_type": "code",
   "execution_count": 19,
   "id": "2b355bed-a156-414b-b44b-e9f3a6f43fc5",
   "metadata": {},
   "outputs": [
    {
     "data": {
      "text/html": [
       "<html>\\[\\newcommand{\\Bold}[1]{\\mathbf{#1}}\\mathit{MDD}_{11}\\]</html>"
      ],
      "text/latex": [
       "$$\\newcommand{\\Bold}[1]{\\mathbf{#1}}\\mathit{MDD}_{11}$$"
      ],
      "text/plain": [
       "MDD11"
      ]
     },
     "execution_count": 19,
     "metadata": {},
     "output_type": "execute_result"
    }
   ],
   "source": [
    "MDD[1,1].expr()"
   ]
  },
  {
   "cell_type": "code",
   "execution_count": 10,
   "id": "a791e1a9-33bf-43ff-a60e-1621a614d6f0",
   "metadata": {},
   "outputs": [],
   "source": [
    "aa = [[1, 2, 3], [4, 5, 6]]"
   ]
  },
  {
   "cell_type": "code",
   "execution_count": 13,
   "id": "39e130bd-d7ab-494d-8250-48839b1f754c",
   "metadata": {},
   "outputs": [
    {
     "data": {
      "text/html": [
       "<html>\\[\\newcommand{\\Bold}[1]{\\mathbf{#1}}6\\]</html>"
      ],
      "text/latex": [
       "$$\\newcommand{\\Bold}[1]{\\mathbf{#1}}6$$"
      ],
      "text/plain": [
       "6"
      ]
     },
     "execution_count": 13,
     "metadata": {},
     "output_type": "execute_result"
    }
   ],
   "source": [
    "aa[1][2]"
   ]
  },
  {
   "cell_type": "code",
   "execution_count": 14,
   "id": "eb823567-60fd-4b6c-b7ec-8c4b48719c83",
   "metadata": {},
   "outputs": [],
   "source": [
    "bb = [1]"
   ]
  },
  {
   "cell_type": "markdown",
   "id": "f7a5ed15-d5ff-4cdd-a3db-3de7898c3615",
   "metadata": {},
   "source": [
    "## Sage"
   ]
  },
  {
   "cell_type": "markdown",
   "id": "d669f277-c41c-43b8-a06f-09636f2e5a7c",
   "metadata": {},
   "source": [
    "### test"
   ]
  },
  {
   "cell_type": "code",
   "execution_count": null,
   "id": "f740c081-0471-4c12-850a-29812f242e34",
   "metadata": {
    "collapsed": true,
    "jupyter": {
     "outputs_hidden": true
    },
    "tags": []
   },
   "outputs": [
    {
     "ename": "NameError",
     "evalue": "name 'Sg' is not defined",
     "output_type": "error",
     "traceback": [
      "\u001b[0;31m---------------------------------------------------------------------------\u001b[0m",
      "\u001b[0;31mNameError\u001b[0m                                 Traceback (most recent call last)",
      "\u001b[0;32m/var/folders/13/bmxcpt490x94j1m9n4_mpg880000gn/T/ipykernel_27880/865760897.py\u001b[0m in \u001b[0;36m<module>\u001b[0;34m\u001b[0m\n\u001b[0;32m----> 1\u001b[0;31m \u001b[0mtemp\u001b[0m \u001b[0;34m=\u001b[0m \u001b[0mSg\u001b[0m\u001b[0;34m.\u001b[0m\u001b[0mmanifd\u001b[0m\u001b[0;34m.\u001b[0m\u001b[0mtensor_field\u001b[0m\u001b[0;34m(\u001b[0m\u001b[0mInteger\u001b[0m\u001b[0;34m(\u001b[0m\u001b[0;36m0\u001b[0m\u001b[0;34m)\u001b[0m\u001b[0;34m,\u001b[0m\u001b[0mInteger\u001b[0m\u001b[0;34m(\u001b[0m\u001b[0;36m2\u001b[0m\u001b[0;34m)\u001b[0m\u001b[0;34m,\u001b[0m \u001b[0mname\u001b[0m\u001b[0;34m=\u001b[0m\u001b[0;34m'M'\u001b[0m\u001b[0;34m,\u001b[0m \u001b[0msym\u001b[0m\u001b[0;34m=\u001b[0m\u001b[0;34m(\u001b[0m\u001b[0mInteger\u001b[0m\u001b[0;34m(\u001b[0m\u001b[0;36m0\u001b[0m\u001b[0;34m)\u001b[0m\u001b[0;34m,\u001b[0m\u001b[0mInteger\u001b[0m\u001b[0;34m(\u001b[0m\u001b[0;36m1\u001b[0m\u001b[0;34m)\u001b[0m\u001b[0;34m)\u001b[0m\u001b[0;34m)\u001b[0m\u001b[0;34m\u001b[0m\u001b[0;34m\u001b[0m\u001b[0m\n\u001b[0m",
      "\u001b[0;31mNameError\u001b[0m: name 'Sg' is not defined"
     ]
    }
   ],
   "source": [
    "temp = Sg.manifd.tensor_field(0,2, name='M', sym=(0,1))"
   ]
  },
  {
   "cell_type": "code",
   "execution_count": 1,
   "id": "53cf420c-b478-4c98-8f5a-467f531d9ba9",
   "metadata": {
    "collapsed": true,
    "jupyter": {
     "outputs_hidden": true
    },
    "tags": []
   },
   "outputs": [
    {
     "ename": "NameError",
     "evalue": "name 'temp' is not defined",
     "output_type": "error",
     "traceback": [
      "\u001b[0;31m---------------------------------------------------------------------------\u001b[0m",
      "\u001b[0;31mNameError\u001b[0m                                 Traceback (most recent call last)",
      "\u001b[0;32m/var/folders/13/bmxcpt490x94j1m9n4_mpg880000gn/T/ipykernel_27880/2575713452.py\u001b[0m in \u001b[0;36m<module>\u001b[0;34m\u001b[0m\n\u001b[0;32m----> 1\u001b[0;31m \u001b[0mtemp\u001b[0m\u001b[0;34m[\u001b[0m\u001b[0mInteger\u001b[0m\u001b[0;34m(\u001b[0m\u001b[0;36m0\u001b[0m\u001b[0;34m)\u001b[0m\u001b[0;34m,\u001b[0m\u001b[0mInteger\u001b[0m\u001b[0;34m(\u001b[0m\u001b[0;36m0\u001b[0m\u001b[0;34m)\u001b[0m\u001b[0;34m]\u001b[0m \u001b[0;34m=\u001b[0m \u001b[0mvar\u001b[0m\u001b[0;34m(\u001b[0m\u001b[0;34m'M00_ijk_'\u001b[0m\u001b[0;34m)\u001b[0m\u001b[0;34m\u001b[0m\u001b[0;34m\u001b[0m\u001b[0m\n\u001b[0m",
      "\u001b[0;31mNameError\u001b[0m: name 'temp' is not defined"
     ]
    }
   ],
   "source": [
    "temp[0,0] = var('M00_ijk_')"
   ]
  },
  {
   "cell_type": "code",
   "execution_count": 37,
   "id": "9308baa9-1610-499e-bf63-a443219c54c8",
   "metadata": {},
   "outputs": [
    {
     "data": {
      "text/html": [
       "<html>\\[\\newcommand{\\Bold}[1]{\\mathbf{#1}}\\begin{array}{lcl} M_{ \\, t \\, t }^{ \\phantom{\\, t}\\phantom{\\, t} } & = & M_{00} \\end{array}\\]</html>"
      ],
      "text/latex": [
       "$$\\newcommand{\\Bold}[1]{\\mathbf{#1}}\\begin{array}{lcl} M_{ \\, t \\, t }^{ \\phantom{\\, t}\\phantom{\\, t} } & = & M_{00} \\end{array}$$"
      ],
      "text/plain": [
       "M_tt = M00 "
      ]
     },
     "execution_count": 37,
     "metadata": {},
     "output_type": "execute_result"
    }
   ],
   "source": [
    "temp.display_comp()"
   ]
  },
  {
   "cell_type": "code",
   "execution_count": 6,
   "id": "8a3c60c2-3725-4c85-a9cf-58341f0027b0",
   "metadata": {},
   "outputs": [],
   "source": [
    "U = STC_manifd.tensor_field(1,0, name='u')"
   ]
  },
  {
   "cell_type": "code",
   "execution_count": 7,
   "id": "e2be717e-86ae-4df5-9206-b199ad7e3a73",
   "metadata": {},
   "outputs": [
    {
     "data": {
      "text/html": [
       "<html>\\[\\newcommand{\\Bold}[1]{\\mathbf{#1}}\\verb|u|\\]</html>"
      ],
      "text/latex": [
       "$$\\newcommand{\\Bold}[1]{\\mathbf{#1}}\\verb|u|$$"
      ],
      "text/plain": [
       "'u'"
      ]
     },
     "execution_count": 7,
     "metadata": {},
     "output_type": "execute_result"
    }
   ],
   "source": [
    "U._name"
   ]
  },
  {
   "cell_type": "code",
   "execution_count": 9,
   "id": "0663d91e-c9c1-42f8-9ead-eb3af971be21",
   "metadata": {},
   "outputs": [],
   "source": [
    "temp = M._sym"
   ]
  },
  {
   "cell_type": "code",
   "execution_count": 10,
   "id": "b7afd807-18a2-4d14-8f02-8c9445b40527",
   "metadata": {},
   "outputs": [
    {
     "data": {
      "text/html": [
       "<html>\\[\\newcommand{\\Bold}[1]{\\mathbf{#1}}\\left(0, 1\\right)\\]</html>"
      ],
      "text/latex": [
       "$$\\newcommand{\\Bold}[1]{\\mathbf{#1}}\\left(0, 1\\right)$$"
      ],
      "text/plain": [
       "(0, 1)"
      ]
     },
     "execution_count": 10,
     "metadata": {},
     "output_type": "execute_result"
    }
   ],
   "source": [
    "temp[0]"
   ]
  },
  {
   "cell_type": "code",
   "execution_count": 11,
   "id": "68dd67c6-1ec0-49c2-905e-0b8d89995804",
   "metadata": {},
   "outputs": [
    {
     "name": "stdout",
     "output_type": "stream",
     "text": [
      "symmetry: (0, 1); no antisymmetry\n"
     ]
    }
   ],
   "source": [
    "M.symmetries()"
   ]
  },
  {
   "cell_type": "markdown",
   "id": "c89897b3-2125-43fd-a03f-dd8bffb22848",
   "metadata": {
    "tags": []
   },
   "source": [
    "## Read str"
   ]
  },
  {
   "cell_type": "code",
   "execution_count": 10,
   "id": "8821444f-d25e-4ecd-8676-314a802dac81",
   "metadata": {},
   "outputs": [],
   "source": [
    "index = []\n",
    "for ii in string.ascii_lowercase:\n",
    "    index.append(ii)"
   ]
  },
  {
   "cell_type": "code",
   "execution_count": 12,
   "id": "b60014ee-c908-4da8-a0ff-6df48223a99e",
   "metadata": {},
   "outputs": [
    {
     "data": {
      "text/html": [
       "<html>\\[\\newcommand{\\Bold}[1]{\\mathbf{#1}}\\left[\\verb|a|, \\verb|b|, \\verb|c|, \\verb|d|, \\verb|e|, \\verb|f|, \\verb|g|, \\verb|h|, \\verb|i|, \\verb|j|, \\verb|k|, \\verb|l|, \\verb|m|, \\verb|n|, \\verb|o|, \\verb|p|, \\verb|q|, \\verb|r|, \\verb|s|, \\verb|t|, \\verb|u|, \\verb|v|, \\verb|w|, \\verb|x|, \\verb|y|, \\verb|z|\\right]\\]</html>"
      ],
      "text/latex": [
       "$$\\newcommand{\\Bold}[1]{\\mathbf{#1}}\\left[\\verb|a|, \\verb|b|, \\verb|c|, \\verb|d|, \\verb|e|, \\verb|f|, \\verb|g|, \\verb|h|, \\verb|i|, \\verb|j|, \\verb|k|, \\verb|l|, \\verb|m|, \\verb|n|, \\verb|o|, \\verb|p|, \\verb|q|, \\verb|r|, \\verb|s|, \\verb|t|, \\verb|u|, \\verb|v|, \\verb|w|, \\verb|x|, \\verb|y|, \\verb|z|\\right]$$"
      ],
      "text/plain": [
       "['a',\n",
       " 'b',\n",
       " 'c',\n",
       " 'd',\n",
       " 'e',\n",
       " 'f',\n",
       " 'g',\n",
       " 'h',\n",
       " 'i',\n",
       " 'j',\n",
       " 'k',\n",
       " 'l',\n",
       " 'm',\n",
       " 'n',\n",
       " 'o',\n",
       " 'p',\n",
       " 'q',\n",
       " 'r',\n",
       " 's',\n",
       " 't',\n",
       " 'u',\n",
       " 'v',\n",
       " 'w',\n",
       " 'x',\n",
       " 'y',\n",
       " 'z']"
      ]
     },
     "execution_count": 12,
     "metadata": {},
     "output_type": "execute_result"
    }
   ],
   "source": [
    "index"
   ]
  },
  {
   "cell_type": "code",
   "execution_count": 12,
   "id": "f0d0b9e5-e9c8-4216-acaa-3f1149d5d5bd",
   "metadata": {},
   "outputs": [
    {
     "data": {
      "text/html": [
       "<html>\\[\\newcommand{\\Bold}[1]{\\mathbf{#1}}\\left(a, b, c, d, e, f, g, h, i, j, k, l, m, n, o, p, q, r, s, t, u, v, w, x, y, z\\right)\\]</html>"
      ],
      "text/latex": [
       "$$\\newcommand{\\Bold}[1]{\\mathbf{#1}}\\left(a, b, c, d, e, f, g, h, i, j, k, l, m, n, o, p, q, r, s, t, u, v, w, x, y, z\\right)$$"
      ],
      "text/plain": [
       "(a, b, c, d, e, f, g, h, i, j, k, l, m, n, o, p, q, r, s, t, u, v, w, x, y, z)"
      ]
     },
     "execution_count": 12,
     "metadata": {},
     "output_type": "execute_result"
    }
   ],
   "source": [
    "var(index)"
   ]
  }
 ],
 "metadata": {
  "kernelspec": {
   "display_name": "SageMath 9.5",
   "language": "sage",
   "name": "sagemath-9.5"
  },
  "language_info": {
   "codemirror_mode": {
    "name": "ipython",
    "version": 3
   },
   "file_extension": ".py",
   "mimetype": "text/x-python",
   "name": "python",
   "nbconvert_exporter": "python",
   "pygments_lexer": "ipython3",
   "version": "3.9.9"
  }
 },
 "nbformat": 4,
 "nbformat_minor": 5
}
